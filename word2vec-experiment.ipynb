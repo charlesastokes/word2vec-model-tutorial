{
 "cells": [
  {
   "cell_type": "markdown",
   "metadata": {},
   "source": [
    "# Exploring Word2Vec Vectorized Embedding Model Training from Scratch\n",
    "\n",
    "# **Warning: this is a work in progress**\n",
    "\n",
    "Implemented a Word2Vev model from scratch, largely following the tutorial linked below, although currently in progress expanding this to additional algorithms and areas of interest\n",
    "\n",
    "https://www.tensorflow.org/text/tutorials/word2vec\n",
    "\n",
    "TODO - describe vectorized embeddings\n",
    "\n",
    "For now, see this blog post - https://txt.cohere.com/sentence-word-embeddings/"
   ]
  },
  {
   "cell_type": "markdown",
   "metadata": {},
   "source": [
    "## Import File and show first 25 lines\n",
    "\n",
    "Load a file with about 6 or so novels from Project Gutenberg, the first book is Mary Shelley's Frankenstein as you can see from the preview "
   ]
  },
  {
   "cell_type": "code",
   "execution_count": 144,
   "metadata": {},
   "outputs": [
    {
     "name": "stdout",
     "output_type": "stream",
     "text": [
      "Letter 1\n",
      "\n",
      "_To Mrs. Saville, England._\n",
      "\n",
      "\n",
      "St. Petersburgh, Dec. 11th, 17—.\n",
      "\n",
      "\n",
      "You will rejoice to hear that no disaster has accompanied the\n",
      "commencement of an enterprise which you have regarded with such evil\n",
      "forebodings. I arrived here yesterday, and my first task is to assure\n",
      "my dear sister of my welfare and increasing confidence in the success\n",
      "of my undertaking.\n",
      "\n",
      "I am already far north of London, and as I walk in the streets of\n",
      "Petersburgh, I feel a cold northern breeze play upon my cheeks, which\n",
      "braces my nerves and fills me with delight. Do you understand this\n",
      "feeling? This breeze, which has travelled from the regions towards\n",
      "which I am advancing, gives me a foretaste of those icy climes.\n",
      "Inspirited by this wind of promise, my daydreams become more fervent\n",
      "and vivid. I try in vain to be persuaded that the pole is the seat of\n",
      "frost and desolation; it ever presents itself to my imagination as the\n",
      "region of beauty and delight. There, Margaret, the sun is for ever\n",
      "visible, its broad disk just skirting the horizon and diffusing a\n",
      "perpetual splendour. There—for with your leave, my sister, I will put\n"
     ]
    }
   ],
   "source": [
    "import io\n",
    "import re\n",
    "import string\n",
    "import tqdm\n",
    "\n",
    "import numpy as np\n",
    "\n",
    "import tensorflow as tf\n",
    "from tensorflow.keras import layers\n",
    "\n",
    "import os\n",
    "\n",
    "file_name = 'some-books-extended.txt'\n",
    "fullPath = os.path.abspath(\"./\" + file_name)\n",
    "path_to_file = tf.keras.utils.get_file(file_name, 'file://'+fullPath)\n",
    "\n",
    "with open(path_to_file) as f:\n",
    "  lines = f.read().splitlines()\n",
    "for line in lines[:25]:\n",
    "  print(line)\n"
   ]
  },
  {
   "cell_type": "markdown",
   "metadata": {},
   "source": [
    "## Remove empty lines from the file"
   ]
  },
  {
   "cell_type": "code",
   "execution_count": 145,
   "metadata": {},
   "outputs": [],
   "source": [
    "text_ds = tf.data.TextLineDataset(path_to_file).filter(lambda x: tf.cast(tf.strings.length(x), bool))"
   ]
  },
  {
   "cell_type": "markdown",
   "metadata": {},
   "source": [
    "## Remove punctuation characters and lowercase all the words\n",
    "\n",
    "Since individual words (tokens) will be used for word vectorization, we wouldn't want to calculate different vectors from \"the\" and \"The\".\n",
    "\n",
    "This function will be called below in the Text Vectorization step"
   ]
  },
  {
   "cell_type": "code",
   "execution_count": 146,
   "metadata": {},
   "outputs": [],
   "source": [
    "# Now, create a custom standardization function to lowercase the text and\n",
    "# remove punctuation.\n",
    "def custom_standardization(input_data):\n",
    "  lowercase = tf.strings.lower(input_data)\n",
    "  return tf.strings.regex_replace(lowercase,\n",
    "                                  '[%s]' % re.escape(string.punctuation), '')\n",
    "\n",
    "\n",
    "\n"
   ]
  },
  {
   "cell_type": "markdown",
   "metadata": {},
   "source": [
    "## Vectorize the text\n",
    "\n",
    "The goal here is to translate words into indexed tokens which the vectors will represent.\n",
    "\n",
    "Note we are calling our standardization method above to pre-process the text.\n",
    "\n",
    "We trim the token size to a max vocabulary, this will remove the least frequently counted tokens.\n",
    "\n",
    "Note - we aren't computing anything yet. We are defining a keras layer in Tensor Flow\n",
    "\n",
    "## Note on changing to Ragged Output - see changes in output sequences"
   ]
  },
  {
   "cell_type": "code",
   "execution_count": 147,
   "metadata": {},
   "outputs": [],
   "source": [
    "# Define the vocabulary size and the number of words in a sequence.\n",
    "vocab_size = 4096\n",
    "sequence_length = 15\n",
    "\n",
    "# Use the `TextVectorization` layer to normalize, split, and map strings to\n",
    "# integers. Set the `output_sequence_length` length to pad all samples to the\n",
    "# same length.\n",
    "vectorize_layer = tf.keras.layers.TextVectorization(\n",
    "    standardize=custom_standardization,\n",
    "    max_tokens=vocab_size,\n",
    "    output_mode='int',\n",
    "    ragged=True,\n",
    "    output_sequence_length=sequence_length)\n",
    "\n",
    "\n"
   ]
  },
  {
   "cell_type": "markdown",
   "metadata": {},
   "source": [
    "## Compute a vocabulary of string terms (tokens)\n",
    "\n",
    "Utilizes the layer defined above\n",
    "\n",
    "From documentation:\n",
    "\n",
    "During adapt(), the layer will build a vocabulary of all string tokens seen in the dataset, sorted by occurrence count, with ties broken by sort order of the tokens (high to low). At the end of adapt(), if max_tokens is set, the vocabulary will be truncated to max_tokens size. For example, adapting a layer with max_tokens=1000 will compute the 1000 most frequent tokens occurring in the input dataset. If output_mode='tf-idf', adapt() will also learn the document frequencies of each token in the input dataset.\n",
    "\n",
    "https://www.tensorflow.org/api_docs/python/tf/keras/layers/TextVectorization#adapt\n",
    "\n",
    "\n",
    "We are referencing the text dataset created above in batches of 1024 characters at a time"
   ]
  },
  {
   "cell_type": "code",
   "execution_count": 148,
   "metadata": {},
   "outputs": [
    {
     "name": "stderr",
     "output_type": "stream",
     "text": [
      "2024-03-31 09:56:16.899146: W tensorflow/core/framework/local_rendezvous.cc:404] Local rendezvous is aborting with status: OUT_OF_RANGE: End of sequence\n"
     ]
    }
   ],
   "source": [
    "#vectorize_layer.adapt(text_ds.batch(1024))\n",
    "vectorize_layer.adapt(text_ds)"
   ]
  },
  {
   "cell_type": "markdown",
   "metadata": {},
   "source": [
    "## View the computed vocabulary (tokens)\n",
    "\n",
    "Ultimately, when we are done, each token will have a multi-dimensional point (well really a vector in pure math terms) that represents it\n",
    "\n",
    "The array is called inverse vocab, since from this point on, we will reference a token by it's numerical ID, not it's string value, although it's position in the array is it's ID\n",
    "\n",
    "Ultimately, we will save off a .tsv file which is the textual metadata to accompany the array of N-Dimensional vectors we are aiming to produce"
   ]
  },
  {
   "cell_type": "code",
   "execution_count": 149,
   "metadata": {},
   "outputs": [
    {
     "name": "stdout",
     "output_type": "stream",
     "text": [
      "['', '[UNK]', 'the', 'and', 'of', 'to', 'a', 'in', 'he', 'that', 'his', 'was', 'i', 'it', 'with', 'had', 'as', 'at', 'but', 'not']\n"
     ]
    }
   ],
   "source": [
    "# Save the created vocabulary for reference.\n",
    "inverse_vocab = vectorize_layer.get_vocabulary()\n",
    "print(inverse_vocab[:20])"
   ]
  },
  {
   "cell_type": "markdown",
   "metadata": {},
   "source": [
    "## Replace each word in the data set with its numerical index value\n",
    "\n",
    "If a data set is \"and then I saw the light and\"\n",
    "\n",
    "And we created a vectorized vocabulary where each word in the array, it's index is it's numerical value:\n",
    "[\"and\", \"then\", \"I\", \"saw\", \"the\", \"light\"]\n",
    "\n",
    "This step will translate the data set from the string to it's token index representation: \n",
    "\n",
    "[1,2,3,4,5,1]\n",
    "\n",
    "Note the use of prefetch and autotune, this is described in detail here and deals with the performance of the operation across a large data set - https://www.tensorflow.org/guide/data_performance\n",
    "\n",
    "Note also that our sequences were defined as length of 10 above, so note the difference in length between original lines of data and the transformed vectorized (and split to sequences of 10) data. \n",
    "\n",
    "**note** that how we create these sequences could be improved especially given that vectorizing is an attempt to capture semantic and contextual meaning of words, this is an area of possible improvement. Think about a sliding window for n-gram going across broken sentences.\n",
    "\n",
    "Also a note on the out of range error - https://stackoverflow.com/questions/53930242/how-to-fix-a-outofrangeerror-end-of-sequence-error-when-training-a-cnn-with-t\n",
    "\n",
    "This is expected behavior based on using a Tensorflow iterator instead of for loop with exact dimension, but it is expected behavior in this case"
   ]
  },
  {
   "cell_type": "code",
   "execution_count": 150,
   "metadata": {},
   "outputs": [
    {
     "name": "stdout",
     "output_type": "stream",
     "text": [
      "Showing Original Data\n",
      "tf.Tensor(b'Letter 1', shape=(), dtype=string)\n",
      "tf.Tensor(b'_To Mrs. Saville, England._', shape=(), dtype=string)\n",
      "tf.Tensor(b'St. Petersburgh, Dec. 11th, 17\\xe2\\x80\\x94.', shape=(), dtype=string)\n",
      "tf.Tensor(b'You will rejoice to hear that no disaster has accompanied the', shape=(), dtype=string)\n",
      "tf.Tensor(b'commencement of an enterprise which you have regarded with such evil', shape=(), dtype=string)\n",
      "\n",
      "\n",
      "Showing Transformed Data\n",
      "tf.Tensor([ 384 2951], shape=(2,), dtype=int64)\n",
      "tf.Tensor([   5  769    1 1562], shape=(4,), dtype=int64)\n",
      "tf.Tensor([1404    1    1    1    1], shape=(5,), dtype=int64)\n",
      "tf.Tensor([  25   67    1    5  341    9   54    1  101 1443    2], shape=(11,), dtype=int64)\n",
      "tf.Tensor([4025    4   42 3595   38   25   36 1141   14   92 1241], shape=(11,), dtype=int64)\n"
     ]
    },
    {
     "name": "stderr",
     "output_type": "stream",
     "text": [
      "2024-03-31 09:56:16.981212: W tensorflow/core/framework/local_rendezvous.cc:404] Local rendezvous is aborting with status: OUT_OF_RANGE: End of sequence\n",
      "2024-03-31 09:56:17.014679: W tensorflow/core/framework/local_rendezvous.cc:404] Local rendezvous is aborting with status: OUT_OF_RANGE: End of sequence\n"
     ]
    }
   ],
   "source": [
    "import numpy\n",
    "\n",
    "SEED = 42\n",
    "AUTOTUNE = tf.data.AUTOTUNE\n",
    "\n",
    "\n",
    "# Vectorize the data in text_ds.\n",
    "#text_vector_ds = text_ds.batch(1024).prefetch(AUTOTUNE).map(vectorize_layer).unbatch()\n",
    "text_vector_ds = text_ds.map(vectorize_layer)\n",
    "\n",
    "#show a snippet of the transformed data set\n",
    "print(\"Showing Original Data\")\n",
    "snippet_size=5\n",
    "snippet_original_data = text_ds.take(snippet_size)\n",
    "for data in snippet_original_data:\n",
    "    print(data)\n",
    "\n",
    "print(\"\\n\\nShowing Transformed Data\")\n",
    "snippet_data = text_vector_ds.take(snippet_size)\n",
    "for data in snippet_data:\n",
    "    print(data)"
   ]
  },
  {
   "cell_type": "markdown",
   "metadata": {},
   "source": [
    "## Count the total number of sequences computed in the layer"
   ]
  },
  {
   "cell_type": "code",
   "execution_count": 151,
   "metadata": {},
   "outputs": [
    {
     "name": "stdout",
     "output_type": "stream",
     "text": [
      "91985\n"
     ]
    },
    {
     "name": "stderr",
     "output_type": "stream",
     "text": [
      "2024-03-31 09:56:20.269342: W tensorflow/core/framework/local_rendezvous.cc:404] Local rendezvous is aborting with status: OUT_OF_RANGE: End of sequence\n"
     ]
    }
   ],
   "source": [
    "sequences = list(text_vector_ds.as_numpy_iterator())\n",
    "print(len(sequences))"
   ]
  },
  {
   "cell_type": "markdown",
   "metadata": {},
   "source": [
    "## Show a breakdown again of token index to vectorized input\n",
    "\n",
    "Similar to what was printed above, another syntactical way to view a sampling"
   ]
  },
  {
   "cell_type": "code",
   "execution_count": 152,
   "metadata": {},
   "outputs": [
    {
     "name": "stdout",
     "output_type": "stream",
     "text": [
      "[ 384 2951] => ['letter', '1']\n",
      "[   5  769    1 1562] => ['to', 'mrs', '[UNK]', 'england']\n",
      "[1404    1    1    1    1] => ['st', '[UNK]', '[UNK]', '[UNK]', '[UNK]']\n",
      "[  25   67    1    5  341    9   54    1  101 1443    2] => ['you', 'will', '[UNK]', 'to', 'hear', 'that', 'no', '[UNK]', 'has', 'accompanied', 'the']\n",
      "[4025    4   42 3595   38   25   36 1141   14   92 1241] => ['commencement', 'of', 'an', 'enterprise', 'which', 'you', 'have', 'regarded', 'with', 'such', 'evil']\n"
     ]
    }
   ],
   "source": [
    "for seq in sequences[:5]:\n",
    "  print(f\"{seq} => {[inverse_vocab[i] for i in seq]}\")"
   ]
  },
  {
   "cell_type": "markdown",
   "metadata": {},
   "source": [
    "## Generating Sampling Data\n",
    "\n",
    "Below we are defining a method for generating sample training data, not yet calling it.\n",
    "\n",
    "OK, there's a lot going on here. When I have time I will summarize it better. \n",
    "\n",
    "The source tutorial has some good information - https://www.tensorflow.org/text/tutorials/word2vec#generate_training_data\n",
    "\n",
    "Something key to zoom in on that isn't described too well in the source tutorial - use of negative pairs.\n",
    "\n",
    "First we have to understand negative and positive sampling pairs. \n",
    "\n",
    "In the skip-gram technique, which is a type of word embedding model, the goal is to learn distributed representations of words in a continuous vector space. This is achieved by training a model to predict the context words given a target word, or vice versa. Skip-gram employs both positive and negative sampling to train the model efficiently on large datasets without requiring labeled data.\n",
    "Positive Sampling:\n",
    "\n",
    "    Definition: Positive sampling involves generating pairs of words where one word is the target word and the other is a context word that occurs within a certain window around the target word in the text corpus.\n",
    "    Example: If the sentence is \"The cat sat on the mat\", and we consider a window size of 2, then for the word \"cat\", positive samples might include pairs like (\"cat\", \"the\"), (\"cat\", \"sat\"), (\"cat\", \"on\"), and (\"cat\", \"mat\").\n",
    "    Training Objective: The neural network is trained to predict the context words given a target word. In other words, given the target word \"cat\", the network should predict \"the\", \"sat\", \"on\", and \"mat\".\n",
    "\n",
    "Negative Sampling:\n",
    "\n",
    "    Definition: Negative sampling addresses the imbalance between positive (context) and negative (non-context) examples by randomly selecting negative samples during training.\n",
    "    Example: For each positive skip-gram pair (\"cat\", \"the\"), instead of considering all non-context words as negative examples, negative sampling randomly selects a subset of words from the vocabulary that are not context words for \"cat\". These randomly selected words serve as negative examples.\n",
    "    Training Objective: The neural network is trained to distinguish between true context words (positive examples) and randomly sampled non-context words (negative examples). It learns to assign higher probabilities to true context words and lower probabilities to randomly sampled non-context words.\n",
    "\n",
    "**important note about how correct values are computed without labelled data**\n",
    "\n",
    "Skip-gram training is considered unsupervised or unlabeled training because it doesn't require labeled data. The model learns from the structure of the text corpus itself.\n",
    "During training, the model computes a loss function based on the predictions it makes for positive and negative samples.\n",
    "\n",
    "Importantly, random values are used to fill the array. These random values might indicate \"dog\" is semantically similar to \"computer\"\n",
    "\n",
    "Through iterations of training, via loss calculation, it refines these initial random guesses and derives true values across the matrices of data. IE model weights are created through simple mathematical calculations iteratively. I suggest learning more about this processs as it is a key aspect of understanding intuitively how LLMs are trained in the pre-training phase.\n",
    "\n",
    "Next we have to understand how the worst case would be computed to see why we are doing these negative approximations.\n",
    "\n",
    "In the worse case, for every positive word association, we would also train backpropogation in reverse every other token in the input text!\n",
    "\n",
    "The code below uses approximation of negative sampling based on research that shows picking a few negative examples at random is sufficient. \n",
    "\n",
    "The use of negative sampling in skip-gram models is a technique employed to address the imbalance between the number of negative examples and positive examples in the dataset. In skip-gram models, for each positive skip-gram pair (target word, context word), there are potentially a vast number of words in the vocabulary that are not context words for the target word. This leads to a highly imbalanced dataset, as the majority of training examples would be negative (non-context) examples.\n",
    "\n",
    "By using negative sampling, we can reduce the computational cost associated with training on this imbalanced dataset. Instead of considering all non-context words as negative examples, negative sampling randomly selects a small subset of negative examples for each positive example during training. This subset is typically much smaller than the entire vocabulary size, making the training process more efficient.\n",
    "\n",
    "Another note on negative sampling - \n",
    "\n",
    "I haven't gotten great results with these vectors. I added more books to the data set which improved results, I've tried tweaking parameters such as context window length for skip gram and things like that. I am currently thinking that the negative sampling method, while mathematically sound, isn't quite right in the implementaiton below. More details on that method which is approximated here, I think this is an important area of future improvement for this implementation - https://arxiv.org/pdf/1402.3722v1.pdf\n",
    "\n",
    "## Explanation of the output - Targets, Contexts, and Labels\n",
    "\n",
    "Wait I thought this was unlabeled? It is, each pair is however labelled as positive or negative as described below - \n",
    "\n",
    "1. Targets:\n",
    "\n",
    "    Definition: The targets represent the target words for which we are training the model to predict the context words.\n",
    "    Purpose:\n",
    "        Training Objective: Each element in the targets list represents a target word from the training data. During training, the skip-gram model aims to predict the context words surrounding each target word. For example, if the target word is \"cat\" in the sentence \"The cat sat on the mat\", the model should predict context words like \"the\", \"sat\", \"on\", and \"mat\".\n",
    "        Model Input: The target words serve as inputs to the skip-gram model. The model tries to learn meaningful word embeddings for each target word based on its context.\n",
    "\n",
    "2. Contexts:\n",
    "\n",
    "    Definition: The contexts represent the context words surrounding the target words in the training data.\n",
    "    Purpose:\n",
    "        Training Objective: Each element in the contexts list contains the context words (both positive and negative) associated with a target word. Positive context words are the actual words occurring in the vicinity of the target word in the training data, while negative context words are randomly sampled from the vocabulary.\n",
    "        Model Input: The context words, along with the target word, are provided as input to the skip-gram model. The model learns to predict these context words given the target word, thereby capturing the semantic meaning and relationships between words.\n",
    "\n",
    "3. Labels:\n",
    "\n",
    "    Definition: The labels represent the labels associated with each target-context pair, indicating whether a context word is a positive example (1) or a negative example (0).\n",
    "    Purpose:\n",
    "        Training Objective: Each element in the labels list indicates whether a context word is a positive example (a true context word) or a negative example (a non-context word randomly sampled from the vocabulary). During training, the skip-gram model aims to correctly classify these context words based on their relevance to the target word.\n",
    "        Loss Calculation: The labels are used to compute the loss function during training. The model's predictions (probabilities) are compared against these labels to compute the loss, which guides the model's parameter updates through backpropagation.\n",
    "\n"
   ]
  },
  {
   "cell_type": "code",
   "execution_count": 153,
   "metadata": {},
   "outputs": [],
   "source": [
    "# Generates skip-gram pairs with negative sampling for a list of sequences\n",
    "# (int-encoded sentences) based on window size, number of negative samples\n",
    "# and vocabulary size.\n",
    "def generate_training_data(sequences, window_size, num_ns, vocab_size, seed):\n",
    "  # Elements of each training example are appended to these lists.\n",
    "  targets, contexts, labels = [], [], []\n",
    "\n",
    "  # Build the sampling table for `vocab_size` tokens.\n",
    "  sampling_table = tf.keras.preprocessing.sequence.make_sampling_table(vocab_size)\n",
    "\n",
    "  # Iterate over all sequences (sentences) in the dataset.\n",
    "  for sequence in tqdm.tqdm(sequences):\n",
    "\n",
    "    # Generate positive skip-gram pairs for a sequence (sentence).\n",
    "    positive_skip_grams, _ = tf.keras.preprocessing.sequence.skipgrams(\n",
    "          sequence,\n",
    "          vocabulary_size=vocab_size,\n",
    "          sampling_table=sampling_table,\n",
    "          window_size=window_size,\n",
    "          negative_samples=0)\n",
    "\n",
    "    # Iterate over each positive skip-gram pair to produce training examples\n",
    "    # with a positive context word and negative samples.\n",
    "    for target_word, context_word in positive_skip_grams:\n",
    "      context_class = tf.expand_dims(\n",
    "          tf.constant([context_word], dtype=\"int64\"), 1)\n",
    "      negative_sampling_candidates, _, _ = tf.random.log_uniform_candidate_sampler(\n",
    "          true_classes=context_class,\n",
    "          num_true=1,\n",
    "          num_sampled=num_ns,\n",
    "          unique=True,\n",
    "          range_max=vocab_size,\n",
    "          seed=seed,\n",
    "          name=\"negative_sampling\")\n",
    "\n",
    "      # Build context and label vectors (for one target word)\n",
    "      context = tf.concat([tf.squeeze(context_class,1), negative_sampling_candidates], 0)\n",
    "      label = tf.constant([1] + [0]*num_ns, dtype=\"int64\")\n",
    "\n",
    "      # Append each element from the training example to global lists.\n",
    "      targets.append(target_word)\n",
    "      contexts.append(context)\n",
    "      labels.append(label)\n",
    "\n",
    "  return targets, contexts, labels"
   ]
  },
  {
   "cell_type": "markdown",
   "metadata": {},
   "source": [
    "## Call the method above to generate our training data\n",
    "\n",
    "Note a few parameters being set though - \n",
    "\n",
    "We set window size, which indicates how many context words are generated for each target, which informs the number of pairs created for training for positive correlations for each pair\n",
    "\n",
    "num_ns = Number of negative samples, see markdown above\n",
    "\n",
    "random seed - this random seed was set above, although it dictates the randomness used for the first initialization of the vector arrays, to better understand this see backprapogation training - https://towardsdatascience.com/understanding-backpropagation-algorithm-7bb3aa2f95fd \n",
    "\n",
    "TODO - more simple example of backpropagation \n",
    "\n",
    "When we print the shape we are showing the legnth of each, which represents the number of training examples generated"
   ]
  },
  {
   "cell_type": "code",
   "execution_count": 154,
   "metadata": {},
   "outputs": [
    {
     "name": "stderr",
     "output_type": "stream",
     "text": [
      "  0%|          | 0/91985 [00:00<?, ?it/s]"
     ]
    },
    {
     "name": "stderr",
     "output_type": "stream",
     "text": [
      "100%|██████████| 91985/91985 [00:38<00:00, 2378.97it/s]\n"
     ]
    },
    {
     "name": "stdout",
     "output_type": "stream",
     "text": [
      "\n",
      "\n",
      "targets.shape: (508793,)\n",
      "contexts.shape: (508793, 9)\n",
      "labels.shape: (508793, 9)\n"
     ]
    }
   ],
   "source": [
    "targets, contexts, labels = generate_training_data(\n",
    "    sequences=sequences,\n",
    "    window_size=3,\n",
    "    num_ns=8,\n",
    "    vocab_size=vocab_size,\n",
    "    seed=SEED)\n",
    "\n",
    "targets = np.array(targets)\n",
    "contexts = np.array(contexts)\n",
    "labels = np.array(labels)\n",
    "\n",
    "print('\\n')\n",
    "print(f\"targets.shape: {targets.shape}\")\n",
    "print(f\"contexts.shape: {contexts.shape}\")\n",
    "print(f\"labels.shape: {labels.shape}\")\n",
    "\n",
    "#TODO count how many are positive etc.\n"
   ]
  },
  {
   "cell_type": "markdown",
   "metadata": {},
   "source": [
    "## TODO explanation about tensors\n",
    "\n",
    "## TODO revisit commented out shuffle and batching"
   ]
  },
  {
   "cell_type": "code",
   "execution_count": 155,
   "metadata": {},
   "outputs": [
    {
     "name": "stdout",
     "output_type": "stream",
     "text": [
      "<_BatchDataset element_spec=((TensorSpec(shape=(1024,), dtype=tf.int64, name=None), TensorSpec(shape=(1024, 9), dtype=tf.int64, name=None)), TensorSpec(shape=(1024, 9), dtype=tf.int64, name=None))>\n"
     ]
    }
   ],
   "source": [
    "BATCH_SIZE = 1024\n",
    "BUFFER_SIZE = 10000\n",
    "dataset = tf.data.Dataset.from_tensor_slices(((targets, contexts), labels))\n",
    "dataset = dataset.shuffle(BUFFER_SIZE).batch(BATCH_SIZE, drop_remainder=True)\n",
    "print(dataset)\n"
   ]
  },
  {
   "cell_type": "markdown",
   "metadata": {},
   "source": [
    "## TODO revisit caching and prefetching"
   ]
  },
  {
   "cell_type": "code",
   "execution_count": 156,
   "metadata": {},
   "outputs": [],
   "source": [
    "#dataset = dataset.cache().prefetch(buffer_size=AUTOTUNE)\n",
    "#print(dataset)"
   ]
  },
  {
   "cell_type": "markdown",
   "metadata": {},
   "source": [
    "## Print a sample of the final training data set"
   ]
  },
  {
   "cell_type": "code",
   "execution_count": 157,
   "metadata": {},
   "outputs": [],
   "source": [
    "# Define the number of elements to print\n",
    "#TODO improve this a bit\n",
    "\n",
    "#num_elements_to_print = 2\n",
    "\n",
    "# Iterate over the dataset and print elements\n",
    "#for idx, ((target_batch, context_batch), label_batch) in enumerate(dataset.take(num_elements_to_print)):\n",
    " #   print(f\"Batch {idx + 1}:\")\n",
    "#    # Iterate over each example within the batch\n",
    "  #  for i in range(target_batch.shape[0]):\n",
    " #       print(f\"Example {i + 1}:\")\n",
    "  #      print(\"Target:\", target_batch[i].numpy())\n",
    " #       print(\"Context:\", context_batch[i].numpy())\n",
    "  #      print(\"Label:\", label_batch[i].numpy())"
   ]
  },
  {
   "cell_type": "markdown",
   "metadata": {},
   "source": [
    "## Create a class wrapper for the model\n",
    "\n",
    "TODO - add detail here"
   ]
  },
  {
   "cell_type": "code",
   "execution_count": 158,
   "metadata": {},
   "outputs": [],
   "source": [
    "class Word2Vec(tf.keras.Model):\n",
    "  def __init__(self, vocab_size, embedding_dim):\n",
    "    super(Word2Vec, self).__init__()\n",
    "    self.target_embedding = layers.Embedding(vocab_size,\n",
    "                                      embedding_dim,\n",
    "                                      name=\"w2v_embedding\")\n",
    "    self.context_embedding = layers.Embedding(vocab_size,\n",
    "                                       embedding_dim)\n",
    "\n",
    "  def call(self, pair):\n",
    "    target, context = pair\n",
    "    # target: (batch, dummy?)  # The dummy axis doesn't exist in TF2.7+\n",
    "    # context: (batch, context)\n",
    "    if len(target.shape) == 2:\n",
    "      target = tf.squeeze(target, axis=1)\n",
    "    # target: (batch,)\n",
    "    word_emb = self.target_embedding(target)\n",
    "    # word_emb: (batch, embed)\n",
    "    context_emb = self.context_embedding(context)\n",
    "    # context_emb: (batch, context, embed)\n",
    "    dots = tf.einsum('be,bce->bc', word_emb, context_emb)\n",
    "    # dots: (batch, context)\n",
    "    return dots"
   ]
  },
  {
   "cell_type": "code",
   "execution_count": 159,
   "metadata": {},
   "outputs": [],
   "source": [
    "def custom_loss(x_logit, y_true):\n",
    "      return tf.nn.sigmoid_cross_entropy_with_logits(logits=x_logit, labels=y_true)"
   ]
  },
  {
   "cell_type": "markdown",
   "metadata": {},
   "source": [
    "## Train the model\n",
    "\n",
    "TODO - explanation of batch and epoch size vs total number of training pairs above\n",
    "\n",
    "TODO - improve to fully use training pairs"
   ]
  },
  {
   "cell_type": "code",
   "execution_count": 160,
   "metadata": {},
   "outputs": [
    {
     "name": "stdout",
     "output_type": "stream",
     "text": [
      "Epoch 1/80\n"
     ]
    },
    {
     "name": "stdout",
     "output_type": "stream",
     "text": [
      "\u001b[1m496/496\u001b[0m \u001b[32m━━━━━━━━━━━━━━━━━━━━\u001b[0m\u001b[37m\u001b[0m \u001b[1m2s\u001b[0m 3ms/step - accuracy: 0.1945 - loss: 2.1483\n",
      "Epoch 2/80\n",
      "\u001b[1m496/496\u001b[0m \u001b[32m━━━━━━━━━━━━━━━━━━━━\u001b[0m\u001b[37m\u001b[0m \u001b[1m1s\u001b[0m 3ms/step - accuracy: 0.2547 - loss: 2.0266\n",
      "Epoch 3/80\n",
      "\u001b[1m496/496\u001b[0m \u001b[32m━━━━━━━━━━━━━━━━━━━━\u001b[0m\u001b[37m\u001b[0m \u001b[1m1s\u001b[0m 3ms/step - accuracy: 0.2789 - loss: 1.9747\n",
      "Epoch 4/80\n",
      "\u001b[1m496/496\u001b[0m \u001b[32m━━━━━━━━━━━━━━━━━━━━\u001b[0m\u001b[37m\u001b[0m \u001b[1m1s\u001b[0m 3ms/step - accuracy: 0.2987 - loss: 1.9285\n",
      "Epoch 5/80\n",
      "\u001b[1m496/496\u001b[0m \u001b[32m━━━━━━━━━━━━━━━━━━━━\u001b[0m\u001b[37m\u001b[0m \u001b[1m1s\u001b[0m 3ms/step - accuracy: 0.3162 - loss: 1.8860\n",
      "Epoch 6/80\n",
      "\u001b[1m496/496\u001b[0m \u001b[32m━━━━━━━━━━━━━━━━━━━━\u001b[0m\u001b[37m\u001b[0m \u001b[1m1s\u001b[0m 3ms/step - accuracy: 0.3313 - loss: 1.8456\n",
      "Epoch 7/80\n",
      "\u001b[1m496/496\u001b[0m \u001b[32m━━━━━━━━━━━━━━━━━━━━\u001b[0m\u001b[37m\u001b[0m \u001b[1m1s\u001b[0m 3ms/step - accuracy: 0.3453 - loss: 1.8072\n",
      "Epoch 8/80\n",
      "\u001b[1m496/496\u001b[0m \u001b[32m━━━━━━━━━━━━━━━━━━━━\u001b[0m\u001b[37m\u001b[0m \u001b[1m1s\u001b[0m 3ms/step - accuracy: 0.3577 - loss: 1.7711\n",
      "Epoch 9/80\n",
      "\u001b[1m496/496\u001b[0m \u001b[32m━━━━━━━━━━━━━━━━━━━━\u001b[0m\u001b[37m\u001b[0m \u001b[1m1s\u001b[0m 3ms/step - accuracy: 0.3701 - loss: 1.7367\n",
      "Epoch 10/80\n",
      "\u001b[1m496/496\u001b[0m \u001b[32m━━━━━━━━━━━━━━━━━━━━\u001b[0m\u001b[37m\u001b[0m \u001b[1m1s\u001b[0m 2ms/step - accuracy: 0.3814 - loss: 1.7043\n",
      "Epoch 11/80\n",
      "\u001b[1m496/496\u001b[0m \u001b[32m━━━━━━━━━━━━━━━━━━━━\u001b[0m\u001b[37m\u001b[0m \u001b[1m1s\u001b[0m 3ms/step - accuracy: 0.3918 - loss: 1.6743\n",
      "Epoch 12/80\n",
      "\u001b[1m496/496\u001b[0m \u001b[32m━━━━━━━━━━━━━━━━━━━━\u001b[0m\u001b[37m\u001b[0m \u001b[1m1s\u001b[0m 2ms/step - accuracy: 0.4019 - loss: 1.6460\n",
      "Epoch 13/80\n",
      "\u001b[1m496/496\u001b[0m \u001b[32m━━━━━━━━━━━━━━━━━━━━\u001b[0m\u001b[37m\u001b[0m \u001b[1m1s\u001b[0m 3ms/step - accuracy: 0.4122 - loss: 1.6192\n",
      "Epoch 14/80\n",
      "\u001b[1m496/496\u001b[0m \u001b[32m━━━━━━━━━━━━━━━━━━━━\u001b[0m\u001b[37m\u001b[0m \u001b[1m1s\u001b[0m 3ms/step - accuracy: 0.4220 - loss: 1.5937\n",
      "Epoch 15/80\n",
      "\u001b[1m496/496\u001b[0m \u001b[32m━━━━━━━━━━━━━━━━━━━━\u001b[0m\u001b[37m\u001b[0m \u001b[1m1s\u001b[0m 3ms/step - accuracy: 0.4309 - loss: 1.5703\n",
      "Epoch 16/80\n",
      "\u001b[1m496/496\u001b[0m \u001b[32m━━━━━━━━━━━━━━━━━━━━\u001b[0m\u001b[37m\u001b[0m \u001b[1m1s\u001b[0m 3ms/step - accuracy: 0.4391 - loss: 1.5481\n",
      "Epoch 17/80\n",
      "\u001b[1m496/496\u001b[0m \u001b[32m━━━━━━━━━━━━━━━━━━━━\u001b[0m\u001b[37m\u001b[0m \u001b[1m1s\u001b[0m 2ms/step - accuracy: 0.4462 - loss: 1.5280\n",
      "Epoch 18/80\n",
      "\u001b[1m496/496\u001b[0m \u001b[32m━━━━━━━━━━━━━━━━━━━━\u001b[0m\u001b[37m\u001b[0m \u001b[1m1s\u001b[0m 3ms/step - accuracy: 0.4537 - loss: 1.5086\n",
      "Epoch 19/80\n",
      "\u001b[1m496/496\u001b[0m \u001b[32m━━━━━━━━━━━━━━━━━━━━\u001b[0m\u001b[37m\u001b[0m \u001b[1m1s\u001b[0m 3ms/step - accuracy: 0.4604 - loss: 1.4908\n",
      "Epoch 20/80\n",
      "\u001b[1m496/496\u001b[0m \u001b[32m━━━━━━━━━━━━━━━━━━━━\u001b[0m\u001b[37m\u001b[0m \u001b[1m1s\u001b[0m 3ms/step - accuracy: 0.4670 - loss: 1.4741\n",
      "Epoch 21/80\n",
      "\u001b[1m496/496\u001b[0m \u001b[32m━━━━━━━━━━━━━━━━━━━━\u001b[0m\u001b[37m\u001b[0m \u001b[1m1s\u001b[0m 2ms/step - accuracy: 0.4726 - loss: 1.4581\n",
      "Epoch 22/80\n",
      "\u001b[1m496/496\u001b[0m \u001b[32m━━━━━━━━━━━━━━━━━━━━\u001b[0m\u001b[37m\u001b[0m \u001b[1m1s\u001b[0m 3ms/step - accuracy: 0.4779 - loss: 1.4429\n",
      "Epoch 23/80\n",
      "\u001b[1m496/496\u001b[0m \u001b[32m━━━━━━━━━━━━━━━━━━━━\u001b[0m\u001b[37m\u001b[0m \u001b[1m1s\u001b[0m 3ms/step - accuracy: 0.4830 - loss: 1.4294\n",
      "Epoch 24/80\n",
      "\u001b[1m496/496\u001b[0m \u001b[32m━━━━━━━━━━━━━━━━━━━━\u001b[0m\u001b[37m\u001b[0m \u001b[1m1s\u001b[0m 3ms/step - accuracy: 0.4881 - loss: 1.4161\n",
      "Epoch 25/80\n",
      "\u001b[1m496/496\u001b[0m \u001b[32m━━━━━━━━━━━━━━━━━━━━\u001b[0m\u001b[37m\u001b[0m \u001b[1m1s\u001b[0m 2ms/step - accuracy: 0.4925 - loss: 1.4035\n",
      "Epoch 26/80\n",
      "\u001b[1m496/496\u001b[0m \u001b[32m━━━━━━━━━━━━━━━━━━━━\u001b[0m\u001b[37m\u001b[0m \u001b[1m1s\u001b[0m 3ms/step - accuracy: 0.4965 - loss: 1.3923\n",
      "Epoch 27/80\n",
      "\u001b[1m496/496\u001b[0m \u001b[32m━━━━━━━━━━━━━━━━━━━━\u001b[0m\u001b[37m\u001b[0m \u001b[1m1s\u001b[0m 3ms/step - accuracy: 0.5003 - loss: 1.3816\n",
      "Epoch 28/80\n",
      "\u001b[1m496/496\u001b[0m \u001b[32m━━━━━━━━━━━━━━━━━━━━\u001b[0m\u001b[37m\u001b[0m \u001b[1m1s\u001b[0m 3ms/step - accuracy: 0.5041 - loss: 1.3710\n",
      "Epoch 29/80\n",
      "\u001b[1m496/496\u001b[0m \u001b[32m━━━━━━━━━━━━━━━━━━━━\u001b[0m\u001b[37m\u001b[0m \u001b[1m1s\u001b[0m 3ms/step - accuracy: 0.5077 - loss: 1.3613\n",
      "Epoch 30/80\n",
      "\u001b[1m496/496\u001b[0m \u001b[32m━━━━━━━━━━━━━━━━━━━━\u001b[0m\u001b[37m\u001b[0m \u001b[1m1s\u001b[0m 3ms/step - accuracy: 0.5110 - loss: 1.3519\n",
      "Epoch 31/80\n",
      "\u001b[1m496/496\u001b[0m \u001b[32m━━━━━━━━━━━━━━━━━━━━\u001b[0m\u001b[37m\u001b[0m \u001b[1m1s\u001b[0m 3ms/step - accuracy: 0.5143 - loss: 1.3432\n",
      "Epoch 32/80\n",
      "\u001b[1m496/496\u001b[0m \u001b[32m━━━━━━━━━━━━━━━━━━━━\u001b[0m\u001b[37m\u001b[0m \u001b[1m1s\u001b[0m 3ms/step - accuracy: 0.5173 - loss: 1.3349\n",
      "Epoch 33/80\n",
      "\u001b[1m496/496\u001b[0m \u001b[32m━━━━━━━━━━━━━━━━━━━━\u001b[0m\u001b[37m\u001b[0m \u001b[1m1s\u001b[0m 3ms/step - accuracy: 0.5197 - loss: 1.3269\n",
      "Epoch 34/80\n",
      "\u001b[1m496/496\u001b[0m \u001b[32m━━━━━━━━━━━━━━━━━━━━\u001b[0m\u001b[37m\u001b[0m \u001b[1m1s\u001b[0m 3ms/step - accuracy: 0.5228 - loss: 1.3187\n",
      "Epoch 35/80\n",
      "\u001b[1m496/496\u001b[0m \u001b[32m━━━━━━━━━━━━━━━━━━━━\u001b[0m\u001b[37m\u001b[0m \u001b[1m1s\u001b[0m 3ms/step - accuracy: 0.5251 - loss: 1.3118\n",
      "Epoch 36/80\n",
      "\u001b[1m496/496\u001b[0m \u001b[32m━━━━━━━━━━━━━━━━━━━━\u001b[0m\u001b[37m\u001b[0m \u001b[1m1s\u001b[0m 3ms/step - accuracy: 0.5272 - loss: 1.3048\n",
      "Epoch 37/80\n",
      "\u001b[1m496/496\u001b[0m \u001b[32m━━━━━━━━━━━━━━━━━━━━\u001b[0m\u001b[37m\u001b[0m \u001b[1m1s\u001b[0m 3ms/step - accuracy: 0.5297 - loss: 1.2980\n",
      "Epoch 38/80\n",
      "\u001b[1m496/496\u001b[0m \u001b[32m━━━━━━━━━━━━━━━━━━━━\u001b[0m\u001b[37m\u001b[0m \u001b[1m1s\u001b[0m 2ms/step - accuracy: 0.5323 - loss: 1.2910\n",
      "Epoch 39/80\n",
      "\u001b[1m496/496\u001b[0m \u001b[32m━━━━━━━━━━━━━━━━━━━━\u001b[0m\u001b[37m\u001b[0m \u001b[1m1s\u001b[0m 2ms/step - accuracy: 0.5345 - loss: 1.2852\n",
      "Epoch 40/80\n",
      "\u001b[1m496/496\u001b[0m \u001b[32m━━━━━━━━━━━━━━━━━━━━\u001b[0m\u001b[37m\u001b[0m \u001b[1m1s\u001b[0m 2ms/step - accuracy: 0.5364 - loss: 1.2794\n",
      "Epoch 41/80\n",
      "\u001b[1m496/496\u001b[0m \u001b[32m━━━━━━━━━━━━━━━━━━━━\u001b[0m\u001b[37m\u001b[0m \u001b[1m1s\u001b[0m 2ms/step - accuracy: 0.5386 - loss: 1.2735\n",
      "Epoch 42/80\n",
      "\u001b[1m496/496\u001b[0m \u001b[32m━━━━━━━━━━━━━━━━━━━━\u001b[0m\u001b[37m\u001b[0m \u001b[1m1s\u001b[0m 2ms/step - accuracy: 0.5404 - loss: 1.2681\n",
      "Epoch 43/80\n",
      "\u001b[1m496/496\u001b[0m \u001b[32m━━━━━━━━━━━━━━━━━━━━\u001b[0m\u001b[37m\u001b[0m \u001b[1m1s\u001b[0m 3ms/step - accuracy: 0.5418 - loss: 1.2629\n",
      "Epoch 44/80\n",
      "\u001b[1m496/496\u001b[0m \u001b[32m━━━━━━━━━━━━━━━━━━━━\u001b[0m\u001b[37m\u001b[0m \u001b[1m1s\u001b[0m 3ms/step - accuracy: 0.5436 - loss: 1.2575\n",
      "Epoch 45/80\n",
      "\u001b[1m496/496\u001b[0m \u001b[32m━━━━━━━━━━━━━━━━━━━━\u001b[0m\u001b[37m\u001b[0m \u001b[1m1s\u001b[0m 3ms/step - accuracy: 0.5454 - loss: 1.2523\n",
      "Epoch 46/80\n",
      "\u001b[1m496/496\u001b[0m \u001b[32m━━━━━━━━━━━━━━━━━━━━\u001b[0m\u001b[37m\u001b[0m \u001b[1m1s\u001b[0m 3ms/step - accuracy: 0.5467 - loss: 1.2475\n",
      "Epoch 47/80\n",
      "\u001b[1m496/496\u001b[0m \u001b[32m━━━━━━━━━━━━━━━━━━━━\u001b[0m\u001b[37m\u001b[0m \u001b[1m1s\u001b[0m 3ms/step - accuracy: 0.5482 - loss: 1.2432\n",
      "Epoch 48/80\n",
      "\u001b[1m496/496\u001b[0m \u001b[32m━━━━━━━━━━━━━━━━━━━━\u001b[0m\u001b[37m\u001b[0m \u001b[1m1s\u001b[0m 3ms/step - accuracy: 0.5493 - loss: 1.2387\n",
      "Epoch 49/80\n",
      "\u001b[1m496/496\u001b[0m \u001b[32m━━━━━━━━━━━━━━━━━━━━\u001b[0m\u001b[37m\u001b[0m \u001b[1m1s\u001b[0m 3ms/step - accuracy: 0.5512 - loss: 1.2337\n",
      "Epoch 50/80\n",
      "\u001b[1m496/496\u001b[0m \u001b[32m━━━━━━━━━━━━━━━━━━━━\u001b[0m\u001b[37m\u001b[0m \u001b[1m1s\u001b[0m 3ms/step - accuracy: 0.5524 - loss: 1.2297\n",
      "Epoch 51/80\n",
      "\u001b[1m496/496\u001b[0m \u001b[32m━━━━━━━━━━━━━━━━━━━━\u001b[0m\u001b[37m\u001b[0m \u001b[1m1s\u001b[0m 3ms/step - accuracy: 0.5538 - loss: 1.2253\n",
      "Epoch 52/80\n",
      "\u001b[1m496/496\u001b[0m \u001b[32m━━━━━━━━━━━━━━━━━━━━\u001b[0m\u001b[37m\u001b[0m \u001b[1m1s\u001b[0m 3ms/step - accuracy: 0.5551 - loss: 1.2214\n",
      "Epoch 53/80\n",
      "\u001b[1m496/496\u001b[0m \u001b[32m━━━━━━━━━━━━━━━━━━━━\u001b[0m\u001b[37m\u001b[0m \u001b[1m1s\u001b[0m 3ms/step - accuracy: 0.5561 - loss: 1.2175\n",
      "Epoch 54/80\n",
      "\u001b[1m496/496\u001b[0m \u001b[32m━━━━━━━━━━━━━━━━━━━━\u001b[0m\u001b[37m\u001b[0m \u001b[1m1s\u001b[0m 3ms/step - accuracy: 0.5574 - loss: 1.2139\n",
      "Epoch 55/80\n",
      "\u001b[1m496/496\u001b[0m \u001b[32m━━━━━━━━━━━━━━━━━━━━\u001b[0m\u001b[37m\u001b[0m \u001b[1m1s\u001b[0m 3ms/step - accuracy: 0.5586 - loss: 1.2098\n",
      "Epoch 56/80\n",
      "\u001b[1m496/496\u001b[0m \u001b[32m━━━━━━━━━━━━━━━━━━━━\u001b[0m\u001b[37m\u001b[0m \u001b[1m1s\u001b[0m 3ms/step - accuracy: 0.5600 - loss: 1.2063\n",
      "Epoch 57/80\n",
      "\u001b[1m496/496\u001b[0m \u001b[32m━━━━━━━━━━━━━━━━━━━━\u001b[0m\u001b[37m\u001b[0m \u001b[1m1s\u001b[0m 3ms/step - accuracy: 0.5608 - loss: 1.2028\n",
      "Epoch 58/80\n",
      "\u001b[1m496/496\u001b[0m \u001b[32m━━━━━━━━━━━━━━━━━━━━\u001b[0m\u001b[37m\u001b[0m \u001b[1m1s\u001b[0m 3ms/step - accuracy: 0.5623 - loss: 1.1993\n",
      "Epoch 59/80\n",
      "\u001b[1m496/496\u001b[0m \u001b[32m━━━━━━━━━━━━━━━━━━━━\u001b[0m\u001b[37m\u001b[0m \u001b[1m1s\u001b[0m 2ms/step - accuracy: 0.5631 - loss: 1.1960\n",
      "Epoch 60/80\n",
      "\u001b[1m496/496\u001b[0m \u001b[32m━━━━━━━━━━━━━━━━━━━━\u001b[0m\u001b[37m\u001b[0m \u001b[1m1s\u001b[0m 3ms/step - accuracy: 0.5639 - loss: 1.1930\n",
      "Epoch 61/80\n",
      "\u001b[1m496/496\u001b[0m \u001b[32m━━━━━━━━━━━━━━━━━━━━\u001b[0m\u001b[37m\u001b[0m \u001b[1m1s\u001b[0m 3ms/step - accuracy: 0.5648 - loss: 1.1899\n",
      "Epoch 62/80\n",
      "\u001b[1m496/496\u001b[0m \u001b[32m━━━━━━━━━━━━━━━━━━━━\u001b[0m\u001b[37m\u001b[0m \u001b[1m1s\u001b[0m 2ms/step - accuracy: 0.5663 - loss: 1.1863\n",
      "Epoch 63/80\n",
      "\u001b[1m496/496\u001b[0m \u001b[32m━━━━━━━━━━━━━━━━━━━━\u001b[0m\u001b[37m\u001b[0m \u001b[1m1s\u001b[0m 3ms/step - accuracy: 0.5670 - loss: 1.1835\n",
      "Epoch 64/80\n",
      "\u001b[1m496/496\u001b[0m \u001b[32m━━━━━━━━━━━━━━━━━━━━\u001b[0m\u001b[37m\u001b[0m \u001b[1m1s\u001b[0m 3ms/step - accuracy: 0.5680 - loss: 1.1812\n",
      "Epoch 65/80\n",
      "\u001b[1m496/496\u001b[0m \u001b[32m━━━━━━━━━━━━━━━━━━━━\u001b[0m\u001b[37m\u001b[0m \u001b[1m1s\u001b[0m 3ms/step - accuracy: 0.5695 - loss: 1.1775\n",
      "Epoch 66/80\n",
      "\u001b[1m496/496\u001b[0m \u001b[32m━━━━━━━━━━━━━━━━━━━━\u001b[0m\u001b[37m\u001b[0m \u001b[1m1s\u001b[0m 3ms/step - accuracy: 0.5703 - loss: 1.1745\n",
      "Epoch 67/80\n",
      "\u001b[1m496/496\u001b[0m \u001b[32m━━━━━━━━━━━━━━━━━━━━\u001b[0m\u001b[37m\u001b[0m \u001b[1m1s\u001b[0m 3ms/step - accuracy: 0.5709 - loss: 1.1723\n",
      "Epoch 68/80\n",
      "\u001b[1m496/496\u001b[0m \u001b[32m━━━━━━━━━━━━━━━━━━━━\u001b[0m\u001b[37m\u001b[0m \u001b[1m1s\u001b[0m 3ms/step - accuracy: 0.5718 - loss: 1.1693\n",
      "Epoch 69/80\n",
      "\u001b[1m496/496\u001b[0m \u001b[32m━━━━━━━━━━━━━━━━━━━━\u001b[0m\u001b[37m\u001b[0m \u001b[1m1s\u001b[0m 3ms/step - accuracy: 0.5727 - loss: 1.1665\n",
      "Epoch 70/80\n",
      "\u001b[1m496/496\u001b[0m \u001b[32m━━━━━━━━━━━━━━━━━━━━\u001b[0m\u001b[37m\u001b[0m \u001b[1m1s\u001b[0m 3ms/step - accuracy: 0.5738 - loss: 1.1639\n",
      "Epoch 71/80\n",
      "\u001b[1m496/496\u001b[0m \u001b[32m━━━━━━━━━━━━━━━━━━━━\u001b[0m\u001b[37m\u001b[0m \u001b[1m1s\u001b[0m 3ms/step - accuracy: 0.5740 - loss: 1.1617\n",
      "Epoch 72/80\n",
      "\u001b[1m496/496\u001b[0m \u001b[32m━━━━━━━━━━━━━━━━━━━━\u001b[0m\u001b[37m\u001b[0m \u001b[1m1s\u001b[0m 3ms/step - accuracy: 0.5752 - loss: 1.1590\n",
      "Epoch 73/80\n",
      "\u001b[1m496/496\u001b[0m \u001b[32m━━━━━━━━━━━━━━━━━━━━\u001b[0m\u001b[37m\u001b[0m \u001b[1m1s\u001b[0m 3ms/step - accuracy: 0.5758 - loss: 1.1565\n",
      "Epoch 74/80\n",
      "\u001b[1m496/496\u001b[0m \u001b[32m━━━━━━━━━━━━━━━━━━━━\u001b[0m\u001b[37m\u001b[0m \u001b[1m1s\u001b[0m 3ms/step - accuracy: 0.5760 - loss: 1.1544\n",
      "Epoch 75/80\n",
      "\u001b[1m496/496\u001b[0m \u001b[32m━━━━━━━━━━━━━━━━━━━━\u001b[0m\u001b[37m\u001b[0m \u001b[1m1s\u001b[0m 3ms/step - accuracy: 0.5771 - loss: 1.1518\n",
      "Epoch 76/80\n",
      "\u001b[1m496/496\u001b[0m \u001b[32m━━━━━━━━━━━━━━━━━━━━\u001b[0m\u001b[37m\u001b[0m \u001b[1m1s\u001b[0m 2ms/step - accuracy: 0.5777 - loss: 1.1497\n",
      "Epoch 77/80\n",
      "\u001b[1m496/496\u001b[0m \u001b[32m━━━━━━━━━━━━━━━━━━━━\u001b[0m\u001b[37m\u001b[0m \u001b[1m1s\u001b[0m 3ms/step - accuracy: 0.5786 - loss: 1.1476\n",
      "Epoch 78/80\n",
      "\u001b[1m496/496\u001b[0m \u001b[32m━━━━━━━━━━━━━━━━━━━━\u001b[0m\u001b[37m\u001b[0m \u001b[1m1s\u001b[0m 2ms/step - accuracy: 0.5791 - loss: 1.1452\n",
      "Epoch 79/80\n",
      "\u001b[1m496/496\u001b[0m \u001b[32m━━━━━━━━━━━━━━━━━━━━\u001b[0m\u001b[37m\u001b[0m \u001b[1m1s\u001b[0m 2ms/step - accuracy: 0.5805 - loss: 1.1428\n",
      "Epoch 80/80\n",
      "\u001b[1m496/496\u001b[0m \u001b[32m━━━━━━━━━━━━━━━━━━━━\u001b[0m\u001b[37m\u001b[0m \u001b[1m1s\u001b[0m 3ms/step - accuracy: 0.5806 - loss: 1.1413\n"
     ]
    },
    {
     "data": {
      "text/plain": [
       "<keras.src.callbacks.history.History at 0x7057ff547250>"
      ]
     },
     "execution_count": 160,
     "metadata": {},
     "output_type": "execute_result"
    }
   ],
   "source": [
    "embedding_dim = 64\n",
    "word2vec = Word2Vec(vocab_size, embedding_dim)\n",
    "word2vec.compile(optimizer='adam',\n",
    "                 loss=tf.keras.losses.CategoricalCrossentropy(from_logits=True),\n",
    "                 metrics=['accuracy'])\n",
    "\n",
    "tensorboard_callback = tf.keras.callbacks.TensorBoard(log_dir=\"logs\")\n",
    "\n",
    "## TRAIN MODEL!\n",
    "word2vec.fit(dataset, epochs=80, callbacks=[tensorboard_callback])\n"
   ]
  },
  {
   "cell_type": "code",
   "execution_count": 161,
   "metadata": {},
   "outputs": [
    {
     "name": "stdout",
     "output_type": "stream",
     "text": [
      "[array([[ 0.0337508 , -0.02707495, -0.02643435, ...,  0.01159739,\n",
      "         0.04886276, -0.02462113],\n",
      "       [-0.36718634,  0.19582997,  0.24599364, ...,  0.00904288,\n",
      "        -0.02749112,  0.1424131 ],\n",
      "       [-0.6184945 ,  0.3574144 ,  0.06837463, ...,  0.03201528,\n",
      "         0.4466865 , -0.2187246 ],\n",
      "       ...,\n",
      "       [ 0.22557552, -0.02250387,  1.0285364 , ..., -0.23492232,\n",
      "         0.37958866, -0.26134855],\n",
      "       [-0.49057692,  0.07678781, -0.4819935 , ..., -0.7461312 ,\n",
      "        -0.8145564 , -0.2303532 ],\n",
      "       [ 0.21425723,  0.12871279,  0.7664937 , ...,  0.09355146,\n",
      "         0.5474168 ,  0.02758307]], dtype=float32)]\n"
     ]
    }
   ],
   "source": [
    "weights = word2vec.get_layer('w2v_embedding').get_weights()\n",
    "print(weights)"
   ]
  },
  {
   "cell_type": "code",
   "execution_count": 162,
   "metadata": {},
   "outputs": [
    {
     "data": {
      "text/plain": [
       "1"
      ]
     },
     "execution_count": 162,
     "metadata": {},
     "output_type": "execute_result"
    }
   ],
   "source": [
    "len(weights)"
   ]
  },
  {
   "cell_type": "markdown",
   "metadata": {},
   "source": [
    "## Take a look at some of the vectors\n",
    "\n",
    "TODO - describe in layman's terms what a vector is and why it's useful"
   ]
  },
  {
   "cell_type": "code",
   "execution_count": 163,
   "metadata": {},
   "outputs": [
    {
     "name": "stdout",
     "output_type": "stream",
     "text": [
      "[[ 0.0337508  -0.02707495 -0.02643435 ...  0.01159739  0.04886276\n",
      "  -0.02462113]\n",
      " [-0.36718634  0.19582997  0.24599364 ...  0.00904288 -0.02749112\n",
      "   0.1424131 ]\n",
      " [-0.6184945   0.3574144   0.06837463 ...  0.03201528  0.4466865\n",
      "  -0.2187246 ]\n",
      " ...\n",
      " [ 0.22557552 -0.02250387  1.0285364  ... -0.23492232  0.37958866\n",
      "  -0.26134855]\n",
      " [-0.49057692  0.07678781 -0.4819935  ... -0.7461312  -0.8145564\n",
      "  -0.2303532 ]\n",
      " [ 0.21425723  0.12871279  0.7664937  ...  0.09355146  0.5474168\n",
      "   0.02758307]]\n"
     ]
    }
   ],
   "source": [
    "weights = word2vec.get_layer('w2v_embedding').get_weights()[0]\n",
    "print(weights)"
   ]
  },
  {
   "cell_type": "code",
   "execution_count": 164,
   "metadata": {},
   "outputs": [
    {
     "data": {
      "text/plain": [
       "(4096, 64)"
      ]
     },
     "execution_count": 164,
     "metadata": {},
     "output_type": "execute_result"
    }
   ],
   "source": [
    "weights.shape"
   ]
  },
  {
   "cell_type": "code",
   "execution_count": 165,
   "metadata": {},
   "outputs": [
    {
     "name": "stdout",
     "output_type": "stream",
     "text": [
      "['', '[UNK]', 'the', 'and', 'of', 'to', 'a', 'in', 'he', 'that', 'his', 'was', 'i', 'it', 'with', 'had', 'as', 'at', 'but', 'not', 'for', 'him', 'on', 'her', 'is', 'you', 'all', 'she', 'from', 'by', 'be', 'this', 'my', 'were', 'said', 'they', 'have', 'one', 'which', 'so', 'me', 'what', 'an', 'who', 'when', 'or', 'there', 'their', 'up', 'been', 'would', 'them', 'now', 'out', 'no', 'if', 'are', 'did', 'into', 'only', 'more', 'then', 'we', 'could', 'some', 'prince', 'man', 'will', 'pierre', 'about', 'like', 'time', 'do', 'before', 'your', 'very', 'old', 'himself', 'after', 'over', 'how', 'down', '“i', 'other', 'see', 'these', 'eyes', 'know', 'again', 'its', 'still', 'went', 'such', 'little', 'thought', 'than', 'first', 'any', 'those', 'came', 'face', 'has', 'men', 'two', 'seemed', 'room', 'our', 'natásha', 'long', 'go', 'andrew', 'without', 'even', 'same', 'head', 'say', 'must', 'where', 'way', 'away', 'should', 'though', 'come', 'back', 'looked', 'just', 'made', 'life', 'upon', 'own', 'began', 'day', 'hand', 'french', 'yet', 'being', 'something', 'can', 'whale', 'never', 'while', 'am', 'us', 'princess', 'felt', 'another', 'asked', 'through', 'saw', 'left', 'heard', 'most', 'last', 'much', 'every', 'here', 'whole', 'round', 'off', 'look', 'don’t', 'too', 'because', 'great', 'rostóv', 'moment', 'well', 'might', 'may', 'nothing', 'always', 'moscow', 'good', 'voice', 'once', 'right', 'think', 'people', 'knew', 'get', 'army', 'under', 'having', 'young', 'let', 'suddenly', 'three', 'count', 'took', 'tell', 'mary', 'house', 'turned', 'chapter', 'door', 'take', 'father', 'night', 'side', 'told', 'cried', 'nicholas', 'looking', 'love', 'whom', 'seen', 'why', 'white', 'general', 'many', 'words', 'place', 'found', 'soon', 'going', 'quite', 'new', 'make', 'thing', 'hands', 'sat', 'ever', 'emperor', 'stood', 'also', 'shall', 'everything', 'among', 'things', 'almost', 'part', 'napoleon', 'against', 'gave', 'smile', 'russian', 'sea', '“and', 'already', '“you', 'called', 'put', 'each', 'behind', '“what', 'mind', 'between', 'kutúzov', '“but', 'far', 'dear', 'give', 'ship', 'countess', 'done', 'both', 'got', 'officer', 'feeling', '“the', 'ahab', 'understand', 'it’s', 'along', 'others', 'captain', 'herself', 'ye', 'want', 'anything', 'world', 'myself', 'nor', 'few', 'mother', 'heart', 'small', 'air', 'replied', 'word', 'whether', 'taken', 'order', 'sónya', 'alone', 'near', 'evidently', 'work', 'morning', 'light', 'end', 'around', 'peter', 'battle', 'expression', 'days', 'god', 'during', '“yes', '“well', 'full', 'toward', 'denísov', 'lay', 'front', 'passed', 'sometimes', 'death', 'it”', 'next', 'ran', 'does', 'soldiers', 'you”', 'till', 'several', '“oh', 'strange', 'home', 'brought', 'really', 'became', 'talk', 'feet', 'water', 'times', 'speak', 'since', 'often', 'position', 'chief', 'years', 'itself', 'cannot', 'themselves', 'that’s', 'table', 'sound', 'half', 'arm', 'course', 'hear', 'war', 'set', 'saying', 'evening', 'me”', 'fire', 'thou', 'taking', 'soul', 'continued', 'body', 'wife', 'bed', 'moved', 'better', 'anna', 'power', 'perhaps', 'large', 'find', 'commander', 'horse', 'can’t', 'black', 'feel', 'remained', 'gone', 'wanted', 'tried', 'shouted', 'leave', 'high', 'wendy', 'question', 'entered', '“no', 'whose', 'sitting', 'sent', 'dólokhov', 'lost', 'arms', 'letter', 'standing', 'rose', 'however', 'matter', 'friend', 'boat', 'rather', 'forward', 'sight', 'longer', 'given', 'added', 'turning', 'together', 'son', 'mr', 'thus', 'present', 'borís', 'troops', 'open', 'received', 'above', 'sort', 'certain', 'yes', 'happy', 'drawing', 'thousand', 'stopped', 'kind', 'towards', 'true', 'name', 'used', 'oh', 'poor', 'line', 'kept', 'human', 'whales', 'known', 'i’ll', 'horses', 'crowd', 'fell', 'coming', '“it', 'best', 'pétya', 'less', 'wish', 'spoke', 'officers', 'past', 'help', 'fellow', 'dark', 'within', 'road', 'ask', 'understood', 'rest', 'possible', 'fact', 'everyone', 'sperm', 'reason', 'short', 'enemy', 'quickly', 'beside', 'silent', 'petersburg', 'held', 'answered', 'become', 'appeared', '“he', 'followed', 'family', 'answer', 'hair', 'children', 'believe', 'woman', 'tears', 'orders', 'cold', 'seeing', 'rode', 'happened', 'least', 'returned', 'free', 'trying', 'ready', 'wished', 'talking', 'movement', 'ground', 'else', 'stubb', 'sister', 'regiment', 'met', 'girl', 'terrible', 'action', 'across', 'state', 'dead', 'wounded', 'sun', 'read', 'noticed', 'live', 'four', 'cause', 'vasíli', 'close', 'window', 'turn', 'faces', 'reached', 'keep', 'hard', 'thoughts', 'indeed', 'conversation', 'anatole', 'second', 'history', 'him”', 'enough', 'different', 'living', 'impossible', 'fear', 'hope', '“why', 'won’t', 'hundred', 'clear', 'anyone', 'making', 'steps', 'speaking', 'especially', 'boy', 'remember', 'deep', 'seem', 'queequeg', 'news', 'loved', 'country', 'business', 'opened', 'doing', 'deck', 'dinner', '“how', 'repeated', 'immediately', 'gregor', 'he’s', 'fine', 'either', 'de', 'call', 'silence', 'point', 'idea', 'therefore', 'says', 'hold', 'soldier', 'didn’t', 'case', 'hour', 'straight', 'run', 'drew', 'town', 'sides', 'mouth', 'sleep', 'glanced', 'necessary', 'merely', 'tone', 'smiled', 'seems', 'return', 'money', 'hardly', 'besides', 'attention', 'women', 'five', 'thinking', 'holding', 'project', 'man’s', 'lips', 'earth', 'thy', 'strength', 'smoke', 'show', 'legs', 'happiness', '“if', 'voices', 'village', 'struck', 'later', 'cry', 'third', 'running', 'pleasure', 'gatsby', 'tom', 'child', 'various', 'sure', 'story', 'i’m', 'afraid', 'able', 'ten', 'reply', 'pierre’s', 'listened', 'carried', 'use', 'glad', 'eye', 'brother', 'until', 'red', 'beyond', 'stand', 'raised', 'ought', 'meet', 'killed', 'command', 'force', 'feelings', 'arrived', '“it’s', 'moving', 'grew', 'former', 'slowly', 'blue', 'starbuck', 'need', 'instant', '“that', 'nearly', 'important', 'field', 'coat', 'late', 'events', 'society', 'smiling', 'showed', 'presence', 'means', 'fixed', 'calm', 'adjutant', 'pale', 'husband', 'expressed', 'yourself', 'sir', 'peace', 'leg', 'foot', 'bad', 'view', 'hook', 'company', 'change', 'book', 'russia', 'land', 'instead', 'fresh', 'person', 'manner', 'led', 'except', 'distance', 'wind', 'joy', 'giving', 'form', 'someone', 'middle', 'thee', '“ah', 'waiting', 'usual', 'placed', 'nature', 'low', 'hours', 'honor', 'service', 'daughter', 'bolkónski', 'blood', 'year', 'remembered', 'leaving', 'getting', 'crew', 'contrary', 'friends', '“we', 'study', 'slightly', 'russians', 'mademoiselle', 'spent', 'single', 'michael', 'lived', 'closed', 'boats', 'truth', 'there’s', 'talked', 'father’s', 'doctor', 'darling', 'beautiful', 'whispered', 'thin', 'pass', 'exclaimed', 'darkness', '“there', 'staff', 'real', 'occupied', 'daisy', 'broken', 'neither', 'considered', 'bridge', '“my', 'wild', 'remain', 'filled', 'ago', 'river', 'ordered', 'knows', 'subject', 'shoulders', 'mean', 'kissed', 'hélène', 'cut', 'rapidly', 'move', 'lady', 'floor', 'fall', 'dress', 'changed', 'bagratión', 'meaning', 'glance', 'below', 'alpátych', 'pretty', 'mrs', 'length', 'here”', 'frightened', 'corner', 'comes', 'wood', 'surprise', 'future', 'everybody', 'account', 'unable', 'sky', 'questions', 'probably', 'meant', 'expected', 'desire', 'certainly', 'beginning', 'step', 'started', 'purpose', 'lying', 'duty', 'boys', 'affairs', 'try', 'rushed', 'pleasant', 'passing', 'ball', '“do', 'sounds', 'doubt', 'seized', 'laws', 'knowing', 'unknown', 'street', 'military', 'further', 'decided', 'continually', 'bright', 'walked', 'quiet', 'please', 'natural', 'covered', 'caught', 'carriage', 'whatever', 'spirit', 'lower', 'following', 'big', '“a', 'trees', 'john', 'interrupted', 'die', 'whale’s', 'strong', 'stop', 'sense', 'pressed', 'looks', 'forget', 'city', 'chair', 'plan', 'pequod', 'learned', 'hat', 'effort', 'attack', 'angry', 'activity', 'uniform', 'bring', 'pleased', 'months', 'mikháylovna', 'heavy', 'handsome', 'gazed', 'freedom', 'formed', 'common', 'chance', 'beneath', 'voyage', 'prisoners', 'object', 'natásha’s', 'master', 'figure', 'died', 'care', '“now', 'teeth', 'stranger', 'peasants', 'opinion', 'number', 'historians', 'experienced', 'asleep', 'alexander', 'act', 'watch', 'that”', 'plain', 'listening', 'green', 'grand', 'shouting', 'o’clock', 'minutes', 'listen', 'gutenberg™', 'forth', 'fight', 'fate', 'event', 'broke', 'wrote', 'sad', 'remarked', 'pávlovna', 'none', 'miles', 'enter', 'broad', 'simply', 'márya', 'meeting', 'heads', 'drawn', 'danger', 'clearly', 'bourienne', 'asking', 'spot', 'play', 'paused', 'path', 'neck', 'mine', 'law', 'interest', 'glass', 'gentlemen', 'direction', 'wait', 'presented', 'particularly', 'particular', 'heaven', 'greater', 'devil', 'whaling', 'bear', '“that’s', 'six', 'laughed', 'hill', 'german', 'finished', 'difficult', 'cabin', 'aim', 'according', 'vast', 'tail', 'party', 'nearer', 'guns', 'greatest', 'flank', 'concerning', 'bent', '“they', 'suppose', 'notice', 'letters', 'laughing', 'knowledge', 'drove', 'despair', 'borodinó', 'aside', 'afterwards', 'stern', 'rostopchín', 'rising', 'reading', 'porch', 'married', 'lifted', 'happen', 'flew', 'fish', 'emperor’s', 'carry', 'threw', 'spread', 'sit', 'prepared', 'pointing', 'nose', 'latter', 'consider', 'campaign', 'affair', 'simple', 'sign', 'sake', 'hussars', 'hills', 'hearing', 'early', 'creature', 'beauty', 'surrounded', 'surprised', 'occurred', 'muttered', 'horror', 'generals', 'frenchman', 'drive', 'burst', '“come', 'warm', 'shook', 'scene', 'retreat', 'passage', 'napoleon’s', 'island', 'gregor’s', 'galloped', 'food', 'dressed', 'begun', 'wide', 'telling', 'effect', 'condition', 'circumstances', 'wonder', 'special', 'shoulder', 'pointed', 'now”', 'mass', 'liked', 'iron', 'ill', 'excited', 'completely', 'approached', 'andrew’s', '“to', 'peculiar', 'matters', 'lord', 'hot', 'forest', 'forces', 'farther', 'easy', 'appearance', 'appear', '“don’t', 'written', 'visit', 'tree', 'tall', 'spite', 'smolénsk', 'secret', 'seas', 'laugh', 'english', 'elizabeth', 'cap', 'bit', 'balashëv', 'there”', 'snow', 'seven', 'leaning', 'grown', 'gentle', 'despite', 'begin', '“is', 'shot', 'send', 'save', 'laughter', 'involuntarily', 'goes', 'flask', 'delight', 'board', 'although', 'wall', 'science', 'pushed', 'ones', 'noble', 'minute', 'ladies', 'i’ve', 'hung', 'fingers', 'entirely', 'waters', 'twenty', 'touched', 'spring', 'serious', 'quick', 'pity', 'higher', 'glancing', 'forgotten', 'colonel', 'circle', 'chest', 'bound', 'berg', 'advance', 'works', 'thrown', 'soft', 'journey', 'destroyed', 'crossed', 'conception', 'complete', 'victory', 'touching', 'stay', 'sorry', 'somewhere', 'result', 'ice', 'gazing', 'forehead', 'dmítrievna', 'bare', 'age', 'advanced', '“she', 'wearing', 'scarcely', 'rostóvs', 'kill', 'gold', 'familiar', 'enormous', 'easily', 'curious', 'cannon', 'addressed', 'what’s', 'sweet', 'regarded', 'quietly', 'memory', 'march', 'man”', 'king', 'growing', 'dropped', 'curiosity', 'cross', '“this', 'wrong', 'write', 'visible', 'sudden', 'silently', 'sail', 'miserable', 'girls', 'firing', 'fallen', 'express', '“all', 'youth', 'terms', 'supper', 'ships', 'playing', 'opposite', 'moments', 'loud', 'imagine', 'her”', 'grief', 'ears', 'understanding', 'tomorrow', 'ship’s', 'pain', 'needed', 'houses', 'health', 'fast', 'demanded', 'you’re', 'west', 'touch', 'them”', 'sailor', 'report', 'regard', 'outside', 'nantucket', 'garden', 'follow', 'explained', 'dying', 'caused', 'burning', 'believed', 'bald', 'aye', 'alive', 'suffering', 'start', 'sorrow', 'reach', 'previous', 'onto', 'one’s', 'mentioned', 'lie', 'kurtz', 'hurriedly', 'existence', 'bottom', 'rolled', 'parents', 'laid', 'guards', 'group', 'exactly', 'eat', 'dream', 'consciousness', 'character', 'animated', 'watching', 'twice', 'tea', 'places', 'pay', 'marry', 'marriage', 'makes', 'lovely', 'kutúzov’s', 'infantry', 'hall', 'flying', 'evil', 'carts', 'apart', 'angrily', 'all”', 'success', 'stepped', 'sofa', 'savage', 'period', 'hussar', 'generally', 'explain', 'engaged', 'cossacks', 'confused', 'thick', 'shed', 'ranks', 'putting', 'oil', 'ocean', 'ivory', 'evident', 'empty', 'disappeared', 'degree', 'beat', 'allowed', '“so', 'today', 'spirits', 'sought', 'sir”', 'sick', 'settled', 'resolved', 'promised', 'paper', 'leviathan', 'guests', 'ere', 'crossing', 'courage', 'convinced', 'considering', 'wasn’t', 'thank', 'spoken', 'space', 'post', 'plainly', 'peasant', 'mother’s', 'moby', 'inside', 'finally', 'fancy', 'east', 'dog', 'cossack', 'carefully', 'boots', 'battery', 'amid', 'addressing', 'actions', 'yard', 'worse', 'walk', 'station', 'so”', 'shadow', 'relations', 'possessed', 'offered', 'lines', 'instantly', 'inquired', 'flushed', 'firm', 'brilliant', 'approaching', 'apparently', '“where', 'you’ll', 'week', 'weather', 'tíkhon', 'terror', 'suite', 'seat', 'promise', 'papers', 'paid', 'lot', 'know”', 'imagination', 'fond', 'eight', 'difficulty', 'church', 'ceased', 'cavalry', 'ahead', 'ahab’s', 'waves', 'watched', 'streets', 'respect', 'nurse', 'monster', 'misery', 'leaves', 'immense', 'ideas', 'gathered', 'game', 'direct', 'desired', 'court', 'bowed', 'blow', 'avoid', 'art', '“who', 'walking', 'thirty', 'returning', 'music', 'is”', 'huge', 'harpooneer', 'hanging', 'grass', 'genius', 'gay', 'escape', 'dressing', 'couldn’t', 'cheerful', 'carrying', 'bonaparte', 'affection', 'abandoned', 'waited', 'top', 'summer', 'solemn', 'shown', 'parts', 'lit', 'keeping', 'increased', 'government', 'glory', 'dreadful', 'discovered', 'directed', 'destruction', 'companion', 'austrian', 'allow', 'st', 'shut', 'sharp', 'pulled', 'proper', 'personal', 'nodded', 'mere', 'jumped', 'gray', 'go”', 'firmly', 'drink', 'departure', 'dare', '“i’ll', 'sympathy', 'singing', 'significance', 'rostóvs’', 'right”', 'riding', 'possibility', 'necessity', 'motion', 'lad', 'i’d', 'hut', 'hurried', 'hastily', 'happens', 'fifty', 'fair', 'entire', 'entering', 'count’s', 'countenance', 'concluded', 'chase', 'accompanied', 'wore', 'wonderful', 'wishing', 'whisper', 'supposed', 'rapid', 'rain', 'played', 'movements', 'meanwhile', 'jaw', 'isn’t', 'highest', 'harpoon', 'fully', 'fly', 'fit', 'breath', 'box', 'arrival', 'anxious', 'stout', 'seek', 'rich', 'previously', 'ourselves', 'mighty', 'melancholy', 'mark', 'maid', 'jonah', 'join', 'intended', 'gatsby’s', 'eagerly', 'deeply', 'conscious', 'bennigsen', 'august', '‘i', 'yellow', 'winter', 'whalemen', 'wet', 'vessel', 'unless', 'trembling', 'somehow', 'sank', 'sailors', 'prove', 'pipe', 'on”', 'nice', 'lead', 'gate', 'famous', 'experience', 'expecting', 'chiefly', 'break', 'bow', 'books', '“i’m', 'wake', 'vain', 'shore', 'plans', 'nesvítski', 'merry', 'mate', 'joined', 'intention', 'impression', 'holy', 'dull', 'dick', 'clothes', 'assumed', 'absence', '“not', 'thousands', 'suffered', 'similar', 'showing', 'she’s', 'servants', 'rooms', 'recognized', 'profound', 'produced', 'nevertheless', 'mad', 'leading', 'kiss', 'handed', 'grow', 'gesture', 'feared', 'falling', 'expect', 'breast', 'blame', '“in', 'worth', 'virtue', 'trouble', 'splendid', 'sighed', 'rubles', 'remains', 'receive', 'opening', 'loss', 'kindly', 'inhabitants', 'influence', 'excellency', 'england', 'due', 'dogs', 'destroy', 'creatures', 'conditions', 'cloak', 'cast', 'calling', 'bildad', 'aspect', 'agitated', 'accustomed', '“your', '“yes”', 'wound', 'wouldn’t', 'weeks', 'visitors', 'then”', 'stayed', 'speech', 'sleeping', 'serfs', 'pip', 'noise', 'month', 'lives', 'lies', 'leaned', 'knees', 'jordan', 'forced', 'finding', 'clouds', 'ancient', '“then', 'windows', 'wilson', 'wants', 'uttered', 'train', 'tender', 'sovereign', 'removed', 'relation', 'regular', 'raising', 'otherwise', 'ordinary', 'noticing', 'names', 'insisted', 'hollow', 'historical', 'finger', 'final', 'excitement', 'excellent', 'everywhere', 'dignity', 'ah', 'agree', 'admit', '“look', '“let', 'writing', 'véra', 'stupid', 'stars', 'squadron', 'seated', 'proud', 'picture', 'observed', 'note', 'native', 'mounted', 'mountains', 'mood', 'mist', 'imagined', 'heat', 'god’s', 'flight', 'enemy’s', 'deal', 'clerval', 'captured', 'camp', 'burned', '“what’s', '“are', 'yesterday', 'walls', 'upper', 'united', 'unexpectedly', 'shaking', 'see”', 'physical', 'peleg', 'pause', 'nonsense', 'moon', 'mamma', 'fool', 'excellency”', 'eternal', 'draw', 'distant', 'dared', 'dangerous', 'crowded', 'clean', 'charge', 'bows', 'away”', 'agitation', 'we’ll', 'this”', 'takes', 'surface', 'strangely', 'speránski', 'recalled', 'progress', 'mild', 'hidden', 'fishery', 'estate', 'drop', 'doesn’t', 'darted', 'craft', 'cook', 'clerk', '“go', 'wretched', 'wolf', 'wine', 'weak', 'turns', 'time”', 'tale', 'series', 'rostóv’s', 'receiving', 'proved', 'pirates', 'perfectly', 'o', 'julie', 'informed', 'importance', 'forgive', 'dry', 'directly', 'dancing', 'cousin', 'cottage', 'confusion', 'commanders', 'coffin', 'causes', 'brow', 'beheld', 'aware', 'ashamed', 'usually', 'tormented', 'throw', 'somewhat', 'softly', 'shone', 'rise', 'retired', 'quarters', 'mysterious', 'motionless', 'midst', 'majesty', 'hopes', 'ha', 'europe', 'do”', 'dear”', 'charming', 'car', 'bore', 'belonged', 'awaiting', 'appointed', 'animal', 'afternoon', 'worn', 'túshin', 'to”', 'slept', 'shape', 'serve', 'serene', 'rock', 'pull', 'pride', 'opportunity', 'mortal', 'modern', 'miss', 'intimate', 'information', 'helped', 'happening', 'gentleman', 'france', 'fighting', 'fellows', 'false', 'edge', 'distinguished', 'difference', 'denísov’s', 'beg', 'attached', 'arranged', 'weary', 'unhappy', 'suggested', 'slight', 'satisfied', 'ride', 'pulling', 'possibly', 'occasionally', 'mention', 'lofty', 'indian', 'habit', 'forty', 'formerly', 'extraordinary', 'electronic', 'ease', 'ear', 'cheeks', 'busy', 'aloft', '“one', 'skin', 'shouts', 'saved', 'remark', 'powers', 'piece', 'passion', 'out”', 'nine', 'needs', 'marshal', 'loose', 'interesting', 'hide', 'gloomy', 'gained', 'frowning', 'finish', 'explanation', 'dust', 'driving', 'division', 'dim', 'breaking', 'bones', 'bilíbin', 'artillery', 'alarm', 'agreed', 'advancing', '“when', 'sword', 'smell', 'shirt', 'rolling', 'rate', 'rage', 'queer', 'pursuit', 'perceived', 'mary’s', 'karatáev', 'interests', 'harpooneers', 'glittering', 'fields', 'embraced', 'efforts', 'eager', 'dragged', 'coast', 'clever', 'breathing', 'bank', 'balls', 'awful', 'aunt', 'anger', 'altogether', 'yards', 'wondrous', 'task', 'tashtego', 'superior', 'song', 'reports', 'reality', 'private', 'pieces', 'offer', 'nursery', 'loudly', 'let’s', 'judge', 'joyful', 'interested', 'inevitability', 'hoped', 'handkerchief', 'gives', 'extreme', 'endure', 'dron', 'divine', 'determined', 'demand', 'dance', 'comrades', 'club', 'bottle', 'becoming', 'barclay', 'approach', 'acquainted', '“he’s', 'utter', 'torn', 'spectacles', 'somebody', 'served', 'rush', 'rear', 'realized', 'property', 'presently', 'nana', 'members', 'justine', 'flat', 'fifteen', 'faith', 'connected', 'commanded', 'brothers', 'beloved', 'accepted', '“uncle”', 'worthy', 'us”', 'up”', 'unpleasant', 'unexpected', 'tied', 'striking', 'stretched', 'stick', 'steward', 'square', 'sprang', 'spare', 'slightest', 'satisfaction', 'row', 'refuse', 'reflected', 'reception', 'public', 'picked', 'pequod’s', 'millions', 'lose', 'lifting', 'letting', 'kurágin', 'innumerable', 'illness', 'hurry', 'humanity', 'hitherto', 'heavily', 'heavens', 'hearts', 'frowned', 'figures', 'driven', 'dreams', 'described', 'council', 'considerable', 'connection', 'brave', 'bezúkhov', 'bearing', '1812', 'wife’s', 'thinks', 'storm', 'stone', 'steady', 'sounded', 'smee', 'signs', 'respectfully', 'regimental', 'nearest', 'narrow', 'midnight', 'lightly', 'learn', 'household', 'height', 'gun', 'gown', 'gloom', 'frenchmen', 'footman', 'entrance', 'content', 'bird', 'attitude', 'assured', 'advantage', '2', '“for', 'younger', 'useless', 'uncle', 'throwing', 'theory', 'sufficient', 'stronger', 'sternly', 'states', 'sing', 'silver', 'sharks', 'recognize', 'reasons', 'rang', 'pursued', 'pressing', 'office', 'nobody', 'monsieur', 'minister', 'lake', 'hunt', 'gradually', 'foundation', 'fought', 'forgot', 'features', 'equal', 'enthusiasm', 'eh', 'doors', 'delighted', 'corps', 'closer', 'closely', 'chosen', 'catch', 'cases', 'capture', 'brain', 'born', 'boguchárovo', 'blind', 'badly', 'austerlitz', 'again”', '“have', 'you’ve', 'wishes', 'weight', 'visited', 'vanished', 'support', 'stories', 'spout', 'spend', 'setting', 'seamen', 'screamed', 'say”', 'sacrifice', 'rope', 'repeating', 'reaching', 'preparing', 'partly', 'paris', 'pace', 'nations', 'moral', 'la', 'jacket', 'intervals', 'instructions', 'innocent', 'horrible', 'hippolyte', 'haven’t', 'gutenberg', 'friendship', 'fourth', 'flung', 'felix', 'example', 'encounter', 'emotion', 'blushed', 'agreement', 'actually', '…', '“as', 'yes”', 'wooden', 'wept', 'vienna', 'tenderness', 'strongly', 'species', 'sobs', 'situation', 'reported', 'related', 'race', 'pushing', 'precious', 'polish', 'pole', 'managed', 'm', 'lowered', 'intently', 'gaily', 'frame', 'external', 'exhausted', 'employed', 'describe', 'declared', 'damp', 'columns', 'column', 'cheek', 'center', 'carriages', 'candle', 'baby', 'armies', 'aidedecamp', 'acquaintances', 'well”', 'visitor', 'unnatural', 'sooner', 'solitary', 'seldom', 'seizing', 'sang', 'sailed', 'remarks', 'remaining', 'prevent', 'practical', 'possession', 'pocket', 'persons', 'pair', 'original', 'official', 'not”', 'misfortune', 'loving', 'le', 'invited', 'hate', 'flesh', 'fled', 'fellow”', 'feels', 'duties', 'discovery', 'devoted', 'details', 'descended', 'delicate', 'deeper', 'cutting', 'cart', 'cards', 'capable', 'calmly', 'bringing', 'bone', 'attempt', 'appears', 'announced', 'address', 'wrapped', 'ways', 'substance', 'strike', 'stream', 'sigh', 'share', 'seeking', 'quarter', 'prisoner', 'prayer', 'orderly', 'occasion', 'naturally', 'mustache', 'murder', 'moreover', 'mon', 'madame', 'instance', 'guard', 'greatly', 'george', 'gaze', 'forms', 'floating', 'engagement', 'dolgorúkov', 'definite', 'crying', 'continue', 'capital', 'battalion', 'anywhere', 'absorbed', 'absolutely', 'abroad', '“very', '’em', 'troubled', 'tossed', 'tired', 'thrust', 'stared', 'spiritual', 'speed', 'shadows', 'secure', 'ruined', 'ring', 'reflections', 'proposed', 'police', 'pistol', 'parties', 'nigh', 'mistake', 'minds', 'mercy', 'mates', 'mankind', 'major', 'kindness', 'incomprehensible', 'icon', 'guilty', 'golden', 'friendly', 'father”', 'fat', 'exist', 'dólokhov’s', 'dozen', 'distinct', 'dawn', 'cruel', 'conviction', 'cleared', 'circumstance', 'choose', 'carpenter', 'bold', 'beings', 'woods', 'whenever', 'wheels', 'way”', 'using', 'tsar', 'swaying', 'swayed', 'stands', 'shoes', 'shame', 'shade', 'servant', 'separated', 'sailing', 'refused', 'planks', 'permission', 'mystery', 'match', 'marked', 'manager', 'lip', 'lift', 'lance', 'knoll', 'intense', 'hurt', 'grave', 'fault', 'failed', 'contempt', 'conclusion', 'comfort', 'careful', 'built', 'bought', 'attentively', 'arrive', '“of', '“aye', 'working', 'weakness', 'valet', 'unfortunate', 'trembled', 'tink', 'thanks', 'swimming', 'stir', 'sideways', 'separate', 'sensations', 'search', 'rows', 'reflection', 'portrait', 'one”', 'obvious', 'obtain', 'naked', 'meantime', 'masses', 'losing', 'level', 'language', 'knee', 'justice', 'invisible', 'indifferent', 'grasp', 'gently', 'facts', 'distinctly', 'depths', 'delay', 'dashed', 'cries', 'couple', 'couch', 'copy', 'confidence', 'coachman', 'circles', 'charm', 'bread', 'bodies', 'bitter', 'bell', 'authority', 'arose', 'advice', '“on', 'villages', 'views', 'value', 'vague', 'treated', 'succeeded', 'stuck', 'son’s', 'social', 'skeleton', 'seriously', 'remarkable', 'relief', 'raise', 'pávlovna’s', 'pfuel', 'painful', 'obliged', 'loaded', 'lights', 'lighted', 'joyfully', 'headquarters', 'god”', 'geneva', 'forecastle', 'flames', 'faint', 'enjoyed', 'concerned', 'bulwarks', 'branches', 'boat’s', 'beating', 'ballroom', 'baggage', 'autumn', 'animation', 'admitted', 'active', '“at', 'woe', 'wholly', 'waved', 'violent', 'urged', 'too”', 'tootles', 'timidly', 'throat', 'thereby', 'starting', 'slow', 'sleigh', 'sink', 'shock', 'sergeant', 'senseless', 'ruin', 'prepare', 'pilgrims', 'paced', 'owing', 'obtained', 'oars', 'murmured', 'murat', 'mud', 'mother”', 'mingled', 'mile', 'manners', 'lively', 'kings', 'issued', 'infinite', 'iii', 'hundreds', 'horizon', 'hadn’t', 'goodness', 'gallop', 'funny', 'fired', 'fiend', 'fail', 'ended', 'elder', 'eating', 'drunk', 'doctors', 'detail', 'daniel', 'danced', 'cunning', 'copyright', 'contrast', 'consisted', 'conduct', 'cloud', 'changing', 'cape', 'candles', 'breeze', 'base', 'awoke', 'attracted', 'ashore', 'anxiety', 'american', 'aloud', 'admiration', 'acquaintance', '“o', '“i’ve', 'zherkóv', 'we’re', 'wealth', 'unusual', 'swiftly', 'south', 'souls', 'solitude', 'smoking', 'smiles', 'simultaneously', 'shining', 'sails', 'saddle', 'rule', 'roll', 'rank', 'pure', 'prince’s', 'pray', 'pirate', 'personally', 'performed', 'occur', 'nights', 'memories', 'majestic', 'main', 'kissing', 'inner', 'individual', 'ilyín', 'ii', 'historic', 'highness', 'hated', 'grey', 'gigantic', 'forever', 'foe', 'fires', 'fatal', 'eyebrows', 'executed', 'essential', 'duke', 'drops', 'double', 'domestic', 'discover', 'davout', 'curly', 'crowds', 'count”', 'countess’', 'constant', 'come”', 'begged', 'battlefield', 'arakchéev', 'agony', '“good', 'worked', 'woke', 'whaleman', 'vicomte', 'vengeance', 'truly', 'tongue', 'thunder', 'swift', 'sum', 'struggle', 'sinking', 'sharply', 'saber', 'rules', 'romantic', 'revealed', 'resting', 'request', 'regret', 'recovered', 'recollection', 'realize', 'priest', 'precisely', 'palace', 'pacific', 'paces', 'notes', 'nervous', 'kitchen', 'joke', 'italian', 'instances', 'inevitable', 'including', 'hunger', 'hole', 'he’ll', 'harm', 'governor', 'galloping', 'frequently', 'fetch', 'excuse', 'estates', 'elbow', 'deserted', 'confess', 'collected', 'class', 'cease', 'bench', 'back”', 'awaited', 'arrange', 'anteroom', 'anguish', 'accounts', '“you’re', '“no”', 'whip', 'weep', 'utterly', 'unlike', 'universal', 'triumph', 'tranquil', 'swung', 'sunshine', 'sufferings', 'steel', 'rested', 'resolute', 'regiments', 'political', 'plump', 'philosophy', 'passionate', 'marrying', 'lowering', 'i”', 'hungry', 'hid', 'hers', 'here’s', 'hence', 'hammock', 'guess', 'greenland', 'gain', 'furniture', 'freely', 'for”', 'foreign', 'foolish', 'favorite', 'facing', 'equally', 'ends', 'eh”', 'dropping', 'distinguish', 'dispositions', 'daggoo', 'current', 'creation', 'consent', 'compared', 'chairs', 'burn', 'bosom', 'borne', 'awake', 'attended', 'attacked', 'agreeable', 'adjutants', '“just', 'yourself”', 'yours', 'wrinkled', 'whiteness', 'uniforms', 'tranquillity', 'tones', 'timid', 'suspended', 'staying', 'sole', 'smooth', 'slender', 'scenes', 'safe', 'rushing', 'rosy', 'resolution', 'reproach', 'rendered', 'reminded', 'prince”', 'princess’', 'pictures', 'overcome', 'other’s', 'offended', 'nowhere', 'north', 'murderer', 'mental', 'medicine', 'mast', 'marching', 'license', 'lavrúshka', 'interval', 'inquiringly', 'indicated', 'imperial', 'immediate', 'hospital', 'honest', 'hit', 'hero', 'frost', 'flukes', 'fever', 'examined', 'essence', 'erect', 'emperors', 'd’ye', 'dirty', 'directions', 'dam', 'constantly', 'conscience', 'conceal', 'committed', 'commands', 'colour', 'childish', 'childhood', 'breakfast', 'bowing', 'borzois', 'blew', 'birds', 'bedroom', 'baker', 'armchair', 'arguments', 'alike', 'alexéevich', 'affectionate', 'affected', 'utmost', 'unconsciously', 'tore', 'surely', 'stopping', 'stairs', 'sorts', 'slipped', 'september', 'seize', 'secrets', 'scattered', 'ridden', 'results', 'restored', 'remote', 'remorse', 'quitted', 'powerful', 'perfect', 'painfully', 'pack', 'pacing', 'observe', 'misfortunes', 'masthead', 'lieutenant', 'lamp', 'joyous', 'interview', 'inn', 'hull', 'hounds', 'hatred', 'hammer', 'governor’s', 'goodnatured', 'goodby', 'glasses', 'frightful', 'floated', 'fifth', 'fashion', 'exchanged', 'escaped', 'energy', 'enemies', 'drowned', 'doorway', 'disturbed', 'detachment', 'dessalles', 'desperate', 'decision', 'correct', 'consolation', 'concentrated', 'concealed', 'collar', 'centre', 'bulk', 'boldly', 'bells', 'beaten', 'band', 'awkward', 'attend', 'armed', 'answering', 'ages', '“here', 'yield', 'worst', 'wise', 'winds', 'whence', 'welfare', 'wagons', 'violence', 'twelve', 'transferred', 'tiptoe', 'they’re', 'temper', 'teach', 'subtle', 'strained', 'steelkilt', 'startled', 'staring', 'source', 'silly', 'shake', 'sensation', 'royal', 'revenge', 'restrain', 'quantity', 'quality', 'provided', 'proceeded', 'phrase', 'people’s', 'peoples', 'overboard', 'october', 'objects', 'noon', 'moonlight', 'madness', 'largest', 'intellectual', 'host', 'horn', 'hinted', 'hastened', 'glow', 'glances', 'fun', 'footsteps', 'fog', 'egg', 'dresses', 'devotion', 'departed', 'deed', 'cup', 'crime', 'cost', 'continual', 'clock', 'choice', 'building', 'bending', 'belief', 'behold', 'beach', 'atmosphere', 'aroused', 'alas', 'aid', 'accept', '“there’s', '“please', '“only', '“dear', 'wing', 'wheel', 'tarútino', 'sónya’s', 'sunk', 'skull', 'sixty', 'significant', 'shows', 'shout', 'severe', 'sending', 'sadly', 'rigging', 'repose', 'religion', 'redoubt', 'recognizing', 'radiant', 'qualities', 'problem', 'presents', 'peter’s', 'persuade', 'patience', 'off”', 'occupation', 'no”', 'missed', 'measure', 'luck', 'longed', 'lodge', 'limbs', 'lest', 'lagoon', 'judgment', 'jet', 'introduced', 'insignificant', 'inform', 'incessantly', 'ilyá', 'hunting', 'honor”', 'highly', 'hare', 'gratitude', 'fury', 'fro', 'forgetting', 'flowed', 'flame', 'esaul', 'endless', 'eldest', 'education', 'drank', 'doubts', 'deprived', 'dense', 'deadly', 'corpse', 'cool', 'concern', 'captain’s', 'capacity', 'be”', 'becomes', 'based', 'assume', 'anybody', 'alongside', 'alarmed', 'abandon', '1', 'york', 'wars', 'wandered', 'violently', 'valley', 'useful', 'undertaking', 'understand”', 'tinker', 'tent', 'stepping', 'sleeves', 'season', 'risen', 'ringing', 'rare', 'quit', 'produce', 'polite', 'plenty', 'passions', 'otrádnoe', 'obviously', 'obey', 'nicholas’', 'nation', 'named', 'merchant', 'men’s', 'locked', 'leaped', 'knocked', 'killing', 'june', 'jolly', 'in”', 'indifference', 'indicating', 'house”', 'hint', 'henry', 'haste', 'gets', 'fortune', 'faster', 'examining', 'endured', 'endeavoured', 'donations', 'destiny', 'dearest', 'customary', 'control', 'confirmed', 'companions', 'careless', 'campfires', 'bushes', 'brows', 'brown', 'bodily', 'belong', 'battles', 'astonished', 'assure', 'amiable', 'altered', 'aft', 'acted', '3', 'weyrother', 'wendy”', 'wear', 'warmth', 'vasíli’s', 'v', 'upright', 'unseen', 'uneasy', 'unconscious', 'trust', 'toil', 'taste', 'suffer', 'stuff', 'straw', 'strain', 'stove', 'specially', 'sleepy', 'sixteen', 'shevárdino', 'serving', 'samsa', 'safety', 'roused', 'roof', 'retreating', 'respected', 'required', 'reflect', 'readily', 'quarterdeck', 'purse', 'prospect', 'peter”', 'peaceful', 'parted', 'oak', 'numbers', 'newly', 'mountain', 'missing', 'mastheads', 'mariners', 'map', 'list', 'lightning', 'leather', 'lasted', 'landed', 'keen', 'jaws', 'ivánovich', 'inquiring', 'ignorance', 'icons', 'hoisted', 'helm', 'harpoons', 'handle', 'guessed', 'germans', 'footmen', 'flow', 'fitted', 'fill', 'feeble', 'fatherland', 'dutch', 'dragging', 'diplomatic', 'dining', 'dimly', 'decide', 'daisy’s', 'considerations', 'consideration', 'career', 'buy', 'belonging', 'astonishment', 'are”', 'amused', 'accomplished', 'about”', 'abandoning', 'wrinkles', 'woman’s', 'wisdom', 'willarski', 'whistling', 'wendy’s', 'upwards', 'uhlans', 'tomorrow”', 'toll', 'theirs', 'tear', 'sunday', 'stillness', 'stationed', 'stage', 'solid', 'smaller', 'shrugged', 'settle', 'roar', 'reward', 'reputation', 'repeat', 'reference', 'provisions', 'properly', 'poured', 'plank', 'perished', 'perform', 'night”', 'negro', 'myself”', 'mixed', 'mistaken', 'milk', 'material', 'marble', 'louder', 'literary', 'jump', 'joseph', 'included', 'hurrying', 'hostile', 'hiding', 'hay', 'hast', 'guest', 'friend”', 'flowers', 'flag', 'fearful', 'extended', 'expressing', 'explaining', 'exercise', 'ermólov', 'entrusted', 'dread', 'divided', 'dissatisfied', 'devils', 'desires', 'daughter’s', 'cover', 'contact', 'conceive', 'commanding', 'christian', 'chin', 'chain', 'calèche', 'burden', 'blushing', 'bitterly', 'authorities', 'austria', 'ate', 'associated', 'assembled', 'apartment', 'angel', 'amazed', 'absurd', '“will', '“did', '“can', '“because', 'weeping', 'watery', 'vílna', 'victim', 'vice', 'unite', 'uncomfortable', 'timókhin', 'thing”', 'suit', 'stroke', 'sport', 'sparkling', 'size', 'roared', 'rid', 'reign', 'regularly', 'referred', 'queequeg’s', 'pursue', 'prussia', 'precise', 'prayed', 'policeman', 'perplexity', 'paying', 'papa', 'owners', 'outer', 'observation', 'numerous', 'nibs', 'murmur', 'more”', 'log', 'limited', 'leeward', 'lean', 'lads', 'lack', 'krémlin', 'intentions', 'instinct', 'independent', 'hélène’s', 'hunters', 'hesitated', 'heroes', 'helpless', 'halted', 'guided', 'groups', 'grateful', 'gracious', 'gods', 'globe', 'gates', 'follows', 'folds', 'fishermen', 'fiery', 'fence', 'favourite', 'eyeing', 'extremely', 'existed', 'everything”', 'established', 'enchanted', 'elderly', 'earthly', 'duel', 'district', 'dismounted', 'dish', 'delightful', 'dart', 'comrade', 'catherine', 'captains', 'buried', 'bullets', 'before”', 'beast', 'banks', 'avoided', 'anxiously', '“hurrah”', 'wondered', 'welcome', 'wealthy', 'waking', 'vivid', 'victor', 'vicinity', 'vessels', 'ventured', 'valuable', 'upstairs', 'union', 'trunk', 'trademark', 'trace', 'tonight', 'today”', 'thyself', 'temple', 'tells', 'taught', 'swept', 'swallowed', 'sufficiently', 'studies', 'strangers', 'sport”', 'sons', 'snuffbox', 'sincerely', 'shots', 'scared', 'rubbing', 'respectful', 'replying', 'replaced', 'region', 'redskins', 'push', 'proceed', 'pretend', 'port', 'politely', 'pillow', 'pick', 'perish', 'perceive', 'passionately', 'partner', 'painted', 'pains', 'ours', 'oar', 'nonsense”', 'nay', 'murdered', 'moscow”', 'militia', 'lonely', 'limit', 'likely', 'lesson', 'larger', 'landlord', 'kinds', 'keel', 'kalúga', 'irresistible', 'inquiry', 'inches', 'impressions', 'impressed', 'image', 'ignorant', 'hunted', 'hailed', 'glimpse', 'gale', 'frozen', 'fright', 'finds', 'favor', 'european', 'enjoyment', 'dragoons', 'desert', 'depended', 'deliberately', 'created', 'convoy', 'condemned', 'chief’s', 'catching', 'card', 'brightly', 'breathe', 'blubber', 'blessed', 'birth', 'bestowed', 'bees', 'battalions', 'audible', 'astern', 'archive', 'anchor', 'advised', 'accordingly', '“tell', '“perhaps', '“god', '‘the', 'you’d', 'won', 'wilderness', 'whistle', 'whispering', 'whaleboat', 'waving', 'wave', 'waist', 'vividly', 'vexation', 'vainly', 'tremendous', 'tight', 'terrific', 'swinging', 'swim', 'steadily', 'starkey', 'sobbing', 'slid', 'sin', 'shipmates', 'shinshín', 'sheet', 'sentence', 'self', 'sees', 'searching', 'school', 'sacred', 'rumors', 'retreated', 'responsibility', 'render', 'relieved', 'provide', 'pose', 'pool', 'paragraph', 'page', 'packed', 'over”', 'opinions', 'nephew', 'naïve', 'mávra', 'muskets', 'musket', 'mothers', 'mob', 'method', 'member', 'masts', 'marshals', 'learning', 'leader', 'lances', 'key', 'intelligence', 'insult', 'inevitably', 'impulse', 'hump', 'hopeless', 'hoofs', 'he”', 'guide', 'greatness', 'grant', 'gliding', 'gerásim', 'garage', 'fortnight', 'forming', 'folded', 'flash', 'faithful', 'exposed', 'execution', 'enjoy', 'empire', 'emotions', 'earlier', 'dunyásha', 'driver', 'drinking', 'dried', 'don', 'distress', 'difficulties', 'descried', 'defeat', 'curtain', 'crushed', 'crowding', 'covering', 'conducted', 'cares', 'attain', 'assistant', 'argument', 'animals', 'adventures', 'additional', 'actual', 'absolute', '“thank', '“nothing', '“give', '‘what', 'worried', 'world’s', 'whereas', 'wellknown', 'weapons', 'vous', 'volume', 'upset', 'unnecessary', 'uncertain', 'trap', 'tower', 'threatened', 'tenderly', 'supposing', 'summoned', 'subjects', 'stubb’s', 'struggling', 'struggled', 'string', 'stretching', 'stiff', 'spurs', 'snatched', 'section', 'scientific', 'salt', 'rude', 'rough', 'revolution', 'resumed', 'regarding', 'recent', 'reasoning', 'readiness', 'rarely', 'rapidity', 'quivering', 'proof', 'prolonged', 'princess”', 'prevented', 'pretext', 'pretended', 'preserve', 'preoccupied', 'preceding', 'powder', 'pockets', 'plunged', 'peculiarly', 'panic', 'overcoat', 'once”', 'older', 'mozháysk', 'mouths', 'mistress', 'messenger', 'matter”', 'marched', 'maids', 'life”', 'kuzmínichna', 'knife', 'jane', 'iv', 'islands', 'innocence', 'increasing', 'impatiently', 'hoping', 'ho', 'herd', 'habits', 'groom', 'good”', 'firmness', 'fierce', 'fedallah', 'fears', 'expedition', 'exists', 'enterprise', 'easier', 'degrees', 'day’s', 'crocodile', 'corporal', 'containing', 'consequently', 'coarse', 'coach', 'claim', 'childlike', 'chap', 'calls', 'butler', 'blows', 'blown', 'benevolent', 'attractive', 'arrested', 'arranging', 'approval', 'applied', 'accident', '“wait', '“peter', '“natásha', '“i’d', 'xvi', 'x', 'wretch', 'wreck', 'wiped', 'win', 'wicked', 'whaleship', 'wedding', 'weaker', 'virtues', 'travel', 'track', 'towns', 'throughout', 'they’ll', 'thanked', 'system', 'swam', 'surprising', 'sublime', 'stomach', 'stirred', 'solemnly', 'soil', 'snapped', 'smilingly', 'smallest', 'sensible', 'secured', 'seconds', 'same”', 'restless', 'represented', 'remembering', 'recently', 'reasonable', 'prey', 'preparations', 'platón', 'pink', 'perils', 'pardon', 'pan', 'officer’s', 'occupations', 'nobility', 'neighbor', 'muttering', 'muffled', 'moves', 'meal', 'magnitude', 'magnificent', 'lover', 'london', 'lock', 'lifeless', 'job', 'inspired', 'inclined', 'hurrah', 'hints', 'harder', 'glowing', 'fur', 'funeral', 'frown', 'forests', 'fairy', 'extent', 'exceedingly', 'evinced', 'enchanting', 'earnestly', 'eagerness', 'drawers', 'drag', 'downwards', 'doubtless', 'disposition', 'dismay', 'defend', 'daily', 'cursed', 'critical', 'courier', 'corridor', 'conversations', 'confined', 'comply', 'collective', 'coldly', 'clung', 'cloth', 'closing', 'churches', 'christmas', 'carpet', 'bush', 'brushed', 'beard', 'backs', 'attacking', 'appeal', 'answers', 'afford', 'accord', 'access', 'abruptly', 'aboard', '“with', '“mamma', '“get', '“be', 'wonders', 'wolzogen', 'wolfshiem', 'william', 'what”', 'whale”', 'we’ve', 'vodka', 'vigorous', 'variety', 'vaguely', 'uttering', 'uneasily', 'trot', 'trial', 'transport', 'trade', 'torture', 'token', 'threshold', 'threatening', 'think”', 'terrors', 'telyánin', 'tables', 'swore', 'swear', 'supplies', 'supplied', 'summit', 'stretch', 'straining', 'stores', 'steamer', 'southern', 'slave', 'simplicity', 'shudder', 'shortly', 'shoot', 'severely', 'saving', 'safie', 'rubbed', 'rostóva', 'roman', 'roads', 'rights', 'ribs', 'rhetor', 'reserved', 'relate', 'reduced', 'rays', 'questioned', 'queen', 'popular', 'points', 'pitch', 'pagan', 'owner', 'odd', 'november', 'nest', 'name”', 'mournful', 'monstrous', 'mirror', 'merrily', 'men”', 'measured', 'masters', 'mason', 'marvellous', 'louis', 'likewise', 'lawn', 'krásnoe', 'judging', 'joining', 'intent', 'impatient', 'huntsman', 'highroad', 'hell', 'heap', 'harness', 'groaned', 'glorious', 'glided', 'gaiety', 'flashed', 'feverish', 'feminine', 'fancied', 'fain', 'expectation', 'exception', 'englishman', 'encountered', 'emerged', 'embarrassment', 'elevated', 'elements', 'element', 'elbows', 'drissa', 'down”', 'dokhtúrov', 'distorted', 'disorder', 'desk', 'descend', 'depth', 'depends', 'delivered', 'deemed', 'decks', 'dashing', 'crimes', 'creator', 'crazy', 'cracked', 'cottagers', 'corners', 'contemptuously', 'consequence', 'conflict', 'confident', 'composed', 'clavichord', 'chances', 'century', 'carved', 'carries', 'canvas', 'buonaparte', 'brief', 'boy”', 'bestow', 'benefit', 'behaved', 'begins', 'beds', 'bears', 'bay', 'awe', 'attentive', 'assurance', 'artificial', 'arrangements', 'aren’t', 'alone”', 'agatha', 'adventure', 'admired', '“captain', '’tis', '‘he', 'xiv', 'world”', 'wondering', 'wiping', 'wings', 'windward', 'windlass', 'wildly', 'whaler', 'welcomed', 'wasted', 'vi', 'verses', 'venerable', 'unfamiliar', 'surrender', 'sunlight', 'star', 'spreading', 'spoiled', 'sob', 'slope', 'sledge', 'skill', 'sincere', 'signed', 'sights', 'shaggy', 'senses', 'sadness', 'ryazán', 'rostopchín’s', 'role', 'review', 'retire', 'resist', 'resembling', 'remember”', 'refuge', 'refrain', 'recall', 'rapturous', 'rapture', 'quivered', 'protection', 'procure', 'process', 'prison', 'pretending', 'poverty', 'pond', 'politeness', 'poland', 'piled', 'physically', 'peering', 'patient', 'pathetic', 'pas', 'overhead', 'oriental', 'occasional', 'nothing”', 'neverland', 'mystic', 'musketry', 'michaelis', 'marks', 'malice', 'mainmast', 'lungs', 'lise', 'liberty', 'lakeman', 'kurtz’s', 'kicked', 'july', 'italy', 'irony', 'invested', 'invasion', 'intensity', 'intelligent', 'infinitely', 'husband’s', 'hum', 'horrors', 'hook’s', 'honour', 'hive', 'heights', 'heels', 'heaving', 'happier', 'halfway', 'groans', 'greeting', 'gossip', 'glittered', 'gleamed', 'gallant', 'gabriel', 'furnished', 'frequent', 'fin', 'fatigue', 'fairly', 'examine', 'entry', 'emperor”', 'dusk', 'dumb', 'drunken', 'drooping', 'downstairs', 'disgust', 'discipline', 'dined', 'destroying', 'defined', 'dat', 'crush', 'cruising', 'crown', 'crawled', 'conveyed', 'continuing', 'companies', 'commencement', 'commence', 'comfortable', 'coffee', 'changes', 'chanced', 'central', 'ceiling', 'cadet', 'bursting', 'breathless', 'bewildered', 'benefactor', 'beausset', 'beaming', 'barrels', 'bandaged', 'bagratión’s', 'bag', 'backward', 'attributed', 'arriving', 'application', 'apparition', 'apparent', 'appalling', 'amusing', 'ambition', 'adopted', 'accused', '1805', '“she’s', '“has', '“eh', 'yonder', 'willing', 'who’s', 'wherever', 'waste', 'want”', 'vyázma', 'voyages', 'vital', 'virgin', 'vexed', 'vanity', 'uncommon', 'treat', 'traveling', 'tobacco', 'tiger', 'thoughtful', 'thirst', 'thine', 'theater', 'temples', 'sweep', 'supply', 'stooping', 'stooped', 'standard', 'split', 'spine', 'solely', 'sold', 'softened', 'socalled', 'smart', 'slipping', 'sleeve', 'slain']\n",
      "4096\n"
     ]
    }
   ],
   "source": [
    "vocab = vectorize_layer.get_vocabulary()\n",
    "print(vocab)\n",
    "print(len(vocab))"
   ]
  },
  {
   "cell_type": "markdown",
   "metadata": {},
   "source": [
    "## Write the vocabulary and model weights (vectors) to a file"
   ]
  },
  {
   "cell_type": "code",
   "execution_count": 166,
   "metadata": {},
   "outputs": [],
   "source": [
    "out_v = io.open('book-vectors.tsv', 'w', encoding='utf-8')\n",
    "out_m = io.open('book-metadata.tsv', 'w', encoding='utf-8')\n",
    "\n",
    "for index, word in enumerate(vocab):\n",
    "  if index == 0:\n",
    "    continue  # skip 0, it's padding.\n",
    "  vec = weights[index]\n",
    "  out_v.write('\\t'.join([str(x) for x in vec]) + \"\\n\")\n",
    "  out_m.write(word + \"\\n\")\n",
    "out_v.close()\n",
    "out_m.close()\n"
   ]
  },
  {
   "cell_type": "markdown",
   "metadata": {},
   "source": [
    "## View the loss propagation in a Tensorboard Magic Cell\n",
    "\n",
    "TODO - describe why more epochs didn't yeild better results\n",
    "\n",
    "Photo of result:\n",
    "\n",
    "![Tensor Board Example](tensorboard.png)"
   ]
  },
  {
   "cell_type": "code",
   "execution_count": 167,
   "metadata": {},
   "outputs": [
    {
     "name": "stderr",
     "output_type": "stream",
     "text": [
      "UsageError: Line magic function `%tensorboard` not found.\n"
     ]
    }
   ],
   "source": [
    "%tensorboard --logdir logs"
   ]
  },
  {
   "cell_type": "markdown",
   "metadata": {},
   "source": [
    "## TODO - implement cosine-similarity and find most similar words here\n",
    "\n",
    "For now, load the weights here - https://projector.tensorflow.org/\n"
   ]
  }
 ],
 "metadata": {
  "kernelspec": {
   "display_name": ".venv",
   "language": "python",
   "name": "python3"
  },
  "language_info": {
   "codemirror_mode": {
    "name": "ipython",
    "version": 3
   },
   "file_extension": ".py",
   "mimetype": "text/x-python",
   "name": "python",
   "nbconvert_exporter": "python",
   "pygments_lexer": "ipython3",
   "version": "3.11.6"
  }
 },
 "nbformat": 4,
 "nbformat_minor": 2
}
