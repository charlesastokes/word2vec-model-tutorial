{
 "cells": [
  {
   "cell_type": "markdown",
   "metadata": {},
   "source": [
    "# Exploring Word2Vec Vectorized Embedding Model Training from Scratch\n",
    "\n",
    "# **Warning: this is a work in progress**\n",
    "\n",
    "Implemented a Word2Vev model from scratch, largely following the tutorial linked below, although currently in progress expanding this to additional algorithms and areas of interest\n",
    "\n",
    "https://www.tensorflow.org/text/tutorials/word2vec\n",
    "\n",
    "TODO - describe vectorized embeddings\n",
    "\n",
    "For now, see this blog post - https://txt.cohere.com/sentence-word-embeddings/"
   ]
  },
  {
   "cell_type": "markdown",
   "metadata": {},
   "source": [
    "## Import File and show first 25 lines\n",
    "\n",
    "Load a file with about 6 or so novels from Project Gutenberg, the first book is Mary Shelley's Frankenstein as you can see from the preview "
   ]
  },
  {
   "cell_type": "code",
   "execution_count": 283,
   "metadata": {},
   "outputs": [
    {
     "name": "stdout",
     "output_type": "stream",
     "text": [
      "Letter 1\n",
      "\n",
      "_To Mrs. Saville, England._\n",
      "\n",
      "\n",
      "St. Petersburgh, Dec. 11th, 17—.\n",
      "\n",
      "\n",
      "You will rejoice to hear that no disaster has accompanied the\n",
      "commencement of an enterprise which you have regarded with such evil\n",
      "forebodings. I arrived here yesterday, and my first task is to assure\n",
      "my dear sister of my welfare and increasing confidence in the success\n",
      "of my undertaking.\n",
      "\n",
      "I am already far north of London, and as I walk in the streets of\n",
      "Petersburgh, I feel a cold northern breeze play upon my cheeks, which\n",
      "braces my nerves and fills me with delight. Do you understand this\n",
      "feeling? This breeze, which has travelled from the regions towards\n",
      "which I am advancing, gives me a foretaste of those icy climes.\n",
      "Inspirited by this wind of promise, my daydreams become more fervent\n",
      "and vivid. I try in vain to be persuaded that the pole is the seat of\n",
      "frost and desolation; it ever presents itself to my imagination as the\n",
      "region of beauty and delight. There, Margaret, the sun is for ever\n",
      "visible, its broad disk just skirting the horizon and diffusing a\n",
      "perpetual splendour. There—for with your leave, my sister, I will put\n"
     ]
    }
   ],
   "source": [
    "import io\n",
    "import re\n",
    "import string\n",
    "import tqdm\n",
    "\n",
    "import numpy as np\n",
    "\n",
    "import tensorflow as tf\n",
    "from tensorflow.keras import layers\n",
    "\n",
    "import os\n",
    "fullPath = os.path.abspath(\"./\" + 'some-books.txt') \n",
    "path_to_file = tf.keras.utils.get_file('some-books.txt', 'file://'+fullPath)\n",
    "\n",
    "with open(path_to_file) as f:\n",
    "  lines = f.read().splitlines()\n",
    "for line in lines[:25]:\n",
    "  print(line)\n"
   ]
  },
  {
   "cell_type": "markdown",
   "metadata": {},
   "source": [
    "## Remove empty lines from the file"
   ]
  },
  {
   "cell_type": "code",
   "execution_count": 284,
   "metadata": {},
   "outputs": [],
   "source": [
    "text_ds = tf.data.TextLineDataset(path_to_file).filter(lambda x: tf.cast(tf.strings.length(x), bool))"
   ]
  },
  {
   "cell_type": "markdown",
   "metadata": {},
   "source": [
    "## Remove punctuation characters and lowercase all the words\n",
    "\n",
    "Since individual words (tokens) will be used for word vectorization, we wouldn't want to calculate different vectors from \"the\" and \"The\".\n",
    "\n",
    "This function will be called below in the Text Vectorization step"
   ]
  },
  {
   "cell_type": "code",
   "execution_count": 285,
   "metadata": {},
   "outputs": [],
   "source": [
    "# Now, create a custom standardization function to lowercase the text and\n",
    "# remove punctuation.\n",
    "def custom_standardization(input_data):\n",
    "  lowercase = tf.strings.lower(input_data)\n",
    "  return tf.strings.regex_replace(lowercase,\n",
    "                                  '[%s]' % re.escape(string.punctuation), '')\n",
    "\n",
    "\n",
    "\n"
   ]
  },
  {
   "cell_type": "markdown",
   "metadata": {},
   "source": [
    "## Vectorize the text\n",
    "\n",
    "The goal here is to translate words into indexed tokens which the vectors will represent.\n",
    "\n",
    "Note we are calling our standardization method above to pre-process the text.\n",
    "\n",
    "We trim the token size to a max vocabulary, this will remove the least frequently counted tokens.\n",
    "\n",
    "Note - we aren't computing anything yet. We are defining a keras layer in Tensor Flow\n",
    "\n"
   ]
  },
  {
   "cell_type": "code",
   "execution_count": 286,
   "metadata": {},
   "outputs": [],
   "source": [
    "# Define the vocabulary size and the number of words in a sequence.\n",
    "vocab_size = 4096\n",
    "sequence_length = 10\n",
    "\n",
    "# Use the `TextVectorization` layer to normalize, split, and map strings to\n",
    "# integers. Set the `output_sequence_length` length to pad all samples to the\n",
    "# same length.\n",
    "vectorize_layer = tf.keras.layers.TextVectorization(\n",
    "    standardize=custom_standardization,\n",
    "    max_tokens=vocab_size,\n",
    "    output_mode='int',\n",
    "    output_sequence_length=sequence_length)\n",
    "\n",
    "\n"
   ]
  },
  {
   "cell_type": "markdown",
   "metadata": {},
   "source": [
    "## Compute a vocabulary of string terms (tokens)\n",
    "\n",
    "Utilizes the layer defined above\n",
    "\n",
    "From documentation:\n",
    "\n",
    "During adapt(), the layer will build a vocabulary of all string tokens seen in the dataset, sorted by occurrence count, with ties broken by sort order of the tokens (high to low). At the end of adapt(), if max_tokens is set, the vocabulary will be truncated to max_tokens size. For example, adapting a layer with max_tokens=1000 will compute the 1000 most frequent tokens occurring in the input dataset. If output_mode='tf-idf', adapt() will also learn the document frequencies of each token in the input dataset.\n",
    "\n",
    "https://www.tensorflow.org/api_docs/python/tf/keras/layers/TextVectorization#adapt\n",
    "\n",
    "\n",
    "We are referencing the text dataset created above in batches of 1024 characters at a time"
   ]
  },
  {
   "cell_type": "code",
   "execution_count": 287,
   "metadata": {},
   "outputs": [
    {
     "name": "stderr",
     "output_type": "stream",
     "text": [
      "2024-03-30 16:34:25.736479: W tensorflow/core/framework/local_rendezvous.cc:404] Local rendezvous is aborting with status: OUT_OF_RANGE: End of sequence\n"
     ]
    }
   ],
   "source": [
    "vectorize_layer.adapt(text_ds.batch(1024))"
   ]
  },
  {
   "cell_type": "markdown",
   "metadata": {},
   "source": [
    "## View the computed vocabulary (tokens)\n",
    "\n",
    "Ultimately, when we are done, each token will have a multi-dimensional point (well really a vector in pure math terms) that represents it\n",
    "\n",
    "The array is called inverse vocab, since from this point on, we will reference a token by it's numerical ID, not it's string value, although it's position in the array is it's ID\n",
    "\n",
    "Ultimately, we will save off a .tsv file which is the textual metadata to accompany the array of N-Dimensional vectors we are aiming to produce"
   ]
  },
  {
   "cell_type": "code",
   "execution_count": 288,
   "metadata": {},
   "outputs": [
    {
     "name": "stdout",
     "output_type": "stream",
     "text": [
      "['', '[UNK]', 'the', 'and', 'of', 'to', 'a', 'in', 'i', 'that', 'his', 'was', 'he', 'it', 'with', 'but', 'as', 'my', 'for', 'had']\n"
     ]
    }
   ],
   "source": [
    "# Save the created vocabulary for reference.\n",
    "inverse_vocab = vectorize_layer.get_vocabulary()\n",
    "print(inverse_vocab[:20])"
   ]
  },
  {
   "cell_type": "markdown",
   "metadata": {},
   "source": [
    "## Replace each word in the data set with its numerical index value\n",
    "\n",
    "If a data set is \"and then I saw the light and\"\n",
    "\n",
    "And we created a vectorized vocabulary where each word in the array, it's index is it's numerical value:\n",
    "[\"and\", \"then\", \"I\", \"saw\", \"the\", \"light\"]\n",
    "\n",
    "This step will translate the data set from the string to it's token index representation: \n",
    "\n",
    "[1,2,3,4,5,1]\n",
    "\n",
    "Note the use of prefetch and autotune, this is described in detail here and deals with the performance of the operation across a large data set - https://www.tensorflow.org/guide/data_performance\n",
    "\n",
    "Note also that our sequences were defined as length of 10 above, so note the difference in length between original lines of data and the transformed vectorized (and split to sequences of 10) data. \n",
    "\n",
    "**note** that how we create these sequences could be improved especially given that vectorizing is an attempt to capture semantic and contextual meaning of words, this is an area of possible improvement. Think about a sliding window for n-gram going across broken sentences.\n",
    "\n",
    "Also a note on the out of range error - https://stackoverflow.com/questions/53930242/how-to-fix-a-outofrangeerror-end-of-sequence-error-when-training-a-cnn-with-t\n",
    "\n",
    "This is expected behavior based on using a Tensorflow iterator instead of for loop with exact dimension, but it is expected behavior in this case"
   ]
  },
  {
   "cell_type": "code",
   "execution_count": 289,
   "metadata": {},
   "outputs": [
    {
     "name": "stdout",
     "output_type": "stream",
     "text": [
      "Showing Original Data\n",
      "tf.Tensor(b'Letter 1', shape=(), dtype=string)\n",
      "tf.Tensor(b'_To Mrs. Saville, England._', shape=(), dtype=string)\n",
      "tf.Tensor(b'St. Petersburgh, Dec. 11th, 17\\xe2\\x80\\x94.', shape=(), dtype=string)\n",
      "tf.Tensor(b'You will rejoice to hear that no disaster has accompanied the', shape=(), dtype=string)\n",
      "tf.Tensor(b'commencement of an enterprise which you have regarded with such evil', shape=(), dtype=string)\n",
      "\n",
      "\n",
      "Showing Transformed Data\n",
      "tf.Tensor([747   1   0   0   0   0   0   0   0   0], shape=(10,), dtype=int64)\n",
      "tf.Tensor([  5 619   1 812   0   0   0   0   0   0], shape=(10,), dtype=int64)\n",
      "tf.Tensor([1178    1    1    1    1    0    0    0    0    0], shape=(10,), dtype=int64)\n",
      "tf.Tensor([  28   68    1    5  317    9   53 4003  107 2236], shape=(10,), dtype=int64)\n",
      "tf.Tensor([   1    4   42 2454   34   28   33 1107   14   85], shape=(10,), dtype=int64)\n"
     ]
    },
    {
     "name": "stderr",
     "output_type": "stream",
     "text": [
      "2024-03-30 16:34:25.824530: W tensorflow/core/framework/local_rendezvous.cc:404] Local rendezvous is aborting with status: OUT_OF_RANGE: End of sequence\n",
      "2024-03-30 16:34:25.872803: W tensorflow/core/framework/local_rendezvous.cc:404] Local rendezvous is aborting with status: OUT_OF_RANGE: End of sequence\n"
     ]
    }
   ],
   "source": [
    "import numpy\n",
    "\n",
    "SEED = 42\n",
    "AUTOTUNE = tf.data.AUTOTUNE\n",
    "\n",
    "\n",
    "# Vectorize the data in text_ds.\n",
    "text_vector_ds = text_ds.batch(1024).prefetch(AUTOTUNE).map(vectorize_layer).unbatch()\n",
    "\n",
    "#show a snippet of the transformed data set\n",
    "print(\"Showing Original Data\")\n",
    "snippet_size=5\n",
    "snippet_original_data = text_ds.take(snippet_size)\n",
    "for data in snippet_original_data:\n",
    "    print(data)\n",
    "\n",
    "print(\"\\n\\nShowing Transformed Data\")\n",
    "snippet_data = text_vector_ds.take(snippet_size)\n",
    "for data in snippet_data:\n",
    "    print(data)"
   ]
  },
  {
   "cell_type": "markdown",
   "metadata": {},
   "source": [
    "## Count the total number of sequences computed in the layer"
   ]
  },
  {
   "cell_type": "code",
   "execution_count": 290,
   "metadata": {},
   "outputs": [
    {
     "name": "stdout",
     "output_type": "stream",
     "text": [
      "31261\n"
     ]
    },
    {
     "name": "stderr",
     "output_type": "stream",
     "text": [
      "2024-03-30 16:34:26.747469: W tensorflow/core/framework/local_rendezvous.cc:404] Local rendezvous is aborting with status: OUT_OF_RANGE: End of sequence\n"
     ]
    }
   ],
   "source": [
    "sequences = list(text_vector_ds.as_numpy_iterator())\n",
    "print(len(sequences))"
   ]
  },
  {
   "cell_type": "markdown",
   "metadata": {},
   "source": [
    "## Show a breakdown again of token index to vectorized input\n",
    "\n",
    "Similar to what was printed above, another syntactical way to view a sampling"
   ]
  },
  {
   "cell_type": "code",
   "execution_count": 291,
   "metadata": {},
   "outputs": [
    {
     "name": "stdout",
     "output_type": "stream",
     "text": [
      "[747   1   0   0   0   0   0   0   0   0] => ['letter', '[UNK]', '', '', '', '', '', '', '', '']\n",
      "[  5 619   1 812   0   0   0   0   0   0] => ['to', 'mrs', '[UNK]', 'england', '', '', '', '', '', '']\n",
      "[1178    1    1    1    1    0    0    0    0    0] => ['st', '[UNK]', '[UNK]', '[UNK]', '[UNK]', '', '', '', '', '']\n",
      "[  28   68    1    5  317    9   53 4003  107 2236] => ['you', 'will', '[UNK]', 'to', 'hear', 'that', 'no', 'disaster', 'has', 'accompanied']\n",
      "[   1    4   42 2454   34   28   33 1107   14   85] => ['[UNK]', 'of', 'an', 'enterprise', 'which', 'you', 'have', 'regarded', 'with', 'such']\n"
     ]
    }
   ],
   "source": [
    "for seq in sequences[:5]:\n",
    "  print(f\"{seq} => {[inverse_vocab[i] for i in seq]}\")"
   ]
  },
  {
   "cell_type": "markdown",
   "metadata": {},
   "source": [
    "## Generating Sampling Data\n",
    "\n",
    "Below we are defining a method for generating sample training data, not yet calling it.\n",
    "\n",
    "OK, there's a lot going on here. When I have time I will summarize it better. \n",
    "\n",
    "The source tutorial has some good information - https://www.tensorflow.org/text/tutorials/word2vec#generate_training_data\n",
    "\n",
    "Something key to zoom in on that isn't described too well in the source tutorial - use of negative pairs.\n",
    "\n",
    "First we have to understand negative and positive sampling pairs. \n",
    "\n",
    "In the skip-gram technique, which is a type of word embedding model, the goal is to learn distributed representations of words in a continuous vector space. This is achieved by training a model to predict the context words given a target word, or vice versa. Skip-gram employs both positive and negative sampling to train the model efficiently on large datasets without requiring labeled data.\n",
    "Positive Sampling:\n",
    "\n",
    "    Definition: Positive sampling involves generating pairs of words where one word is the target word and the other is a context word that occurs within a certain window around the target word in the text corpus.\n",
    "    Example: If the sentence is \"The cat sat on the mat\", and we consider a window size of 2, then for the word \"cat\", positive samples might include pairs like (\"cat\", \"the\"), (\"cat\", \"sat\"), (\"cat\", \"on\"), and (\"cat\", \"mat\").\n",
    "    Training Objective: The neural network is trained to predict the context words given a target word. In other words, given the target word \"cat\", the network should predict \"the\", \"sat\", \"on\", and \"mat\".\n",
    "\n",
    "Negative Sampling:\n",
    "\n",
    "    Definition: Negative sampling addresses the imbalance between positive (context) and negative (non-context) examples by randomly selecting negative samples during training.\n",
    "    Example: For each positive skip-gram pair (\"cat\", \"the\"), instead of considering all non-context words as negative examples, negative sampling randomly selects a subset of words from the vocabulary that are not context words for \"cat\". These randomly selected words serve as negative examples.\n",
    "    Training Objective: The neural network is trained to distinguish between true context words (positive examples) and randomly sampled non-context words (negative examples). It learns to assign higher probabilities to true context words and lower probabilities to randomly sampled non-context words.\n",
    "\n",
    "**important note about how correct values are computed without labelled data**\n",
    "\n",
    "Skip-gram training is considered unsupervised or unlabeled training because it doesn't require labeled data. The model learns from the structure of the text corpus itself.\n",
    "During training, the model computes a loss function based on the predictions it makes for positive and negative samples.\n",
    "\n",
    "Importantly, random values are used to fill the array. These random values might indicate \"dog\" is semantically similar to \"computer\"\n",
    "\n",
    "Through iterations of training, via loss calculation, it refines these initial random guesses and derives true values across the matrices of data. IE model weights are created through simple mathematical calculations iteratively. I suggest learning more about this processs as it is a key aspect of understanding intuitively how LLMs are trained in the pre-training phase.\n",
    "\n",
    "Next we have to understand how the worst case would be computed to see why we are doing these negative approximations.\n",
    "\n",
    "In the worse case, for every positive word association, we would also train backpropogation in reverse every other token in the input text!\n",
    "\n",
    "The code below uses approximation of negative sampling based on research that shows picking a few negative examples at random is sufficient. \n",
    "\n",
    "The use of negative sampling in skip-gram models is a technique employed to address the imbalance between the number of negative examples and positive examples in the dataset. In skip-gram models, for each positive skip-gram pair (target word, context word), there are potentially a vast number of words in the vocabulary that are not context words for the target word. This leads to a highly imbalanced dataset, as the majority of training examples would be negative (non-context) examples.\n",
    "\n",
    "By using negative sampling, we can reduce the computational cost associated with training on this imbalanced dataset. Instead of considering all non-context words as negative examples, negative sampling randomly selects a small subset of negative examples for each positive example during training. This subset is typically much smaller than the entire vocabulary size, making the training process more efficient.\n",
    "\n",
    "Another note on negative sampling - \n",
    "\n",
    "I haven't gotten great results with these vectors. I added more books to the data set which improved results, I've tried tweaking parameters such as context window length for skip gram and things like that. I am currently thinking that the negative sampling method, while mathematically sound, isn't quite right in the implementaiton below. More details on that method which is approximated here, I think this is an important area of future improvement for this implementation - https://arxiv.org/pdf/1402.3722v1.pdf\n",
    "\n",
    "## Explanation of the output - Targets, Contexts, and Labels\n",
    "\n",
    "Wait I thought this was unlabeled? It is, each pair is however labelled as positive or negative as described below - \n",
    "\n",
    "1. Targets:\n",
    "\n",
    "    Definition: The targets represent the target words for which we are training the model to predict the context words.\n",
    "    Purpose:\n",
    "        Training Objective: Each element in the targets list represents a target word from the training data. During training, the skip-gram model aims to predict the context words surrounding each target word. For example, if the target word is \"cat\" in the sentence \"The cat sat on the mat\", the model should predict context words like \"the\", \"sat\", \"on\", and \"mat\".\n",
    "        Model Input: The target words serve as inputs to the skip-gram model. The model tries to learn meaningful word embeddings for each target word based on its context.\n",
    "\n",
    "2. Contexts:\n",
    "\n",
    "    Definition: The contexts represent the context words surrounding the target words in the training data.\n",
    "    Purpose:\n",
    "        Training Objective: Each element in the contexts list contains the context words (both positive and negative) associated with a target word. Positive context words are the actual words occurring in the vicinity of the target word in the training data, while negative context words are randomly sampled from the vocabulary.\n",
    "        Model Input: The context words, along with the target word, are provided as input to the skip-gram model. The model learns to predict these context words given the target word, thereby capturing the semantic meaning and relationships between words.\n",
    "\n",
    "3. Labels:\n",
    "\n",
    "    Definition: The labels represent the labels associated with each target-context pair, indicating whether a context word is a positive example (1) or a negative example (0).\n",
    "    Purpose:\n",
    "        Training Objective: Each element in the labels list indicates whether a context word is a positive example (a true context word) or a negative example (a non-context word randomly sampled from the vocabulary). During training, the skip-gram model aims to correctly classify these context words based on their relevance to the target word.\n",
    "        Loss Calculation: The labels are used to compute the loss function during training. The model's predictions (probabilities) are compared against these labels to compute the loss, which guides the model's parameter updates through backpropagation.\n",
    "\n"
   ]
  },
  {
   "cell_type": "code",
   "execution_count": 292,
   "metadata": {},
   "outputs": [],
   "source": [
    "# Generates skip-gram pairs with negative sampling for a list of sequences\n",
    "# (int-encoded sentences) based on window size, number of negative samples\n",
    "# and vocabulary size.\n",
    "def generate_training_data(sequences, window_size, num_ns, vocab_size, seed):\n",
    "  # Elements of each training example are appended to these lists.\n",
    "  targets, contexts, labels = [], [], []\n",
    "\n",
    "  # Build the sampling table for `vocab_size` tokens.\n",
    "  sampling_table = tf.keras.preprocessing.sequence.make_sampling_table(vocab_size)\n",
    "\n",
    "  # Iterate over all sequences (sentences) in the dataset.\n",
    "  for sequence in tqdm.tqdm(sequences):\n",
    "\n",
    "    # Generate positive skip-gram pairs for a sequence (sentence).\n",
    "    positive_skip_grams, _ = tf.keras.preprocessing.sequence.skipgrams(\n",
    "          sequence,\n",
    "          vocabulary_size=vocab_size,\n",
    "          sampling_table=sampling_table,\n",
    "          window_size=window_size,\n",
    "          negative_samples=0)\n",
    "\n",
    "    # Iterate over each positive skip-gram pair to produce training examples\n",
    "    # with a positive context word and negative samples.\n",
    "    for target_word, context_word in positive_skip_grams:\n",
    "      context_class = tf.expand_dims(\n",
    "          tf.constant([context_word], dtype=\"int64\"), 1)\n",
    "      negative_sampling_candidates, _, _ = tf.random.log_uniform_candidate_sampler(\n",
    "          true_classes=context_class,\n",
    "          num_true=1,\n",
    "          num_sampled=num_ns,\n",
    "          unique=True,\n",
    "          range_max=vocab_size,\n",
    "          seed=seed,\n",
    "          name=\"negative_sampling\")\n",
    "\n",
    "      # Build context and label vectors (for one target word)\n",
    "      context = tf.concat([tf.squeeze(context_class,1), negative_sampling_candidates], 0)\n",
    "      label = tf.constant([1] + [0]*num_ns, dtype=\"int64\")\n",
    "\n",
    "      # Append each element from the training example to global lists.\n",
    "      targets.append(target_word)\n",
    "      contexts.append(context)\n",
    "      labels.append(label)\n",
    "\n",
    "  return targets, contexts, labels"
   ]
  },
  {
   "cell_type": "markdown",
   "metadata": {},
   "source": [
    "## Call the method above to generate our training data\n",
    "\n",
    "Note a few parameters being set though - \n",
    "\n",
    "We set window size, which indicates how many context words are generated for each target, which informs the number of pairs created for training for positive correlations for each pair\n",
    "\n",
    "num_ns = Number of negative samples, see markdown above\n",
    "\n",
    "random seed - this random seed was set above, although it dictates the randomness used for the first initialization of the vector arrays, to better understand this see backprapogation training - https://towardsdatascience.com/understanding-backpropagation-algorithm-7bb3aa2f95fd \n",
    "\n",
    "TODO - more simple example of backpropagation \n",
    "\n",
    "When we print the shape we are showing the legnth of each, which represents the number of training examples generated"
   ]
  },
  {
   "cell_type": "code",
   "execution_count": 293,
   "metadata": {},
   "outputs": [
    {
     "name": "stderr",
     "output_type": "stream",
     "text": [
      "  0%|          | 0/31261 [00:00<?, ?it/s]"
     ]
    },
    {
     "name": "stderr",
     "output_type": "stream",
     "text": [
      "100%|██████████| 31261/31261 [00:07<00:00, 3966.10it/s]\n"
     ]
    },
    {
     "name": "stdout",
     "output_type": "stream",
     "text": [
      "\n",
      "\n",
      "targets.shape: (101773,)\n",
      "contexts.shape: (101773, 5)\n",
      "labels.shape: (101773, 5)\n"
     ]
    }
   ],
   "source": [
    "targets, contexts, labels = generate_training_data(\n",
    "    sequences=sequences,\n",
    "    window_size=2,\n",
    "    num_ns=4,\n",
    "    vocab_size=vocab_size,\n",
    "    seed=SEED)\n",
    "\n",
    "targets = np.array(targets)\n",
    "contexts = np.array(contexts)\n",
    "labels = np.array(labels)\n",
    "\n",
    "print('\\n')\n",
    "print(f\"targets.shape: {targets.shape}\")\n",
    "print(f\"contexts.shape: {contexts.shape}\")\n",
    "print(f\"labels.shape: {labels.shape}\")\n",
    "\n",
    "#TODO count how many are positive etc.\n"
   ]
  },
  {
   "cell_type": "markdown",
   "metadata": {},
   "source": [
    "## TODO explanation about tensors"
   ]
  },
  {
   "cell_type": "code",
   "execution_count": 294,
   "metadata": {},
   "outputs": [
    {
     "name": "stdout",
     "output_type": "stream",
     "text": [
      "<_BatchDataset element_spec=((TensorSpec(shape=(1024,), dtype=tf.int64, name=None), TensorSpec(shape=(1024, 5), dtype=tf.int64, name=None)), TensorSpec(shape=(1024, 5), dtype=tf.int64, name=None))>\n"
     ]
    }
   ],
   "source": [
    "BATCH_SIZE = 1024\n",
    "BUFFER_SIZE = 10000\n",
    "dataset = tf.data.Dataset.from_tensor_slices(((targets, contexts), labels))\n",
    "dataset = dataset.shuffle(BUFFER_SIZE).batch(BATCH_SIZE, drop_remainder=True)\n",
    "print(dataset)\n"
   ]
  },
  {
   "cell_type": "code",
   "execution_count": 295,
   "metadata": {},
   "outputs": [
    {
     "name": "stdout",
     "output_type": "stream",
     "text": [
      "<_PrefetchDataset element_spec=((TensorSpec(shape=(1024,), dtype=tf.int64, name=None), TensorSpec(shape=(1024, 5), dtype=tf.int64, name=None)), TensorSpec(shape=(1024, 5), dtype=tf.int64, name=None))>\n"
     ]
    }
   ],
   "source": [
    "dataset = dataset.cache().prefetch(buffer_size=AUTOTUNE)\n",
    "print(dataset)"
   ]
  },
  {
   "cell_type": "markdown",
   "metadata": {},
   "source": [
    "## Print a sample of the final training data set"
   ]
  },
  {
   "cell_type": "code",
   "execution_count": null,
   "metadata": {},
   "outputs": [],
   "source": [
    "# Define the number of elements to print\n",
    "#TODO improve this a bit\n",
    "\n",
    "num_elements_to_print = 2\n",
    "\n",
    "# Iterate over the dataset and print elements\n",
    "for idx, ((target_batch, context_batch), label_batch) in enumerate(dataset.take(num_elements_to_print)):\n",
    "    print(f\"Batch {idx + 1}:\")\n",
    "    # Iterate over each example within the batch\n",
    "    for i in range(target_batch.shape[0]):\n",
    "        print(f\"Example {i + 1}:\")\n",
    "        print(\"Target:\", target_batch[i].numpy())\n",
    "        print(\"Context:\", context_batch[i].numpy())\n",
    "        print(\"Label:\", label_batch[i].numpy())"
   ]
  },
  {
   "cell_type": "markdown",
   "metadata": {},
   "source": [
    "## Create a class wrapper for the model\n",
    "\n",
    "TODO - add detail here"
   ]
  },
  {
   "cell_type": "code",
   "execution_count": 297,
   "metadata": {},
   "outputs": [],
   "source": [
    "class Word2Vec(tf.keras.Model):\n",
    "  def __init__(self, vocab_size, embedding_dim):\n",
    "    super(Word2Vec, self).__init__()\n",
    "    self.target_embedding = layers.Embedding(vocab_size,\n",
    "                                      embedding_dim,\n",
    "                                      name=\"w2v_embedding\")\n",
    "    self.context_embedding = layers.Embedding(vocab_size,\n",
    "                                       embedding_dim)\n",
    "\n",
    "  def call(self, pair):\n",
    "    target, context = pair\n",
    "    # target: (batch, dummy?)  # The dummy axis doesn't exist in TF2.7+\n",
    "    # context: (batch, context)\n",
    "    if len(target.shape) == 2:\n",
    "      target = tf.squeeze(target, axis=1)\n",
    "    # target: (batch,)\n",
    "    word_emb = self.target_embedding(target)\n",
    "    # word_emb: (batch, embed)\n",
    "    context_emb = self.context_embedding(context)\n",
    "    # context_emb: (batch, context, embed)\n",
    "    dots = tf.einsum('be,bce->bc', word_emb, context_emb)\n",
    "    # dots: (batch, context)\n",
    "    return dots"
   ]
  },
  {
   "cell_type": "code",
   "execution_count": 298,
   "metadata": {},
   "outputs": [],
   "source": [
    "def custom_loss(x_logit, y_true):\n",
    "      return tf.nn.sigmoid_cross_entropy_with_logits(logits=x_logit, labels=y_true)"
   ]
  },
  {
   "cell_type": "markdown",
   "metadata": {},
   "source": [
    "## Train the model\n",
    "\n",
    "TODO - explanation of batch and epoch size vs total number of training pairs above\n",
    "\n",
    "TODO - improve to fully use training pairs"
   ]
  },
  {
   "cell_type": "code",
   "execution_count": 299,
   "metadata": {},
   "outputs": [
    {
     "name": "stdout",
     "output_type": "stream",
     "text": [
      "Epoch 1/80\n"
     ]
    },
    {
     "name": "stdout",
     "output_type": "stream",
     "text": [
      "\u001b[1m99/99\u001b[0m \u001b[32m━━━━━━━━━━━━━━━━━━━━\u001b[0m\u001b[37m\u001b[0m \u001b[1m1s\u001b[0m 3ms/step - accuracy: 0.2356 - loss: 1.6078\n",
      "Epoch 2/80\n",
      "\u001b[1m99/99\u001b[0m \u001b[32m━━━━━━━━━━━━━━━━━━━━\u001b[0m\u001b[37m\u001b[0m \u001b[1m0s\u001b[0m 2ms/step - accuracy: 0.4698 - loss: 1.5532\n",
      "Epoch 3/80\n",
      "\u001b[1m99/99\u001b[0m \u001b[32m━━━━━━━━━━━━━━━━━━━━\u001b[0m\u001b[37m\u001b[0m \u001b[1m0s\u001b[0m 2ms/step - accuracy: 0.4170 - loss: 1.4589\n",
      "Epoch 4/80\n",
      "\u001b[1m99/99\u001b[0m \u001b[32m━━━━━━━━━━━━━━━━━━━━\u001b[0m\u001b[37m\u001b[0m \u001b[1m0s\u001b[0m 2ms/step - accuracy: 0.4618 - loss: 1.3817\n",
      "Epoch 5/80\n",
      "\u001b[1m99/99\u001b[0m \u001b[32m━━━━━━━━━━━━━━━━━━━━\u001b[0m\u001b[37m\u001b[0m \u001b[1m0s\u001b[0m 2ms/step - accuracy: 0.5172 - loss: 1.3051\n",
      "Epoch 6/80\n",
      "\u001b[1m99/99\u001b[0m \u001b[32m━━━━━━━━━━━━━━━━━━━━\u001b[0m\u001b[37m\u001b[0m \u001b[1m0s\u001b[0m 2ms/step - accuracy: 0.5635 - loss: 1.2308\n",
      "Epoch 7/80\n",
      "\u001b[1m99/99\u001b[0m \u001b[32m━━━━━━━━━━━━━━━━━━━━\u001b[0m\u001b[37m\u001b[0m \u001b[1m0s\u001b[0m 3ms/step - accuracy: 0.6027 - loss: 1.1591\n",
      "Epoch 8/80\n",
      "\u001b[1m99/99\u001b[0m \u001b[32m━━━━━━━━━━━━━━━━━━━━\u001b[0m\u001b[37m\u001b[0m \u001b[1m0s\u001b[0m 2ms/step - accuracy: 0.6377 - loss: 1.0900\n",
      "Epoch 9/80\n",
      "\u001b[1m99/99\u001b[0m \u001b[32m━━━━━━━━━━━━━━━━━━━━\u001b[0m\u001b[37m\u001b[0m \u001b[1m0s\u001b[0m 3ms/step - accuracy: 0.6707 - loss: 1.0236\n",
      "Epoch 10/80\n",
      "\u001b[1m99/99\u001b[0m \u001b[32m━━━━━━━━━━━━━━━━━━━━\u001b[0m\u001b[37m\u001b[0m \u001b[1m0s\u001b[0m 2ms/step - accuracy: 0.6992 - loss: 0.9603\n",
      "Epoch 11/80\n",
      "\u001b[1m99/99\u001b[0m \u001b[32m━━━━━━━━━━━━━━━━━━━━\u001b[0m\u001b[37m\u001b[0m \u001b[1m0s\u001b[0m 2ms/step - accuracy: 0.7242 - loss: 0.9001\n",
      "Epoch 12/80\n",
      "\u001b[1m99/99\u001b[0m \u001b[32m━━━━━━━━━━━━━━━━━━━━\u001b[0m\u001b[37m\u001b[0m \u001b[1m0s\u001b[0m 2ms/step - accuracy: 0.7468 - loss: 0.8433\n",
      "Epoch 13/80\n",
      "\u001b[1m99/99\u001b[0m \u001b[32m━━━━━━━━━━━━━━━━━━━━\u001b[0m\u001b[37m\u001b[0m \u001b[1m0s\u001b[0m 3ms/step - accuracy: 0.7677 - loss: 0.7900\n",
      "Epoch 14/80\n",
      "\u001b[1m99/99\u001b[0m \u001b[32m━━━━━━━━━━━━━━━━━━━━\u001b[0m\u001b[37m\u001b[0m \u001b[1m0s\u001b[0m 3ms/step - accuracy: 0.7846 - loss: 0.7402\n",
      "Epoch 15/80\n",
      "\u001b[1m99/99\u001b[0m \u001b[32m━━━━━━━━━━━━━━━━━━━━\u001b[0m\u001b[37m\u001b[0m \u001b[1m0s\u001b[0m 2ms/step - accuracy: 0.7996 - loss: 0.6940\n",
      "Epoch 16/80\n",
      "\u001b[1m99/99\u001b[0m \u001b[32m━━━━━━━━━━━━━━━━━━━━\u001b[0m\u001b[37m\u001b[0m \u001b[1m0s\u001b[0m 2ms/step - accuracy: 0.8149 - loss: 0.6512\n",
      "Epoch 17/80\n",
      "\u001b[1m99/99\u001b[0m \u001b[32m━━━━━━━━━━━━━━━━━━━━\u001b[0m\u001b[37m\u001b[0m \u001b[1m0s\u001b[0m 2ms/step - accuracy: 0.8284 - loss: 0.6117\n",
      "Epoch 18/80\n",
      "\u001b[1m99/99\u001b[0m \u001b[32m━━━━━━━━━━━━━━━━━━━━\u001b[0m\u001b[37m\u001b[0m \u001b[1m0s\u001b[0m 3ms/step - accuracy: 0.8412 - loss: 0.5754\n",
      "Epoch 19/80\n",
      "\u001b[1m99/99\u001b[0m \u001b[32m━━━━━━━━━━━━━━━━━━━━\u001b[0m\u001b[37m\u001b[0m \u001b[1m0s\u001b[0m 2ms/step - accuracy: 0.8527 - loss: 0.5419\n",
      "Epoch 20/80\n",
      "\u001b[1m99/99\u001b[0m \u001b[32m━━━━━━━━━━━━━━━━━━━━\u001b[0m\u001b[37m\u001b[0m \u001b[1m0s\u001b[0m 2ms/step - accuracy: 0.8641 - loss: 0.5113\n",
      "Epoch 21/80\n",
      "\u001b[1m99/99\u001b[0m \u001b[32m━━━━━━━━━━━━━━━━━━━━\u001b[0m\u001b[37m\u001b[0m \u001b[1m0s\u001b[0m 2ms/step - accuracy: 0.8734 - loss: 0.4831\n",
      "Epoch 22/80\n",
      "\u001b[1m99/99\u001b[0m \u001b[32m━━━━━━━━━━━━━━━━━━━━\u001b[0m\u001b[37m\u001b[0m \u001b[1m0s\u001b[0m 2ms/step - accuracy: 0.8819 - loss: 0.4573\n",
      "Epoch 23/80\n",
      "\u001b[1m99/99\u001b[0m \u001b[32m━━━━━━━━━━━━━━━━━━━━\u001b[0m\u001b[37m\u001b[0m \u001b[1m0s\u001b[0m 2ms/step - accuracy: 0.8904 - loss: 0.4337\n",
      "Epoch 24/80\n",
      "\u001b[1m99/99\u001b[0m \u001b[32m━━━━━━━━━━━━━━━━━━━━\u001b[0m\u001b[37m\u001b[0m \u001b[1m0s\u001b[0m 2ms/step - accuracy: 0.8976 - loss: 0.4120\n",
      "Epoch 25/80\n",
      "\u001b[1m99/99\u001b[0m \u001b[32m━━━━━━━━━━━━━━━━━━━━\u001b[0m\u001b[37m\u001b[0m \u001b[1m0s\u001b[0m 3ms/step - accuracy: 0.9031 - loss: 0.3922\n",
      "Epoch 26/80\n",
      "\u001b[1m99/99\u001b[0m \u001b[32m━━━━━━━━━━━━━━━━━━━━\u001b[0m\u001b[37m\u001b[0m \u001b[1m0s\u001b[0m 2ms/step - accuracy: 0.9089 - loss: 0.3739\n",
      "Epoch 27/80\n",
      "\u001b[1m99/99\u001b[0m \u001b[32m━━━━━━━━━━━━━━━━━━━━\u001b[0m\u001b[37m\u001b[0m \u001b[1m0s\u001b[0m 3ms/step - accuracy: 0.9137 - loss: 0.3572\n",
      "Epoch 28/80\n",
      "\u001b[1m99/99\u001b[0m \u001b[32m━━━━━━━━━━━━━━━━━━━━\u001b[0m\u001b[37m\u001b[0m \u001b[1m0s\u001b[0m 2ms/step - accuracy: 0.9176 - loss: 0.3418\n",
      "Epoch 29/80\n",
      "\u001b[1m99/99\u001b[0m \u001b[32m━━━━━━━━━━━━━━━━━━━━\u001b[0m\u001b[37m\u001b[0m \u001b[1m0s\u001b[0m 2ms/step - accuracy: 0.9207 - loss: 0.3277\n",
      "Epoch 30/80\n",
      "\u001b[1m99/99\u001b[0m \u001b[32m━━━━━━━━━━━━━━━━━━━━\u001b[0m\u001b[37m\u001b[0m \u001b[1m0s\u001b[0m 3ms/step - accuracy: 0.9242 - loss: 0.3147\n",
      "Epoch 31/80\n",
      "\u001b[1m99/99\u001b[0m \u001b[32m━━━━━━━━━━━━━━━━━━━━\u001b[0m\u001b[37m\u001b[0m \u001b[1m0s\u001b[0m 2ms/step - accuracy: 0.9263 - loss: 0.3028\n",
      "Epoch 32/80\n",
      "\u001b[1m99/99\u001b[0m \u001b[32m━━━━━━━━━━━━━━━━━━━━\u001b[0m\u001b[37m\u001b[0m \u001b[1m0s\u001b[0m 2ms/step - accuracy: 0.9286 - loss: 0.2917\n",
      "Epoch 33/80\n",
      "\u001b[1m99/99\u001b[0m \u001b[32m━━━━━━━━━━━━━━━━━━━━\u001b[0m\u001b[37m\u001b[0m \u001b[1m0s\u001b[0m 2ms/step - accuracy: 0.9307 - loss: 0.2815\n",
      "Epoch 34/80\n",
      "\u001b[1m99/99\u001b[0m \u001b[32m━━━━━━━━━━━━━━━━━━━━\u001b[0m\u001b[37m\u001b[0m \u001b[1m0s\u001b[0m 2ms/step - accuracy: 0.9323 - loss: 0.2721\n",
      "Epoch 35/80\n",
      "\u001b[1m99/99\u001b[0m \u001b[32m━━━━━━━━━━━━━━━━━━━━\u001b[0m\u001b[37m\u001b[0m \u001b[1m0s\u001b[0m 2ms/step - accuracy: 0.9336 - loss: 0.2634\n",
      "Epoch 36/80\n",
      "\u001b[1m99/99\u001b[0m \u001b[32m━━━━━━━━━━━━━━━━━━━━\u001b[0m\u001b[37m\u001b[0m \u001b[1m0s\u001b[0m 3ms/step - accuracy: 0.9350 - loss: 0.2554\n",
      "Epoch 37/80\n",
      "\u001b[1m99/99\u001b[0m \u001b[32m━━━━━━━━━━━━━━━━━━━━\u001b[0m\u001b[37m\u001b[0m \u001b[1m0s\u001b[0m 3ms/step - accuracy: 0.9363 - loss: 0.2479\n",
      "Epoch 38/80\n",
      "\u001b[1m99/99\u001b[0m \u001b[32m━━━━━━━━━━━━━━━━━━━━\u001b[0m\u001b[37m\u001b[0m \u001b[1m0s\u001b[0m 2ms/step - accuracy: 0.9371 - loss: 0.2410\n",
      "Epoch 39/80\n",
      "\u001b[1m99/99\u001b[0m \u001b[32m━━━━━━━━━━━━━━━━━━━━\u001b[0m\u001b[37m\u001b[0m \u001b[1m0s\u001b[0m 2ms/step - accuracy: 0.9377 - loss: 0.2345\n",
      "Epoch 40/80\n",
      "\u001b[1m99/99\u001b[0m \u001b[32m━━━━━━━━━━━━━━━━━━━━\u001b[0m\u001b[37m\u001b[0m \u001b[1m0s\u001b[0m 2ms/step - accuracy: 0.9388 - loss: 0.2286\n",
      "Epoch 41/80\n",
      "\u001b[1m99/99\u001b[0m \u001b[32m━━━━━━━━━━━━━━━━━━━━\u001b[0m\u001b[37m\u001b[0m \u001b[1m0s\u001b[0m 2ms/step - accuracy: 0.9395 - loss: 0.2230\n",
      "Epoch 42/80\n",
      "\u001b[1m99/99\u001b[0m \u001b[32m━━━━━━━━━━━━━━━━━━━━\u001b[0m\u001b[37m\u001b[0m \u001b[1m0s\u001b[0m 2ms/step - accuracy: 0.9400 - loss: 0.2178\n",
      "Epoch 43/80\n",
      "\u001b[1m99/99\u001b[0m \u001b[32m━━━━━━━━━━━━━━━━━━━━\u001b[0m\u001b[37m\u001b[0m \u001b[1m0s\u001b[0m 3ms/step - accuracy: 0.9404 - loss: 0.2129\n",
      "Epoch 44/80\n",
      "\u001b[1m99/99\u001b[0m \u001b[32m━━━━━━━━━━━━━━━━━━━━\u001b[0m\u001b[37m\u001b[0m \u001b[1m0s\u001b[0m 2ms/step - accuracy: 0.9407 - loss: 0.2084\n",
      "Epoch 45/80\n",
      "\u001b[1m99/99\u001b[0m \u001b[32m━━━━━━━━━━━━━━━━━━━━\u001b[0m\u001b[37m\u001b[0m \u001b[1m0s\u001b[0m 2ms/step - accuracy: 0.9410 - loss: 0.2042\n",
      "Epoch 46/80\n",
      "\u001b[1m99/99\u001b[0m \u001b[32m━━━━━━━━━━━━━━━━━━━━\u001b[0m\u001b[37m\u001b[0m \u001b[1m0s\u001b[0m 2ms/step - accuracy: 0.9415 - loss: 0.2002\n",
      "Epoch 47/80\n",
      "\u001b[1m99/99\u001b[0m \u001b[32m━━━━━━━━━━━━━━━━━━━━\u001b[0m\u001b[37m\u001b[0m \u001b[1m0s\u001b[0m 2ms/step - accuracy: 0.9418 - loss: 0.1965\n",
      "Epoch 48/80\n",
      "\u001b[1m99/99\u001b[0m \u001b[32m━━━━━━━━━━━━━━━━━━━━\u001b[0m\u001b[37m\u001b[0m \u001b[1m0s\u001b[0m 2ms/step - accuracy: 0.9419 - loss: 0.1930\n",
      "Epoch 49/80\n",
      "\u001b[1m99/99\u001b[0m \u001b[32m━━━━━━━━━━━━━━━━━━━━\u001b[0m\u001b[37m\u001b[0m \u001b[1m0s\u001b[0m 2ms/step - accuracy: 0.9422 - loss: 0.1897\n",
      "Epoch 50/80\n",
      "\u001b[1m99/99\u001b[0m \u001b[32m━━━━━━━━━━━━━━━━━━━━\u001b[0m\u001b[37m\u001b[0m \u001b[1m0s\u001b[0m 2ms/step - accuracy: 0.9424 - loss: 0.1866\n",
      "Epoch 51/80\n",
      "\u001b[1m99/99\u001b[0m \u001b[32m━━━━━━━━━━━━━━━━━━━━\u001b[0m\u001b[37m\u001b[0m \u001b[1m0s\u001b[0m 2ms/step - accuracy: 0.9426 - loss: 0.1838\n",
      "Epoch 52/80\n",
      "\u001b[1m99/99\u001b[0m \u001b[32m━━━━━━━━━━━━━━━━━━━━\u001b[0m\u001b[37m\u001b[0m \u001b[1m0s\u001b[0m 2ms/step - accuracy: 0.9427 - loss: 0.1810\n",
      "Epoch 53/80\n",
      "\u001b[1m99/99\u001b[0m \u001b[32m━━━━━━━━━━━━━━━━━━━━\u001b[0m\u001b[37m\u001b[0m \u001b[1m0s\u001b[0m 2ms/step - accuracy: 0.9427 - loss: 0.1785\n",
      "Epoch 54/80\n",
      "\u001b[1m99/99\u001b[0m \u001b[32m━━━━━━━━━━━━━━━━━━━━\u001b[0m\u001b[37m\u001b[0m \u001b[1m0s\u001b[0m 2ms/step - accuracy: 0.9429 - loss: 0.1761\n",
      "Epoch 55/80\n",
      "\u001b[1m99/99\u001b[0m \u001b[32m━━━━━━━━━━━━━━━━━━━━\u001b[0m\u001b[37m\u001b[0m \u001b[1m0s\u001b[0m 2ms/step - accuracy: 0.9428 - loss: 0.1738\n",
      "Epoch 56/80\n",
      "\u001b[1m99/99\u001b[0m \u001b[32m━━━━━━━━━━━━━━━━━━━━\u001b[0m\u001b[37m\u001b[0m \u001b[1m0s\u001b[0m 2ms/step - accuracy: 0.9429 - loss: 0.1716\n",
      "Epoch 57/80\n",
      "\u001b[1m99/99\u001b[0m \u001b[32m━━━━━━━━━━━━━━━━━━━━\u001b[0m\u001b[37m\u001b[0m \u001b[1m0s\u001b[0m 2ms/step - accuracy: 0.9429 - loss: 0.1696\n",
      "Epoch 58/80\n",
      "\u001b[1m99/99\u001b[0m \u001b[32m━━━━━━━━━━━━━━━━━━━━\u001b[0m\u001b[37m\u001b[0m \u001b[1m0s\u001b[0m 2ms/step - accuracy: 0.9430 - loss: 0.1677\n",
      "Epoch 59/80\n",
      "\u001b[1m99/99\u001b[0m \u001b[32m━━━━━━━━━━━━━━━━━━━━\u001b[0m\u001b[37m\u001b[0m \u001b[1m0s\u001b[0m 2ms/step - accuracy: 0.9428 - loss: 0.1659\n",
      "Epoch 60/80\n",
      "\u001b[1m99/99\u001b[0m \u001b[32m━━━━━━━━━━━━━━━━━━━━\u001b[0m\u001b[37m\u001b[0m \u001b[1m0s\u001b[0m 2ms/step - accuracy: 0.9428 - loss: 0.1642\n",
      "Epoch 61/80\n",
      "\u001b[1m99/99\u001b[0m \u001b[32m━━━━━━━━━━━━━━━━━━━━\u001b[0m\u001b[37m\u001b[0m \u001b[1m0s\u001b[0m 2ms/step - accuracy: 0.9429 - loss: 0.1625\n",
      "Epoch 62/80\n",
      "\u001b[1m99/99\u001b[0m \u001b[32m━━━━━━━━━━━━━━━━━━━━\u001b[0m\u001b[37m\u001b[0m \u001b[1m0s\u001b[0m 2ms/step - accuracy: 0.9429 - loss: 0.1610\n",
      "Epoch 63/80\n",
      "\u001b[1m99/99\u001b[0m \u001b[32m━━━━━━━━━━━━━━━━━━━━\u001b[0m\u001b[37m\u001b[0m \u001b[1m0s\u001b[0m 2ms/step - accuracy: 0.9429 - loss: 0.1595\n",
      "Epoch 64/80\n",
      "\u001b[1m99/99\u001b[0m \u001b[32m━━━━━━━━━━━━━━━━━━━━\u001b[0m\u001b[37m\u001b[0m \u001b[1m0s\u001b[0m 2ms/step - accuracy: 0.9429 - loss: 0.1581\n",
      "Epoch 65/80\n",
      "\u001b[1m99/99\u001b[0m \u001b[32m━━━━━━━━━━━━━━━━━━━━\u001b[0m\u001b[37m\u001b[0m \u001b[1m0s\u001b[0m 2ms/step - accuracy: 0.9429 - loss: 0.1568\n",
      "Epoch 66/80\n",
      "\u001b[1m99/99\u001b[0m \u001b[32m━━━━━━━━━━━━━━━━━━━━\u001b[0m\u001b[37m\u001b[0m \u001b[1m0s\u001b[0m 2ms/step - accuracy: 0.9429 - loss: 0.1556\n",
      "Epoch 67/80\n",
      "\u001b[1m99/99\u001b[0m \u001b[32m━━━━━━━━━━━━━━━━━━━━\u001b[0m\u001b[37m\u001b[0m \u001b[1m0s\u001b[0m 2ms/step - accuracy: 0.9430 - loss: 0.1544\n",
      "Epoch 68/80\n",
      "\u001b[1m99/99\u001b[0m \u001b[32m━━━━━━━━━━━━━━━━━━━━\u001b[0m\u001b[37m\u001b[0m \u001b[1m0s\u001b[0m 2ms/step - accuracy: 0.9430 - loss: 0.1532\n",
      "Epoch 69/80\n",
      "\u001b[1m99/99\u001b[0m \u001b[32m━━━━━━━━━━━━━━━━━━━━\u001b[0m\u001b[37m\u001b[0m \u001b[1m0s\u001b[0m 2ms/step - accuracy: 0.9429 - loss: 0.1522\n",
      "Epoch 70/80\n",
      "\u001b[1m99/99\u001b[0m \u001b[32m━━━━━━━━━━━━━━━━━━━━\u001b[0m\u001b[37m\u001b[0m \u001b[1m0s\u001b[0m 2ms/step - accuracy: 0.9429 - loss: 0.1511\n",
      "Epoch 71/80\n",
      "\u001b[1m99/99\u001b[0m \u001b[32m━━━━━━━━━━━━━━━━━━━━\u001b[0m\u001b[37m\u001b[0m \u001b[1m0s\u001b[0m 2ms/step - accuracy: 0.9429 - loss: 0.1502\n",
      "Epoch 72/80\n",
      "\u001b[1m99/99\u001b[0m \u001b[32m━━━━━━━━━━━━━━━━━━━━\u001b[0m\u001b[37m\u001b[0m \u001b[1m0s\u001b[0m 2ms/step - accuracy: 0.9428 - loss: 0.1492\n",
      "Epoch 73/80\n",
      "\u001b[1m99/99\u001b[0m \u001b[32m━━━━━━━━━━━━━━━━━━━━\u001b[0m\u001b[37m\u001b[0m \u001b[1m0s\u001b[0m 2ms/step - accuracy: 0.9428 - loss: 0.1484\n",
      "Epoch 74/80\n",
      "\u001b[1m99/99\u001b[0m \u001b[32m━━━━━━━━━━━━━━━━━━━━\u001b[0m\u001b[37m\u001b[0m \u001b[1m0s\u001b[0m 2ms/step - accuracy: 0.9428 - loss: 0.1475\n",
      "Epoch 75/80\n",
      "\u001b[1m99/99\u001b[0m \u001b[32m━━━━━━━━━━━━━━━━━━━━\u001b[0m\u001b[37m\u001b[0m \u001b[1m0s\u001b[0m 2ms/step - accuracy: 0.9426 - loss: 0.1467\n",
      "Epoch 76/80\n",
      "\u001b[1m99/99\u001b[0m \u001b[32m━━━━━━━━━━━━━━━━━━━━\u001b[0m\u001b[37m\u001b[0m \u001b[1m0s\u001b[0m 2ms/step - accuracy: 0.9426 - loss: 0.1459\n",
      "Epoch 77/80\n",
      "\u001b[1m99/99\u001b[0m \u001b[32m━━━━━━━━━━━━━━━━━━━━\u001b[0m\u001b[37m\u001b[0m \u001b[1m0s\u001b[0m 2ms/step - accuracy: 0.9427 - loss: 0.1452\n",
      "Epoch 78/80\n",
      "\u001b[1m99/99\u001b[0m \u001b[32m━━━━━━━━━━━━━━━━━━━━\u001b[0m\u001b[37m\u001b[0m \u001b[1m0s\u001b[0m 2ms/step - accuracy: 0.9427 - loss: 0.1445\n",
      "Epoch 79/80\n",
      "\u001b[1m99/99\u001b[0m \u001b[32m━━━━━━━━━━━━━━━━━━━━\u001b[0m\u001b[37m\u001b[0m \u001b[1m0s\u001b[0m 2ms/step - accuracy: 0.9426 - loss: 0.1438\n",
      "Epoch 80/80\n",
      "\u001b[1m99/99\u001b[0m \u001b[32m━━━━━━━━━━━━━━━━━━━━\u001b[0m\u001b[37m\u001b[0m \u001b[1m0s\u001b[0m 2ms/step - accuracy: 0.9426 - loss: 0.1432\n"
     ]
    },
    {
     "data": {
      "text/plain": [
       "<keras.src.callbacks.history.History at 0x783e3cb00910>"
      ]
     },
     "execution_count": 299,
     "metadata": {},
     "output_type": "execute_result"
    }
   ],
   "source": [
    "embedding_dim = 128\n",
    "word2vec = Word2Vec(vocab_size, embedding_dim)\n",
    "word2vec.compile(optimizer='adam',\n",
    "                 loss=tf.keras.losses.CategoricalCrossentropy(from_logits=True),\n",
    "                 metrics=['accuracy'])\n",
    "\n",
    "tensorboard_callback = tf.keras.callbacks.TensorBoard(log_dir=\"logs\")\n",
    "\n",
    "## TRAIN MODEL!\n",
    "word2vec.fit(dataset, epochs=80, callbacks=[tensorboard_callback])\n"
   ]
  },
  {
   "cell_type": "code",
   "execution_count": 300,
   "metadata": {},
   "outputs": [
    {
     "name": "stdout",
     "output_type": "stream",
     "text": [
      "[array([[-0.0082402 , -0.01329427,  0.04379666, ...,  0.02847764,\n",
      "        -0.03286812,  0.00471469],\n",
      "       [-0.4285182 , -0.4188351 , -0.21779372, ..., -0.13081902,\n",
      "         0.5675976 , -0.23294549],\n",
      "       [ 0.44109792, -0.08916605, -0.7102801 , ..., -0.11670022,\n",
      "        -0.04773828,  0.20705096],\n",
      "       ...,\n",
      "       [-0.10740773, -0.07029686, -0.25532085, ...,  0.38459933,\n",
      "         0.11952375, -0.2823604 ],\n",
      "       [ 0.3559356 ,  0.2777595 , -0.20183863, ..., -0.19113536,\n",
      "         0.29477447, -0.28345653],\n",
      "       [ 0.423261  , -0.10612626,  0.07722234, ...,  0.5100266 ,\n",
      "         0.2859404 ,  0.24841903]], dtype=float32)]\n"
     ]
    }
   ],
   "source": [
    "weights = word2vec.get_layer('w2v_embedding').get_weights()\n",
    "print(weights)"
   ]
  },
  {
   "cell_type": "code",
   "execution_count": 301,
   "metadata": {},
   "outputs": [
    {
     "data": {
      "text/plain": [
       "1"
      ]
     },
     "execution_count": 301,
     "metadata": {},
     "output_type": "execute_result"
    }
   ],
   "source": [
    "len(weights)"
   ]
  },
  {
   "cell_type": "markdown",
   "metadata": {},
   "source": [
    "## Take a look at some of the vectors\n",
    "\n",
    "TODO - describe in layman's terms what a vector is and why it's useful"
   ]
  },
  {
   "cell_type": "code",
   "execution_count": 302,
   "metadata": {},
   "outputs": [
    {
     "name": "stdout",
     "output_type": "stream",
     "text": [
      "[[-0.0082402  -0.01329427  0.04379666 ...  0.02847764 -0.03286812\n",
      "   0.00471469]\n",
      " [-0.4285182  -0.4188351  -0.21779372 ... -0.13081902  0.5675976\n",
      "  -0.23294549]\n",
      " [ 0.44109792 -0.08916605 -0.7102801  ... -0.11670022 -0.04773828\n",
      "   0.20705096]\n",
      " ...\n",
      " [-0.10740773 -0.07029686 -0.25532085 ...  0.38459933  0.11952375\n",
      "  -0.2823604 ]\n",
      " [ 0.3559356   0.2777595  -0.20183863 ... -0.19113536  0.29477447\n",
      "  -0.28345653]\n",
      " [ 0.423261   -0.10612626  0.07722234 ...  0.5100266   0.2859404\n",
      "   0.24841903]]\n"
     ]
    }
   ],
   "source": [
    "weights = word2vec.get_layer('w2v_embedding').get_weights()[0]\n",
    "print(weights)"
   ]
  },
  {
   "cell_type": "code",
   "execution_count": 303,
   "metadata": {},
   "outputs": [
    {
     "data": {
      "text/plain": [
       "(4096, 128)"
      ]
     },
     "execution_count": 303,
     "metadata": {},
     "output_type": "execute_result"
    }
   ],
   "source": [
    "weights.shape"
   ]
  },
  {
   "cell_type": "code",
   "execution_count": 304,
   "metadata": {},
   "outputs": [
    {
     "name": "stdout",
     "output_type": "stream",
     "text": [
      "['', '[UNK]', 'the', 'and', 'of', 'to', 'a', 'in', 'i', 'that', 'his', 'was', 'he', 'it', 'with', 'but', 'as', 'my', 'for', 'had', 'at', 'is', 'on', 'this', 'all', 'not', 'from', 'by', 'you', 'me', 'him', 'be', 'so', 'have', 'which', 'one', 'her', 'were', 'they', 'when', 'there', 'now', 'an', 'or', 'their', 'then', 'she', 'into', 'some', 'if', 'whale', 'out', 'would', 'no', 'up', 'been', 'more', 'we', 'are', 'like', 'what', 'upon', 'them', 'said', 'man', 'who', 'over', 'only', 'will', 'could', 'other', 'old', 'these', 'your', 'about', 'before', 'its', 'time', 'down', 'any', 'than', 'yet', 'do', 'very', 'did', 'such', 'after', 'little', 'still', 'long', 'first', 'those', 'though', 'again', 'two', 'ahab', 'most', 'see', 'ye', 'even', 'way', 'sea', 'must', 'while', 'seemed', 'ship', 'great', 'has', 'every', 'here', 'eyes', 'head', 'should', 'last', 'our', 'through', 'how', 'where', 'own', 'us', 'made', 'being', 'himself', 'back', 'never', '“i', 'may', 'might', 'much', 'can', 'away', 'came', 'white', 'ever', 'three', 'hand', 'day', 'thought', 'same', 'men', 'know', 'go', 'captain', 'say', 'well', 'life', 'too', 'night', 'come', 'round', 'just', 'off', 'almost', 'good', 'thou', 'room', 'saw', 'boat', 'many', 'found', 'without', 'whales', 'went', 'side', 'among', 'sperm', 'look', 'soon', 'father', 'thing', 'once', 'heard', 'am', 'something', 'towards', 'think', 'far', 'seen', 'stubb', 'moment', 'world', 'myself', 'door', 'against', 'get', 'hands', 'let', 'looked', 'each', 'whole', 'part', 'new', 'right', 'another', 'chapter', 'cried', 'shall', 'make', 'nor', 'thus', 'queequeg', 'place', 'nothing', 'air', 'don’t', 'under', 'gregor', 'few', 'things', 'take', 'water', 'sort', 'tell', 'face', 'called', 'heart', 'mind', 'turned', 'small', 'also', 'gatsby', 'left', 'body', 'because', 'between', 'tom', 'going', 'voice', 'sometimes', 'feet', 'deck', 'years', 'mr', 'light', 'starbuck', 'felt', 'along', 'house', 'around', 'full', 'death', 'always', 'poor', 'young', 'times', 'took', 'morning', 'got', 'why', 'began', 'indeed', 'half', 'sight', 'often', 'both', 'whose', 'end', 'stood', 'perhaps', 'days', 'sister', 'god', 'high', 'daisy', 'sun', 'knew', 'oh', 'however', 'boats', 'strange', 'open', 'feel', 'whom', 'crew', 'thy', 'lay', 'passed', 'till', 'thee', 'line', 'itself', 'mother', 'work', 'suddenly', 'bed', 'rather', 'present', 'give', 'put', 'it’s', 'next', 'whale’s', 'several', 'didn’t', 'pequod', 'home', 'dead', 'name', 'cannot', 'soul', 'until', 'near', 'hard', 'enough', 'black', 'sat', 'people', '“the', 'whether', 'word', 'within', 'sir', 'during', 'set', 'does', 'want', 'hold', 'hear', 'true', 'told', 'since', 'looking', 'least', 'friend', 'dark', 'became', 'words', 'human', 'better', 'whaling', 'wild', 'voyage', 'taken', 'he’s', 'having', 'alone', 'love', 'length', 'certain', 'together', 'standing', 'live', 'wind', 'therefore', 'matter', 'gave', 'arm', 'rest', 'done', 'stand', 'living', 'already', 'that’s', 'sound', 'gregor’s', 'eye', 'known', 'business', 'four', 'fish', 'find', 'deep', 'large', 'hour', 'seem', 'lost', 'slowly', 'reason', 'hope', 'land', 'course', 'beneath', 'gone', 'close', 'behind', 'short', 'seems', 'point', 'nature', '“you', 'seas', 'keep', 'instant', 'flask', 'asked', 'used', 'hours', 'call', 'idea', 'forward', 'fire', 'turn', 'sleep', 'brought', 'become', '“what', 'themselves', 'leg', 'hardly', 'family', 'speak', 'quite', 'nantucket', 'i’ll', 'five', 'case', 'best', 'aye', 'vast', 'thousand', 'sail', 'feelings', 'anything', 'across', 'table', 'remained', 'elizabeth', 'cabin', 'taking', 'dear', 'order', 'fell', 'creature', 'power', 'less', 'above', 'waters', 'ship’s', 'scene', 'leviathan', 'ground', 'ere', 'appeared', 'thoughts', 'sailor', 'oil', 'moby', 'lower', 'it”', 'iron', 'friends', 'earth', 'cold', 'ships', 'miserable', 'mine', 'i’m', 'general', 'country', 'book', 'blue', 'turning', 'quickly', 'forth', 'believe', 'ahab’s', '“and', 'really', 'held', 'girl', 'chief', 'although', 'others', 'nearly', 'mouth', 'kind', 'harpooneer', 'front', 'tail', 'second', 'ocean', 'manner', 'longer', 'form', 'fine', 'fact', 'various', 'there’s', 'kept', 'further', 'fear', 'everything', 'view', 'means', 'making', 'curious', 'blood', 'arms', 'stranger', 'story', 'monster', 'harpoon', 'followed', 'coming', 'run', 'read', 'hundred', 'gatsby’s', 'fellow', 'whalemen', 'placed', 'moved', 'jonah', 'green', 'given', 'board', 'straight', 'feeling', 'evening', 'dick', 'calm', 'broken', '“but', 'object', 'fixed', 'concerning', 'can’t', 'besides', '“oh', 'wonder', 'watch', 'wanted', 'natural', 'months', 'help', 'clear', 'bildad', 'arrived', 'waves', 'pip', 'peculiar', 'mate', 'man’s', 'jordan', 'ice', 'distance', 'despair', 'chase', 'wilson', 'use', 'ten', 'struck', 'mean', 'leave', 'entire', 'broad', 'wide', 'tried', 'sure', 'started', 'return', 'possible', 'opened', 'lord', 'heaven', 'goes', 'continued', 'peleg', 'especially', 'comes', 'chance', '“it', '“he', 'yes', 'window', 'town', 'sudden', 'saying', 'sailors', 'running', 'rose', 'purpose', 'mighty', 'middle', 'gentlemen', 'fishery', 'filled', 'else', 'certainly', 'bottom', 'below', 'whatever', 'vessel', 'teeth', 'state', 'person', 'particular', 'legs', 'leaving', 'joy', 'happy', 'grand', 'free', 'floor', 'entered', 'darkness', 'common', 'child', 'cause', 'answer', 'yourself', 'wood', 'single', 'misery', 'entirely', 'creatures', 'understand', 'food', 'fast', 'drew', 'cut', 'caught', 'car', 'suppose', 'steps', 'sky', 'silent', 'remember', 'ran', 'mrs', 'mark', 'happened', 'except', 'clerval', 'savage', 'none', 'noble', 'hair', 'english', 'either', 'cottage', 'account', 'toward', 'question', 'low', 'jaw', 'indian', 'immediately', 'horror', 'harpooneers', 'fresh', 'different', 'died', 'degree', 'beheld', 'aloft', 'year', 'wife', 'west', 'touching', 'tashtego', 'spirit', 'says', 'nevertheless', 'minute', 'ivory', 'island', 'happiness', 'devil', 'countenance', 'ago', 'truth', 'tears', 'sweet', 'spoke', 'rolled', 'returned', 'past', 'loved', 'late', 'justine', 'finally', 'die', 'carried', '“well', 'you”', 'wondrous', 'stop', 'resolved', 'pequod’s', 'mountains', 'money', 'learned', 'i’d', 'him”', 'doubt', 'craft', 'change', 'wasn’t', 'try', 'reached', 'pleasure', 'lived', 'i’ve', 'holding', 'getting', 'foot', 'delight', 'completely', 'bows', 'bear', 'attention', 'won’t', 'spot', 'somehow', 'sign', 'show', 'sharks', 'hot', 'de', 'care', 'answered', 'able', '“no', 'warm', 'walked', 'unknown', 'strong', 'strength', 'seeing', 'remain', 'ready', 'peace', 'pass', 'o’clock', 'mortal', 'met', 'lovely', 'instead', 'heads', 'felix', 'doing', 'discovered', 'cry', 'coffin', 'chair', 'affection', '…', 'yellow', 'weather', 'surface', 'stern', 'secret', 'pretty', 'parts', 'native', 'lips', 'letter', 'herself', 'hat', 'gold', 'formed', 'fair', 'drive', 'company', 'city', 'bright', 'beautiful', 'aspect', 'appearance', 'act', 'woman', 'talk', 'subject', 'spout', 'soft', 'silence', 'sharp', 'raised', 'quick', 'possessed', 'play', 'picture', 'knowledge', 'history', 'heavy', 'couldn’t', 'circumstances', 'art', 'afterwards', 'added', 'what’s', 'top', 'spring', 'seamen', 'received', 'ought', 'minutes', 'greatest', 'darted', 'complete', 'cast', 'broke', 'bones', 'beyond', '’em', 'visible', 'vain', 'spent', 'son', 'sailed', 'red', 'plainly', 'plain', 'perceived', 'nigh', 'move', 'mere', 'mad', 'glance', 'gentle', 'future', 'england', 'easy', 'brow', 'boy', 'afternoon', '“that', 'women', 'wake', 'trees', 'terrible', 'start', 'spirits', 'species', 'sitting', 'sides', 'seek', 'rope', 'rising', 'real', 'pull', 'makes', 'king', 'hung', 'enormous', 'continually', 'carpenter', 'beauty', 'wonderful', 'thick', 'sir”', 'sank', 'rain', 'previous', 'passage', 'parents', 'observed', 'leaning', 'later', 'lance', 'instantly', 'ill', 'following', 'fifty', 'famous', 'expression', 'engaged', 'east', 'drawing', 'covered', 'coat', 'bow', '“aye', 'wish', 'stopped', 'sought', 'shot', 'shore', 'sent', 'queer', 'miss', 'me”', 'meet', 'mates', 'mass', 'looks', 'lake', 'journey', 'inside', 'greater', 'fall', 'existence', 'conversation', 'chest', 'bone', 'beside', 'age', '“my', '“how', 'touch', 'thrown', 'summer', 'spread', 'skin', 'repeated', 'remains', 'pursuit', 'nose', 'moon', 'forecastle', 'fancy', 'early', 'desired', 'demanded', 'children', 'bound', 'boat’s', 'american', 'woe', 'wall', 'turns', 'thinking', 'seized', 'replied', 'proper', 'probably', 'pressed', 'occupied', 'oars', 'miles', 'man”', 'lie', 'leaves', 'knows', 'interest', 'grief', 'giving', 'forehead', 'exclaimed', 'duty', 'desire', 'circumstance', 'carry', 'cape', 'ask', 'aside', '“i’m', 'whaleman', 'unless', 'trying', 'third', 'sailing', 'pale', 'mild', 'meanwhile', 'killed', 'generally', 'garden', 'fiend', 'drawn', 'disappeared', 'coast', 'bulwarks', 'ancient', 'alive', '“come', 'upper', 'step', 'somewhere', 'smoke', 'sails', 'rushed', 'pushed', 'promise', 'presently', 'possibly', 'pleasant', 'period', 'otherwise', 'names', 'memory', 'lines', 'intervals', 'former', 'forget', 'father’s', 'events', 'enter', 'ears', 'dropped', 'daggoo', 'considerable', 'consider', 'clerk', 'brother', 'beat', '“it’s', '“do', 'youth', 'threw', 'there”', 'tale', 'speaking', 'somewhat', 'skeleton', 'six', 'shut', 'science', 'rage', 'now”', 'moving', 'hurried', 'huge', 'horrible', 'heat', 'grey', 'greenland', 'geneva', 'follow', 'flukes', 'flat', 'fate', 'evil', 'eternal', 'eat', 'dream', 'cook', 'burst', 'brain', 'baker', 'wouldn’t', 'watching', 'train', 'that”', 'swimming', 'substance', 'street', 'strangely', 'storm', 'shook', 'sensations', 'pointed', 'pacific', 'neck', 'necessary', 'midnight', 'merely', 'masthead', 'instances', 'hence', 'forced', 'final', 'figure', 'drop', 'considering', 'closed', 'boys', 'born', 'books', 'big', 'agony', 'wretched', 'windows', 'virtue', 'vengeance', 'tossed', 'thirty', 'supper', 'steelkilt', 'steady', 'stay', 'sit', 'shape', 'shadow', 'remembered', 'rapidly', 'pulled', 'presented', 'planks', 'pipe', 'paused', 'passing', 'pain', 'murderer', 'moments', 'meantime', 'lying', 'lives', 'letters', 'inquired', 'here”', 'heavens', 'hammock', 'glad', 'escape', 'endure', 'destroyed', 'companion', 'bulk', 'breath', 'blow', 'bit', 'beings', 'beginning', 'beach', 'ashore', 'anguish', '“this', 'twenty', 'thin', 'terror', 'suspended', 'solitary', 'sideways', 'seldom', 'rolling', 'regarded', 'number', 'loud', 'impossible', 'imagination', 'hull', 'grass', 'french', 'faces', 'extreme', 'expressed', 'exactly', 'egg', 'easily', 'courage', 'command', 'circle', 'bring', 'breeze', 'break', 'bent', 'allowed', 'according', '“why', 'wholly', 'whispered', 'task', 'surprised', 'supposed', 'superior', 'stands', 'slightly', 'slightest', 'seated', 'rigging', 'office', 'need', 'murder', 'melancholy', 'kindness', 'jet', 'hitherto', 'higher', 'force', 'flying', 'flew', 'fingers', 'expected', 'eight', 'effort', 'distant', 'dim', 'corner', 'changed', 'bodily', 'blind', 'bearing', 'altogether', 'ahead', '“there', 'york', 'wooden', 'waited', 'visit', 'unable', 'tree', 'thunder', 'surprise', 'study', 'steel', 'stars', 'st', 'spare', 'south', 'sounds', 'snow', 'sleeping', 'sense', 'save', 'samsa', 'sake', 'sad', 'revenge', 'quiet', 'quarterdeck', 'presence', 'pay', 'party', 'opposite', 'o', 'mastheads', 'mariners', 'led', 'leaned', 'latter', 'lady', 'interval', 'harpoons', 'hanging', 'hammer', 'girls', 'fully', 'employed', 'drink', 'deeply', 'dare', 'daisy’s', 'content', 'beloved', 'behold', 'bad', '“a', 'winds', 'week', 'violent', 'tall', 'takes', 'strike', 'sink', 'scenes', 'scarcely', 'rise', 'regular', 'reach', 'precisely', 'position', 'path', 'modern', 'mentioned', 'mast', 'loose', 'let’s', 'laugh', 'knowing', 'intense', 'hoisted', 'helm', 'gives', 'gay', 'gained', 'forgotten', 'floating', 'flesh', 'endeavoured', 'empty', 'd’ye', 'dreams', 'discovery', 'direction', 'dinner', 'difference', 'determined', 'departed', 'deadly', 'curiosity', 'couch', 'considered', 'caused', 'attached', 'appear', 'actually', '“what’s', '“look', 'you’re', 'yards', 'whenever', 'wet', 'utterly', 'truly', 'stretched', 'solemn', 'similar', 'showed', 'seat', 'rock', 'road', 'quietly', 'queequeg’s', 'pulling', 'profound', 'places', 'outside', 'orders', 'opening', 'neither', 'mountain', 'married', 'listen', 'lifted', 'leeward', 'kill', 'jaws', 'horn', 'hidden', 'henry', 'gentleman', 'gazing', 'fishermen', 'eyeing', 'excited', 'effect', 'dog', 'destruction', 'deeper', 'cutting', 'cousin', 'commanded', 'centre', 'base', 'alongside', 'aft', 'afraid', 'whiteness', 'weight', 'watery', 'touched', 'throw', 'talked', 'surrounded', 'sufficient', 'sport”', 'smile', 'rush', 'quitted', 'pursued', 'plan', 'partly', 'occurred', 'objects', 'oar', 'notice', 'nay', 'murdered', 'month', 'master', 'marked', 'madness', 'level', 'keel', 'invisible', 'hopes', 'hearts', 'health', 'hall', 'ha', 'grow', 'grew', 'golden', 'glory', 'gale', 'firm', 'experienced', 'enemy', 'ear', 'dutch', 'dressed', 'cool', 'clouds', 'breakfast', 'bore', 'blubber', 'bitter', 'believed', '“that’s', '“all', 'worse', 'winter', 'whaleboat', 'walking', 'wait', 'vessels', 'thinks', 'suffered', 'society', 'shoulder', 'shock', 'shipmates', 'season', 'rear', 'race', 'quit', 'quarter', 'port', 'passion', 'north', 'nearer', 'meant', 'lofty', 'kitchen', 'hump', 'horizon', 'hinted', 'hint', 'gods', 'glass', 'gigantic', 'garage', 'forms', 'fatal', 'excellent', 'eagerly', 'dust', 'dry', 'dignity', 'dart', 'dared', 'corpse', 'clothes', 'cases', 'awful', 'astern', 'approached', 'apparently', 'alas', 'advanced', '“i’ll', '“if', 'weeks', 'wants', 'village', 'victor', 'understood', 'troubled', 'swift', 'stubb’s', 'streets', 'someone', 'skull', 'silver', 'seven', 'royal', 'respect', 'progress', 'playing', 'overboard', 'noon', 'moreover', 'lively', 'lies', 'laughed', 'innocent', 'ideas', 'hunters', 'honor', 'hailed', 'gloom', 'game', 'furniture', 'forty', 'floated', 'fedallah', 'fail', 'explained', 'endured', 'dress', 'distinct', 'destroy', 'dashed', 'creation', 'concluded', 'clean', 'chiefly', 'carefully', 'burning', 'apart', 'advancing', 'acquainted', '“in', '“he’s', 'whaleship', 'visited', 'trembling', 'then”', 'sympathy', 'stove', 'stayed', 'spite', 'space', 'souls', 'somebody', 'slow', 'slid', 'signs', 'shouted', 'retired', 'putting', 'powers', 'pole', 'perils', 'owing', 'original', 'ones', 'noticed', 'negro', 'milk', 'masts', 'locked', 'lights', 'learn', 'language', 'lances', 'increased', 'important', 'hunt', 'helped', 'height', 'hadn’t', 'guess', 'gazed', 'fit', 'finished', 'fiery', 'event', 'draw', 'directly', 'crossed', 'cheerful', 'character', 'begin', 'aware', 'attempt', 'assured', 'affair', 'advance', 'addressed', '“yes', '“i’ve', '“don’t', 'wretch', 'worth', 'world’s', 'working', 'worked', 'woods', 'wolfshiem', 'wished', 'william', 'whale”', 'ways', 'walls', 'voices', 'urged', 'upright', 'unhappy', 'torn', 'talking', 'swung', 'stuff', 'sport', 'smoking', 'slight', 'shake', 'safie', 'regularly', 'proved', 'proceeded', 'precious', 'pity', 'pagan', 'muttered', 'music', 'mention', 'meaning', 'mankind', 'm', 'lot', 'lawn', 'law', 'landlord', 'laid', 'insisted', 'hunted', 'hell', 'hearing', 'hast', 'happen', 'grave', 'gradually', 'gain', 'finding', 'fight', 'encounter', 'drove', 'discover', 'difficulty', 'descried', 'crowd', 'cottagers', 'condition', 'colour', 'careful', 'captains', 'capable', 'calling', 'breaking', 'battle', 'asleep', 'anyone', 'animal', 'all”', 'agatha', '“who', '“she', 'yield', 'windward', 'windlass', 'whence', 'walk', 'vicinity', 'utmost', 'thyself', 'terrific', 'terms', 'telling', 'sprang', 'spend', 'solid', 'situation', 'simply', 'simple', 'sick', 'shoulders', 'separate', 'send', 'secure', 'repose', 'prove', 'produced', 'proceed', 'previously', 'prepared', 'pointing', 'please', 'overcome', 'ourselves', 'onto', 'officers', 'noise', 'nodded', 'news', 'needs', 'mounted', 'motion', 'michaelis', 'mainmast', 'magnitude', 'lowered', 'limbs', 'likewise', 'lighted', 'landed', 'lamp', 'lakeman', 'jumped', 'instance', 'innocence', 'ignorant', 'hole', 'here’s', 'hate', 'globe', 'glanced', 'fled', 'fin', 'fearful', 'familiar', 'faint', 'evinced', 'dragged', 'dozen', 'doubtless', 'divine', 'decks', 'danger', 'cursed', 'crossing', 'convinced', 'contrast', 'connected', 'conduct', 'captain’s', 'brave', 'apartment', 'anchor', '“we', '’tis', 'wound', 'whaler', 'violently', 'upwards', 'terrors', 'swiftly', 'swam', 'success', 'strongly', 'striking', 'sorts', 'smiled', 'scientific', 'row', 'romantic', 'rocks', 'river', 'returning', 'rendered', 'reflections', 'rate', 'quality', 'pursue', 'prow', 'practical', 'pleased', 'pieces', 'picked', 'papers', 'outer', 'ordinary', 'opinion', 'nice', 'nervous', 'named', 'mixed', 'marriage', 'marble', 'manners', 'malice', 'lightning', 'largest', 'lad', 'join', 'islands', 'invested', 'intended', 'inches', 'immense', 'immediate', 'holy', 'hideous', 'gunwale', 'frankenstein', 'fool', 'fly', 'fill', 'falling', 'fain', 'experience', 'example', 'enjoyed', 'elevated', 'direct', 'daughter', 'dat', 'cruising', 'continual', 'carrying', 'calmly', 'bought', 'billows', 'bestowed', 'belonged', 'bare', 'awoke', 'ain’t', 'ye”', 'whalers', 'wept', 'war', 'wandered', 'volume', 'violence', 'usual', 'unusual', 'unlike', 'uncommon', 'tormented', 'tore', 'toil', 'thrust', 'throwing', 'thousands', 'thereby', 'thank', 'surely', 'suggested', 'startled', 'starbuck’s', 'squall', 'speed', 'sorrow', 'sooner', 'shark', 'serious', 'rich', 'revealed', 'restored', 'removed', 'related', 'regard', 'reflection', 'reality', 'rapid', 'radney', 'private', 'precise', 'possession', 'piece', 'philosophy', 'pause', 'parsee', 'owners', 'out”', 'occasion', 'obliged', 'numerous', 'needed', 'nantucketer', 'nameless', 'movement', 'misfortune', 'minds', 'merchant', 'london', 'listening', 'lead', 'kings', 'key', 'keeping', 'job', 'jacket', 'interrupted', 'hollow', 'hills', 'he’ll', 'grown', 'grete', 'greatly', 'god’s', 'frequently', 'frame', 'fields', 'features', 'fallen', 'express', 'endless', 'enchanted', 'eating', 'eager', 'dying', 'dropping', 'doubloon', 'doors', 'directed', 'departure', 'dawn', 'contrary', 'conscience', 'companions', 'christian', 'casks', 'car”', 'canvas', 'brown', 'blessed', 'benevolent', 'atlantic', 'arrive', 'alarm', 'ah', 'ages', 'afford', 'accordingly', 'aboard', '“thou', '“now', 'yonder', 'wrong', 'wrinkled', 'wreck', 'works', 'wise', 'whereas', 'victim', 'valley', 'utter', 'uniform', 'unfortunate', 'twelve', 'tryworks', 'trunk', 'trouble', 'tremendous', 'tower', 'thine', 'theirs', 'swim', 'swear', 'swallowed', 'summit', 'suit', 'succeeded', 'strain', 'stiff', 'stared', 'spoken', 'spermaceti', 'solitude', 'sing', 'simultaneously', 'shaking', 'setting', 'see”', 'scuttle', 'rushing', 'roared', 'reflected', 'reading', 'quantity', 'prospect', 'prodigious', 'pride', 'porch', 'pocket', 'played', 'pilot', 'pictures', 'pair', 'pains', 'originally', 'officer', 'nights', 'myrtle', 'mist', 'misfortunes', 'marvellous', 'main', 'log', 'laughter', 'keen', 'judge', 'isn’t', 'ishmael', 'interesting', 'intention', 'impression', 'he’d', 'haven’t', 'gaze', 'fro', 'flames', 'flame', 'firmly', 'feels', 'favourite', 'everyone', 'escaped', 'equal', 'edge', 'driving', 'driven', 'dread', 'don', 'doctor', 'distinguished', 'devils', 'describe', 'demand', 'deemed', 'declared', 'dearest', 'damp', 'creator', 'crazy', 'consolation', 'closely', 'church', 'chicago', 'buchanan', 'bread', 'bedford', 'anywhere', 'amid', 'you’ll', 'worn', 'wonders', 'weary', 'watched', 'warmth', 'voyages', 'union', 'unaccountable', 'tomorrow', 'tomahawk', 'telephone', 'swinging', 'sunk', 'stroke', 'strained', 'stepped', 'starting', 'special', 'sounded', 'singing', 'sights', 'shadows', 'service', 'series', 'secured', 'satisfied', 'roll', 'ring', 'remarkable', 'remaining', 'refuse', 'reflect', 'recovered', 'receive', 'rare', 'raise', 'questions', 'promised', 'prey', 'pool', 'plenty', 'plank', 'persuade', 'perfectly', 'painted', 'on”', 'offered', 'obvious', 'murmured', 'motionless', 'missing', 'measure', 'matters', 'lowering', 'leviathans', 'labours', 'know”', 'jump', 'jolly', 'inserted', 'image', 'ii', 'husband', 'houses', 'host', 'hit', 'heaving', 'grasp', 'george', 'gently', 'gathered', 'furnished', 'frantic', 'foolish', 'flowers', 'fitted', 'field', 'faith', 'fairly', 'exceedingly', 'everybody', 'entering', 'ends', 'encountered', 'emotions', 'dæmon', 'drag', 'dost', 'dish', 'destiny', 'desert', 'descend', 'decided', 'deal', 'curse', 'crime', 'cries', 'confused', 'cheek', 'catch', 'carries', 'captured', 'cannibal', 'butler', 'bosom', 'bold', 'ashes', 'allow', 'agreed', '“you’re', '“when', '“not', '“i’d', '“is', 'written', 'write', 'wrapped', 'wherefore', 'vivid', 'vague', 'using', 'taste', 'sword', 'sweep', 'support', 'studies', 'straits', 'stout', 'starboard', 'stairs', 'square', 'split', 'smiles', 'sinking', 'silently', 'safety', 'roman', 'ribs', 'rested', 'remote', 'remorse', 'relieved', 'reference', 'receiving', 'rang', 'pulpit', 'porpoise', 'pockets', 'pitch', 'pick', 'perilous', 'perceive', 'parties', 'paid', 'other’s', 'oceans', 'occasionally', 'observe', 'oarsmen', 'nurse', 'northern', 'naturally', 'narrow', 'mother’s', 'mood', 'marks', 'lose', 'lonely', 'lo', 'listened', 'lee', 'laws', 'joined', 'isles', 'involuntarily', 'interior', 'intent', 'inn', 'inhabitants', 'ingolstadt', 'influence', 'indifferent', 'included', 'hunger', 'hue', 'horizontal', 'honest', 'hill', 'handle', 'guilty', 'glancing', 'german', 'gabriel', 'frightful', 'folio', 'foe', 'flight', 'finger', 'fears', 'feared', 'failed', 'ease', 'earthly', 'earnestly', 'dreadful', 'double', 'dogs', 'doesn’t', 'devoted', 'detail', 'desolate', 'degrees', 'dangerous', 'daily', 'critical', 'created', 'continue', 'consideration', 'confess', 'condemned', 'compass', 'closer', 'civilized', 'cheeks', 'charge', 'central', 'ceiling', 'busy', 'bringing', 'branches', 'borne', 'boots', 'blew', 'blasted', 'blast', 'blacksmith', 'bird', 'bestow', 'beef', 'bag', 'avoid', 'august', 'appalling', 'alarmed', 'admiration', 'additional', 'action', 'accompanied', '“good', 'wore', 'waiting', 'vice', 'vanished', 'usually', 'useless', 'unseen', 'united', 'uncertain', 'twice', 'trust', 'tranquillity', 'trace', 'tone', 'tackles', 'surprising', 'subsequent', 'sublime', 'stream', 'steward', 'station', 'spray', 'spouts', 'spine', 'southern', 'snowy', 'slept', 'shortly', 'she’s', 'settled', 'serene', 'sensation', 'seizing', 'search', 'resting', 'reserved', 'reply', 'remarked', 'remark', 'reasons', 'pumps', 'provided', 'prison', 'policeman', 'piled', 'physical', 'phantom', 'perth', 'peril', 'particularly', 'palms', 'oxford', 'noone', 'night”', 'mystic', 'mystery', 'mysterious', 'motions', 'meeting', 'mckee', 'lungs', 'loosefish', 'lesson', 'lean', 'leak', 'leading', 'latitudes', 'justice', 'judgment', 'irons', 'intensity', 'information', 'individual', 'inch', 'immortal', 'heavily', 'hated', 'hail', 'gliding', 'glided', 'fury', 'fore', 'fond', 'foam', 'flank', 'flag', 'fifteen', 'fever', 'fastfish', 'erect', 'enthusiasm', 'emotion', 'elephant', 'earnest', 'earlier', 'eagerness', 'dumb', 'drops', 'drawers', 'doom', 'domestic', 'desk', 'described', 'descended', 'cunning', 'crown', 'cross', 'contact', 'concern', 'conceived', 'commenced', 'commence', 'cloud', 'claim', 'circles', 'carved', 'birth', 'birds', 'bench', 'belong', 'becomes', 'attend', 'apparition', 'anybody', 'anxious', 'america', 'accustomed', 'absence', '“yes”', '“she’s', '“did', '“as', 'yours', 'yojo', 'yesterday', 'wretchedness', 'wilson’s', 'welcome', 'venerable', 'uttered', 'unearthly', 'understanding', 'twilight', 'tun', 'tumultuous', 'token', 'today', 'thirst', 'system', 'swept', 'sum', 'sufferings', 'suffer', 'stuck', 'straw', 'strangers', 'steadily', 'staring', 'source', 'sorry', 'snapped', 'sledge', 'size', 'sixty', 'shone', 'seeking', 'scattered', 'request', 'render', 'prophet', 'prolonged', 'points', 'plunged', 'planted', 'peaceful', 'passions', 'ordered', 'opportunity', 'offer', 'obtained', 'nine', 'mistake', 'majestic', 'magistrate', 'loss', 'loaded', 'latitude', 'ladies', 'labour', 'knife', 'isle', 'invariably', 'intently', 'iii', 'ignorance', 'idol', 'hurry', 'highly', 'hide', 'her”', 'herd', 'heave', 'goodbye', 'gloomy', 'glimpse', 'gatsby”', 'funny', 'funeral', 'frozen', 'freely', 'france', 'forming', 'fashion', 'explain', 'excitement', 'everlasting', 'enterprise', 'enjoy', 'duties', 'dull', 'drowned', 'doughboy', 'desperate', 'delighted', 'delay', 'darting', 'customary', 'crowded', 'crews', 'coward', 'constant', 'confusion', 'confidence', 'concealed', 'committed', 'college', 'collected', 'clearly', 'cheese', 'chased', 'chanced', 'catherine', 'canal', 'buried', 'boiling', 'blows', 'bitterly', 'binnacle', 'beware', 'beholding', 'begins', 'beating', 'bears', 'bay', 'barrels', 'backward', 'away”', 'aunt', 'attended', 'arrival', 'ardour', 'approach', 'animated', 'angel', 'amiable', 'agitation', 'again”', 'accident', 'abandoned', '“your', '“they', '“for', 'you’ve', 'yea', 'wrinkles', 'worthy', 'wicked', 'whereupon', 'whalebone', 'weep', 'wear', 'waved', 'wanting', 'vitality', 'valuable', 'usage', 'undertaking', 'turk', 'tub', 'towing', 'tossing', 'torture', 'tongue', 'they’re', 'temporary', 'tempest', 'tear', 'swell', 'supplied', 'sunset', 'sunrise', 'sufficiently', 'stretch', 'straightway', 'stone', 'speech', 'sounding', 'softly', 'social', 'smell', 'slave', 'shown', 'sheet', 'shed', 'served', 'self', 'seize', 'seemingly', 'scarce', 'say”', 'saved', 'safe', 'sadly', 'ruin', 'rooms', 'retreat', 'record', 'readily', 'reaching', 'queen', 'push', 'pure', 'proud', 'protectors', 'preceding', 'poured', 'pots', 'popular', 'pile', 'perpendicular', 'perfect', 'peculiarly', 'parted', 'overhead', 'oriental', 'nick', 'murmur', 'muffled', 'moonlight', 'monstrous', 'mistaken', 'mile', 'midst', 'men”', 'maybe', 'mariner', 'magic', 'loudly', 'lock', 'list', 'lightly', 'lift', 'lifeless', 'lest', 'leaping', 'leaped', 'leap', 'kissed', 'jonah’s', 'intolerable', 'intentions', 'infinite', 'indirectly', 'incident', 'hovel', 'horse', 'hoped', 'honour', 'highest', 'hesitated', 'hatred', 'happens', 'gratitude', 'ghost', 'frightened', 'fourth', 'flow', 'fetch', 'fathoms', 'false', 'faintly', 'faded', 'facts', 'external', 'exhausted', 'everywhere', 'elsewhere', 'element', 'drunk', 'doorway', 'disturbed', 'directions', 'depart', 'dancing', 'crimes', 'crawl', 'cover', 'copy', 'conceit', 'comfort', 'combined', 'clock', 'chains', 'century', 'ceased', 'cars', 'capture', 'calls', 'bursting', 'burn', 'burden', 'breathe', 'block', 'bless', 'belonging', 'banks', 'backs', 'awe', 'author', 'attracted', 'astonishment', 'assumed', 'arose', 'arabian', 'approaching', 'applied', 'ambergris', 'aloud', 'alike', 'affected', 'absolutely', 'absent', 'abhorred', '“very', '“mr', '“just', '“captain', '“at', 'younger', 'years’', 'withstand', 'wheel', 'we’ll', 'we’d', 'western', 'wave', 'violin', 'vapor', 'unnatural', 'uneasy', 'trial', 'trembled', 'traveller', 'tranquil', 'too”', 'tom’s', 'tiller', 'tied', 'throughout', 'tapering', 'swells', 'sweeping', 'supernatural', 'sunlight', 'sunday', 'subtle', 'subjects', 'structure', 'stick', 'steering', 'spars', 'spanish', 'sole', 'smaller', 'slipped', 'slain', 'skies', 'singular', 'significant', 'shuddering', 'shores', 'sensible', 'sell', 'secrets', 'scorn', 'sand', 'rude', 'rolls', 'right”', 'rib', 'result', 'remove', 'relief', 'refuge', 'recollection', 'recognised', 'pushing', 'public', 'properly', 'procure', 'priest', 'pretend', 'ponderous', 'politely', 'polar', 'patient', 'particulars', 'paper', 'panic', 'one’s', 'octavo', 'occur', 'occupations', 'oarsman', 'not”', 'notwithstanding', 'nearest', 'naught', 'narrative', 'naked', 'murderous', 'moody', 'mont', 'miseries', 'meat', 'mate’s', 'manned', 'lookouts', 'longed', 'lengthwise', 'leather', 'leagues', 'lantern', 'lads', 'ladder', 'knees', 'kirwin', 'insult', 'instrument', 'instinct', 'informed', 'infallibly', 'indispensable', 'inclined', 'incessantly', 'impatiently', 'imagined', 'howling', 'hovering', 'horses', 'hook', 'hoisting', 'ho', 'hither', 'herds', 'heaved', 'haunted', 'harsh', 'hardy', 'harbor', 'habit', 'guilt', 'guernseyman', 'grounds', 'generous', 'frost', 'foul', 'folds', 'flung', 'flowed', 'flash', 'fifth', 'fellows', 'favour', 'fatigue', 'fastened', 'fare', 'expressive', 'expect', 'ernest', 'equally', 'entrance', 'entitled', 'ended', 'endeavour', 'eh', 'dried', 'destined', 'despite', 'depths', 'dashing', 'dash', 'crushed', 'crawling', 'cracked', 'considerably', 'consciousness', 'conscious', 'conclusion', 'concerned', 'conceive', 'compassion', 'compared', 'commotion', 'comfortable', 'centuries', 'carpet', 'canst', 'buy', 'bunger', 'breast', 'box', 'blanket', 'blackness', 'benefit', 'bend', 'belly', 'begun', 'beg', 'basket', 'barbs', 'aught', 'ate', 'astonished', 'assure', 'argument', 'archangel', 'application', 'appears', 'anxiety', 'aid', 'agitated', 'afloat', 'advantage', 'admit', 'activity', 'accursed', 'accounts', '“there’s', '“one', '“are', 'yard', 'wrote', 'writing', 'wings', 'wine', 'wildly', 'who’s', 'wharf', 'welded', 'wealth', 'waste', 'warp', 'vocation', 'vital', 'virtues', 'virgin', 'up”', 'upstairs', 'unspeakable', 'uncle', 'triumph', 'track', 'to”', 'towns', 'totally', 'time”', 'thrusting', 'threatened', 'thee”', 'term', 'temporarily', 'temple', 'symbol', 'swore', 'suffering', 'stump', 'strove', 'striving', 'stripped', 'store', 'stopping', 'stock', 'spouting', 'spiritual', 'spell', 'sparkling', 'so”', 'sorrows', 'song', 'snowwhite', 'smooth', 'smells', 'sliding', 'slender', 'sleet', 'shroud', 'shows', 'shoes', 'shattered', 'sharply', 'shade', 'separated', 'senses', 'seeming', 'seasons', 'school', 'satisfy', 'rows', 'revolved', 'restless', 'resolution', 'report', 'remotest', 'remembrance', 'relieve', 'regret', 'raising', 'qualities', 'property', 'professor', 'prevent', 'prairie', 'polite', 'peering', 'peculiarities', 'pausing', 'paris', 'outward', 'odd', 'occupation', 'obviously', 'newspaper', 'needle', 'necessity', 'nations', 'nailed', 'movements', 'mortals', 'monomaniac', 'mediterranean', 'meal', 'material', 'match', 'mat', 'maid', 'luck', 'lodged', 'lip', 'library', 'knocking', 'kicked', 'john', 'issued', 'irresistible', 'invited', 'introduced', 'intimate', 'interested', 'intelligence', 'induced', 'incredible', 'including', 'impressions', 'impressed', 'imperial', 'impatient', 'imagine', 'illness', 'hussey', 'hurriedly', 'hunter', 'hundreds', 'horrors', 'hopeless', 'hereafter', 'helpless', 'hastily', 'harmless', 'hark', 'harder', 'guests', 'guest', 'growing', 'grim', 'grasped', 'go”', 'glorious', 'glittering', 'glistening', 'gentleness', 'forgot', 'forge', 'foreign', 'floats', 'fierce', 'farewell', 'fainted', 'extraordinary', 'extinguished', 'explanation', 'exhibited', 'exceeding', 'evidently', 'evidence', 'eventually', 'elijah', 'elapsed', 'dwelling', 'due', 'do”', 'downwards', 'dollars', 'divided', 'distinguish', 'distinctly', 'deprived', 'dense', 'den', 'delirium', 'deliberately', 'decision', 'dan', 'damned', 'dam', 'cup', 'cruel', 'crack', 'court', 'contained', 'consumed', 'consternation', 'consent', 'confined', 'confidential', 'concluding', 'conception', 'comrades', 'commander', 'colossal', 'coffee', 'cody', 'clumsy', 'cleared', 'christmas', 'choice', 'charm', 'chap', 'capstan', 'cap', 'built', 'bucket', 'brief', 'breathing', 'bowels', 'bowed', 'bodies', 'blinds', 'bible', 'becoming', 'barbaric', 'ball', 'awake', 'authority', 'astonishing', 'amount', 'ambition', 'alone”', 'ahab”', 'afternoon”', 'affectionate', 'affairs', 'advice', 'add', 'accounted', 'accidents', '“then', '“on', '“of', '“no”', '“have', '“go', 'yon', 'wrecked', 'worship', 'wont', 'witnesses', 'witness', 'wisdom', 'wire', 'wing', 'wilt', 'whilst', 'we’ve', 'we’re', 'waist', 'vigorous', 'veil', 'valiant', 'vainly', 'uses', 'uplifted', 'universal', 'unfamiliar', 'twisted', 'trowsers', 'travelling', 'transported', 'tired', 'tight', 'tide', 'throat', 'threat', 'thither', 'thence', 'thanks', 'tender', 'taught', 'tambourine', 'switzerland', 'survive', 'supply', 'superstitious', 'sunshine', 'submerged', 'strip', 'string', 'stricken', 'stole', 'steak', 'spilled', 'solemnly', 'soil', 'sober', 'snatched', 'snap', 'smallest', 'sloane', 'slide', 'skill', 'sixteen', 'shirt', 'shipped', 'shining', 'sheets', 'share', 'shame', 'shades', 'servants', 'sending', 'sea”', 'schools', 'saturday', 'salt', 'sacred', 'runs', 'rule', 'rowing', 'roused', 'ropes', 'roaring', 'retained', 'restore', 'respects', 'residence', 'resemblance', 'requires', 'religion', 'regions', 'regarding', 'refused', 'realised', 'ramadan', 'rail', 'quest', 'quaker', 'pursuing', 'pronounced', 'projecting', 'produce', 'procured', 'probable', 'principle', 'preserve', 'presents', 'powerful', 'poverty', 'portion', 'poles', 'plans', 'pitched', 'pine', 'phone', 'philosophers', 'personal', 'permitted', 'perform', 'perch', 'page', 'pacing', 'operation', 'one”', 'occasional', 'obtain', 'observing', 'obscure', 'notes', 'nostrils', 'nantucketers', 'mutual', 'multitude', 'mostly', 'mischief', 'mildly', 'methinks', 'mercy', 'measured', 'margaret', 'manxman', 'malignity', 'malicious', 'magnificent', 'lover', 'lit', 'lingered', 'liked', 'lifting', 'lid', 'lashed', 'landsmen', 'landing', 'knocked', 'kingpost', 'kick', 'june', 'japanese', 'irregular', 'involved', 'innumerable', 'inferior', 'incredulous', 'icy', 'hovered', 'hints', 'hid', 'helmsman', 'headsman', 'headed', 'harm', 'gush', 'grin', 'greek', 'grandeur', 'grace', 'goodness', 'god”', 'glowing', 'glasses', 'ghosts', 'ghastly', 'gate', 'gaining', 'furnish', 'friendship', 'friendly', 'fortitude', 'forever', 'flood', 'float', 'fleece', 'fins', 'finds', 'figures', 'fat', 'faithful', 'extremity', 'extremely', 'exist', 'exertion', 'exercise', 'exceed', 'examined', 'exact', 'equator', 'emerged', 'embraced', 'eluded', 'elephants', 'elements', 'dived', 'dismal', 'disappointment', 'direful', 'dimly', 'difficult', 'determination', 'detached', 'desolation', 'desires', 'design', 'deserted', 'descending', 'derived', 'derick', 'depth', 'delicate', 'deed', 'declare', 'daring', 'custom', 'crotch', 'criminal', 'crept', 'coupé', 'couple', 'convenient', 'consequence', 'coils', 'coiled', 'clinging', 'chosen', 'chin', 'cherish', 'cheer', 'chapel', 'chamber', 'certainty', 'celestial', 'cease', 'catching', 'careless', 'canoe', 'cannibals', 'candles', 'bottle', 'boldly', 'bill', 'bid', 'belongs', 'bedroom', 'baleen', 'autumn', 'attempted', 'attack', 'assist', 'articles', 'arguments', 'ardently', 'ardent', 'anxiously', 'anon', 'announced', 'anger', 'altered', 'albatross', 'afforded', 'address', 'active', 'accused', 'absorbed', 'abruptly', 'abroad', '“where', '“some', '“please', '‘i', 'you’d', 'wondered', 'widow', 'whisper', 'wherever', 'whereby', 'whaleships', 'whaleman’s', 'weighed', 'wearing', 'way”', 'waving', 'watches', 'wasted', 'warning', 'waldman', 'vision', 'verdure', 'veins', 'value', 'useful', 'unnecessary', 'unexpected', 'tubs', 'treated', 'travelled', 'travel', 'transparent', 'town”', 'townho', 'tow', 'tom”', 'timid', 'theory', 'tells', 'tea', 'symptoms', 'swing', 'swaying', 'sustained', 'suspicious', 'sullen', 'succeed', 'stubb”', 'struggling', 'stranded', 'stirred', 'steered', 'steer', 'stature', 'statement', 'stage', 'squeeze', 'spouthole', 'specific', 'spar', 'soothing', 'soothed', 'snatching', 'significance', 'signal', 'shudder', 'shooting', 'shivering', 'shivered', 'ship”', 'shipmate', 'severe', 'settle', 'servant', 'securing', 'seaman', 'screaming', 'score', 'savages', 'rods', 'rises', 'reward', 'revolving', 'resumed', 'required', 'relate', 'reel', 'recently', 'reasonable', 'rays', 'ranged', 'ragged', 'rack', 'quohog', 'published', 'probability', 'privilege', 'principal', 'presumed', 'preliminary', 'post', 'possess', 'polished', 'placing', 'pirates', 'pious', 'phrase', 'personally', 'perseus', 'perish', 'performed', 'perceiving', 'penetrate', 'pardon', 'paradise', 'painfully', 'painful', 'packed', 'paced', 'pace', 'obedience', 'nobody', 'nick”', 'neglected', 'needles', 'narwhale', 'mystical', 'mouths', 'mount', 'motives', 'moored', 'miserably', 'meets', 'materials', 'masses', 'march', 'mapple', 'lurked', 'lingering', 'limit', 'limb', 'levelled', 'leader', 'laying', 'lacey', 'krempe', 'jets', 'jay', 'japan', 'italian', 'introduction', 'insanity', 'injustice', 'inhabited', 'inexplicable', 'induce', 'indifference', 'independent', 'inasmuch', 'impulse', 'improvement', 'identical', 'hurrah', 'hunting', 'humanity', 'hum', 'hotel', 'horns', 'hoops', 'historical', 'hired', 'hey', 'heroes', 'hereby', 'hemp', 'helplessly', 'heavenly', 'hastened', 'harem', 'happening', 'hangs', 'hairs', 'guessed', 'grinning', 'grant', 'gorgeous', 'glances', 'ghostly', 'gets', 'gestures', 'genius', 'furious', 'frequent', 'fowls', 'fowl', 'fountain', 'founded', 'forwards', 'fortune', 'foremost', 'fluid', 'fits', 'fearless', 'fatality', 'fantastic', 'extent', 'exposed', 'excess', 'exasperated', 'entry', 'enjoyment', 'endeavouring', 'eighteen', 'effects', 'eastern', 'drifted', 'dreary', 'dreaded', 'dragging', 'downward', 'doubted', 'doomed', 'disturb', 'disdain', 'disappointed', 'didst', 'description', 'delicacy', 'daylight', 'dance', 'damn', 'curling', 'credit', 'create', 'countenances', 'cord', 'coolly', 'cooked', 'conveyed', 'convey', 'control', 'contrasting', 'contents', 'contemplated', 'containing', 'connection', 'confirmed', 'conducted', 'conclude', 'comprehend', 'complexion', 'completed', 'compasses', 'communicated', 'cleaner', 'china', 'chimney', 'charwoman', 'chances', 'chain', 'cask', 'cares', 'career', 'butter', 'burned', 'bunch', 'bull', 'brit', 'breadth', 'boss', 'blown', 'blanc', 'bitterness', 'biscuit', 'betrayed', 'berth', 'bellies', 'beget', 'beer', 'bade', 'backwards', 'attitude', 'atmosphere', 'ascended', 'armed', 'are”', 'arched', 'apprehension', 'apply', 'apple', 'apparent', 'angle', 'angels', 'amidst', 'accomplished', 'absolute', '“to', '“so', '“god', '“give', '“get', '“about', 'wounded', 'worried', 'wondering', 'wives', 'withdrawing', 'willingly', 'willing', 'wigwam', 'wherein', 'what”', 'whaleline', 'weeping', 'wedding', 'wears', 'weapons', 'weak', 'walks', 'visits', 'visions', 'vines', 'vigilance', 'viewed', 'vertebræ', 'velocity', 'vaguely', 'us”', 'unusually', 'universe', 'unfortunately', 'unconscious', 'uncommonly', 'um', 'ultimate', 'ugly', 'typhoon', 'tumult', 'tumbled', 'tragic', 'towed', 'tooth', 'tools', 'tongs', 'tones', 'toils', 'tip', 'throne', 'thrice', 'threads', 'this”', 'tempted', 'temper', 'taxi', 'tattooed', 'taffrail', 'tackle', 'swings', 'swiftness', 'swelled', 'swallow', 'sustain', 'suspicions', 'suspicion', 'suspected', 'surgeon', 'supported', 'sun’s', 'suggestion', 'subdued', 'studied', 'struggled', 'struggle', 'stranger’s', 'straining', 'storms', 'stories', 'stir', 'stark', 'star', 'squares', 'sprung', 'spinal', 'spectacle', 'spade', 'sold', 'sleepy', 'sleeper', 'skirts', 'sincerely', 'sin', 'shuddered', 'shout', 'shocked', 'shapes', 'seventy', 'serve', 'seriously', 'september', 'sebastian', 'scoresby', 'satisfaction', 'samuel', 'sacrifice', 'rumors', 'rod', 'rocky', 'rocking', 'rivers', 'rid', 'reveries', 'reverence', 'retain', 'representing', 'replaced', 'reminded', 'remainder', 'region', 'reduced', 'recalled', 'reasoning', 'ranging', 'quitting', 'prudent', 'protection', 'prospects', 'promising', 'proceeds', 'pressure', 'powder', 'portrait', 'popularly', 'police', 'plates', 'plate', 'plane', 'pistol', 'phantoms', 'persuaded', 'persons', 'persian', 'perpendicularly', 'permit', 'perished', 'perched', 'peleg”', 'peep', 'patience', 'park', 'palace', 'overwhelmed', 'organ', 'oppressed', 'operations', 'omnipotent', 'omitted', 'oldfashioned', 'older', 'off”', 'obliquely', 'obey', 'oath', 'numbers', 'note', 'neighbourhood', 'naturalists', 'nail', 'muscles', 'monkey', 'mode', 'mockery', 'mirror', 'miracle', 'mingled', 'millions', 'milky', 'mildness', 'midday', 'me’', 'men’s', 'mechanically', 'mechanical', 'measureless', 'mayhew', 'marvels', 'majesty', 'lurks', 'lurking', 'lunch', 'lucky', 'loving', 'loom', 'lone', 'likely', 'lighter', 'lifebuoy', 'leviathanic', 'letting', 'leisure', 'learning', 'leant', 'layer', 'lashing', 'largely', 'lap', 'lakes', 'knee', 'king’s', 'kindly', 'keeps', 'keels', 'jove', 'jordan’s', 'joppa', 'joke', 'jackknife', 'j', 'isolated', 'in”', 'instruments', 'inscrutable', 'injury', 'infinitely', 'infernal', 'infant', 'increasing', 'increase', 'incessant', 'incapable', 'improved', 'hurrying', 'horrid', 'homage', 'holds', 'hoist', 'he”', 'heidelburgh', 'hearty', 'hearse', 'hauled', 'haul', 'haughty', 'hatches', 'hasten', 'handkerchief', 'handed', 'hammered', 'gunwales', 'guided', 'guide', 'group', 'goin’', 'ginger', 'gatz', 'gather', 'gardens', 'fright', 'freedom', 'folded', 'flask’s', 'firmness', 'female', 'feeding', 'favourable', 'fancied', 'extra', 'execution', 'exclamation', 'excitedly', 'exchanged', 'examine', 'eternally', 'enveloped', 'entreat', 'enraged', 'energy', 'enemies', 'encountering', 'enabled', 'enable', 'elastic', 'education', 'eaten', 'earn', 'duodecimo', 'duke', 'dripping', 'drank', 'dive', 'distress', 'disposition', 'disgust', 'discoveries', 'disaster', 'diminished', 'diligently', 'dick”', 'devilish', 'derive', 'deformity', 'deepest', 'decline', 'decide', 'curtains', 'curiously', 'crying', 'crush', 'crawled', 'courses', 'corners', 'coral', 'cook”', 'contrivances', 'conscientious', 'connexion', 'congregation', 'confident', 'concentrated', 'conceal', 'composed', 'comply', 'comparatively', 'colours', 'coin', 'clung', 'choose', 'childhood', 'chauffeur', 'chat', 'chasing', 'charity', 'changing', 'champagne', 'chairs', 'cetology', 'ceremony', 'cave', 'causing', 'causes', 'casually', 'casual', 'capacity', 'can’st', 'candle', 'calculated', 'burnt', 'bubbles', 'brute', 'broom', 'briefly', 'brick', 'breaths', 'breathless', 'breakers', 'brains', 'bowsprit', 'bowsman', 'bowl', 'bounds', 'boundless', 'bolted', 'bloody', 'blindly', 'bleak', 'blazing', 'blank', 'blade', 'bits', 'bildad”', 'bethink', 'benevolence', 'belief', 'begged', 'before”', 'balancing', 'avast', 'authors', 'attentively', 'attending', 'army', 'apt', 'appearances', 'anyhow”', 'annoyed', 'animation', 'animals']\n",
      "4096\n"
     ]
    }
   ],
   "source": [
    "vocab = vectorize_layer.get_vocabulary()\n",
    "print(vocab)\n",
    "print(len(vocab))"
   ]
  },
  {
   "cell_type": "markdown",
   "metadata": {},
   "source": [
    "## Write the vocabulary and model weights (vectors) to a file"
   ]
  },
  {
   "cell_type": "code",
   "execution_count": 305,
   "metadata": {},
   "outputs": [],
   "source": [
    "out_v = io.open('book-vectors.tsv', 'w', encoding='utf-8')\n",
    "out_m = io.open('book-metadata.tsv', 'w', encoding='utf-8')\n",
    "\n",
    "for index, word in enumerate(vocab):\n",
    "  if index == 0:\n",
    "    continue  # skip 0, it's padding.\n",
    "  vec = weights[index]\n",
    "  out_v.write('\\t'.join([str(x) for x in vec]) + \"\\n\")\n",
    "  out_m.write(word + \"\\n\")\n",
    "out_v.close()\n",
    "out_m.close()\n"
   ]
  },
  {
   "cell_type": "markdown",
   "metadata": {},
   "source": [
    "## View the loss propagation in a Tensorboard Magic Cell\n",
    "\n",
    "TODO - describe why more epochs didn't yeild better results\n",
    "\n",
    "Photo of result:\n",
    "\n",
    "![Tensor Board Example](tensorboard.png)"
   ]
  },
  {
   "cell_type": "code",
   "execution_count": 306,
   "metadata": {},
   "outputs": [
    {
     "name": "stderr",
     "output_type": "stream",
     "text": [
      "UsageError: Line magic function `%tensorboard` not found.\n"
     ]
    }
   ],
   "source": [
    "%tensorboard --logdir logs"
   ]
  },
  {
   "cell_type": "markdown",
   "metadata": {},
   "source": [
    "## TODO - implement cosine-similarity and find most similar words here\n",
    "\n",
    "For now, load the weights here - https://projector.tensorflow.org/\n"
   ]
  }
 ],
 "metadata": {
  "kernelspec": {
   "display_name": ".venv",
   "language": "python",
   "name": "python3"
  },
  "language_info": {
   "codemirror_mode": {
    "name": "ipython",
    "version": 3
   },
   "file_extension": ".py",
   "mimetype": "text/x-python",
   "name": "python",
   "nbconvert_exporter": "python",
   "pygments_lexer": "ipython3",
   "version": "3.11.6"
  }
 },
 "nbformat": 4,
 "nbformat_minor": 2
}
